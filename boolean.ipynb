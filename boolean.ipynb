{
  "nbformat": 4,
  "nbformat_minor": 0,
  "metadata": {
    "colab": {
      "provenance": []
    },
    "kernelspec": {
      "name": "python3",
      "display_name": "Python 3"
    },
    "language_info": {
      "name": "python"
    }
  },
  "cells": [
    {
      "cell_type": "markdown",
      "source": [],
      "metadata": {
        "id": "HU3jhn_F27YM"
      }
    },
    {
      "cell_type": "code",
      "source": [
        "\n",
        "\n",
        "# SOLVED EXAMPLE\n",
        "# --------------\n",
        "# Question: Check if a number is both even and greater than 10\n",
        "print(\"SOLVED EXAMPLE:\")\n",
        "print(\"Check if a number is both even and greater than 10\")\n",
        "number = 16\n",
        "is_even = number % 2 == 0\n",
        "is_greater_than_10 = number > 10\n",
        "result = is_even and is_greater_than_10\n",
        "print(f\"Number: {number}\")\n",
        "print(f\"Is even: {is_even}\")\n",
        "print(f\"Is greater than 10: {is_greater_than_10}\")\n",
        "print(f\"Both conditions: {result}\")\n",
        "print(\"-\" * 50)"
      ],
      "metadata": {
        "colab": {
          "base_uri": "https://localhost:8080/"
        },
        "id": "KfM3hMCesgz2",
        "outputId": "02090424-9594-4354-b5b5-9dc2a9d14428"
      },
      "execution_count": null,
      "outputs": [
        {
          "output_type": "stream",
          "name": "stdout",
          "text": [
            "SOLVED EXAMPLE:\n",
            "Check if a number is both even and greater than 10\n",
            "Number: 16\n",
            "Is even: True\n",
            "Is greater than 10: True\n",
            "Both conditions: True\n",
            "--------------------------------------------------\n"
          ]
        }
      ]
    },
    {
      "cell_type": "code",
      "source": [
        "# ASSIGNMENT QUESTIONS\n",
        "# ================="
      ],
      "metadata": {
        "id": "3MbNhOZ6sgGz"
      },
      "execution_count": null,
      "outputs": []
    },
    {
      "cell_type": "code",
      "execution_count": null,
      "metadata": {
        "colab": {
          "base_uri": "https://localhost:8080/"
        },
        "id": "4fHFy7FMqrbl",
        "outputId": "f372ef5c-9739-4ece-f6bf-4ef7c0bcc0c0"
      },
      "outputs": [
        {
          "output_type": "stream",
          "name": "stdout",
          "text": [
            "Question 1: Check if 25 is greater than 20 and less than 30\n",
            "true\n"
          ]
        }
      ],
      "source": [
        "# Question 1: Check if 25 is greater than 20 and less than 30\n",
        "print(\"Question 1: Check if 25 is greater than 20 and less than 30\")\n",
        "# Your code here\n",
        "num=25\n",
        "if num>20 and num<30:\n",
        "  print(\"true\")\n",
        "else:\n",
        "  print(\"false\")"
      ]
    },
    {
      "cell_type": "code",
      "source": [
        "# Question 2: Check if string \"python\" is equal to \"Python\" (case sensitive)\n",
        "print(\"\\nQuestion 2: Check if string 'python' is equal to 'Python' (case sensitive)\")\n",
        "\n",
        "# Check equality (case-sensitive)\n",
        "result = \"python\" == \"Python\"\n",
        "\n",
        "# Print the result\n",
        "print(\"Is 'python' equal to 'Python'?\", result)"
      ],
      "metadata": {
        "colab": {
          "base_uri": "https://localhost:8080/"
        },
        "id": "3w9vdTWRxbIt",
        "outputId": "577dd44c-eb08-4eb2-eb86-e9fc62c68965"
      },
      "execution_count": null,
      "outputs": [
        {
          "output_type": "stream",
          "name": "stdout",
          "text": [
            "\n",
            "Question 2: Check if string 'python' is equal to 'Python' (case sensitive)\n",
            "Is 'python' equal to 'Python'? False\n"
          ]
        }
      ]
    },
    {
      "cell_type": "code",
      "source": [
        "# Question 3: Check if 15 is divisible by both 3 and 5\n",
        "print(\"\\nQuestion 3: Check if 15 is divisible by both 3 and 5\")\n",
        "# Check divisibility\n",
        "result = 15 % 3 == 0 and 15 % 5 == 0\n",
        "\n",
        "# Print the result\n",
        "print(\"Is 15 divisible by both 3 and 5?\", result)"
      ],
      "metadata": {
        "colab": {
          "base_uri": "https://localhost:8080/"
        },
        "id": "ACHJ8BY6xv_F",
        "outputId": "2923ef68-8d69-47b2-e92d-e02688258b6f"
      },
      "execution_count": null,
      "outputs": [
        {
          "output_type": "stream",
          "name": "stdout",
          "text": [
            "\n",
            "Question 3: Check if 15 is divisible by both 3 and 5\n",
            "Is 15 divisible by both 3 and 5? True\n"
          ]
        }
      ]
    },
    {
      "cell_type": "code",
      "source": [
        "# Question 4: Check if 7 is not equal to 8\n",
        "print(\"\\nQuestion 4: Check if 7 is not equal to 8\")\n",
        "\n",
        "# Check inequality\n",
        "result = 7 != 8\n",
        "\n",
        "# Print the result\n",
        "print(\"Is 7 not equal to 8?\", result)\n"
      ],
      "metadata": {
        "colab": {
          "base_uri": "https://localhost:8080/"
        },
        "id": "zoDH3Lfdx-lO",
        "outputId": "f48c65fc-2b52-4d90-f4fe-bc73586d2e62"
      },
      "execution_count": null,
      "outputs": [
        {
          "output_type": "stream",
          "name": "stdout",
          "text": [
            "\n",
            "Question 4: Check if 7 is not equal to 8\n",
            "Is 7 not equal to 8? True\n"
          ]
        }
      ]
    },
    {
      "cell_type": "code",
      "source": [
        "\n",
        "# Question 5: Check if 100 is greater than 50 or less than 25\n",
        "print(\"\\nQuestion 5: Check if 100 is greater than 50 or less than 25\")\n",
        "\n",
        "# Check condition\n",
        "result = 100 > 50 or 100 < 25\n",
        "\n",
        "# Print the result\n",
        "print(\"Is 100 > 50 or < 25?\", result)"
      ],
      "metadata": {
        "colab": {
          "base_uri": "https://localhost:8080/"
        },
        "id": "Q2y9yddAx-d7",
        "outputId": "7464a7ef-e76e-429a-aa9a-7093d96fc885"
      },
      "execution_count": null,
      "outputs": [
        {
          "output_type": "stream",
          "name": "stdout",
          "text": [
            "\n",
            "Question 5: Check if 100 is greater than 50 or less than 25\n",
            "Is 100 > 50 or < 25? True\n"
          ]
        }
      ]
    },
    {
      "cell_type": "code",
      "source": [
        "\n",
        "\n",
        "# Question 6: Check if 0 is falsy in Python\n",
        "print(\"\\nQuestion 6: Check if 0 is falsy in Python\")\n",
        "\n",
        "# Check if 0 is falsy\n",
        "result = not bool(0)\n",
        "\n",
        "# Print the result\n",
        "print(\"Is 0 falsy in Python?\", result)\n"
      ],
      "metadata": {
        "colab": {
          "base_uri": "https://localhost:8080/"
        },
        "id": "rY-rRzPI1VV8",
        "outputId": "b14fbd1f-da73-4309-c781-b3a24daa1f6b"
      },
      "execution_count": null,
      "outputs": [
        {
          "output_type": "stream",
          "name": "stdout",
          "text": [
            "\n",
            "Question 6: Check if 0 is falsy in Python\n",
            "Is 0 falsy in Python? True\n"
          ]
        }
      ]
    },
    {
      "cell_type": "code",
      "source": [
        "# Question 7: Check if empty string \"\" is falsy in Python\n",
        "print(\"\\nQuestion 7: Check if empty string '' is falsy in Python\")\n",
        "\n",
        "# Check if empty string is falsy\n",
        "result = not bool(\"\")\n",
        "\n",
        "# Print the result\n",
        "print(\"Is empty string '' falsy in Python?\", result)"
      ],
      "metadata": {
        "colab": {
          "base_uri": "https://localhost:8080/"
        },
        "id": "MK88a7BK1lZy",
        "outputId": "154fed8b-8873-40a7-a1ba-2a31480cca52"
      },
      "execution_count": null,
      "outputs": [
        {
          "output_type": "stream",
          "name": "stdout",
          "text": [
            "\n",
            "Question 7: Check if empty string '' is falsy in Python\n",
            "\n",
            "Question 7: Check if empty string '' is falsy in Python\n",
            "Is empty string '' falsy in Python? True\n"
          ]
        }
      ]
    },
    {
      "cell_type": "code",
      "source": [
        "# Question 8: Check if 42 is truthy in Python\n",
        "print(\"\\nQuestion 8: Check if 42 is truthy in Python\")\n",
        "\n",
        "# Check if 42 is truthy\n",
        "result = bool(42)\n",
        "\n",
        "# Print the result\n",
        "print(\"Is 42 truthy in Python?\", result)"
      ],
      "metadata": {
        "colab": {
          "base_uri": "https://localhost:8080/"
        },
        "id": "vyC3nlF11yrT",
        "outputId": "7ac16171-c487-4eec-da55-0b8200ac9cca"
      },
      "execution_count": null,
      "outputs": [
        {
          "output_type": "stream",
          "name": "stdout",
          "text": [
            "\n",
            "Question 8: Check if 42 is truthy in Python\n",
            "Is 42 truthy in Python? True\n"
          ]
        }
      ]
    },
    {
      "cell_type": "code",
      "source": [
        "# Question 9: Check if 10 is between 5 and 15 (inclusive)\n",
        "print(\"\\nQuestion 9: Check if 10 is between 5 and 15 (inclusive)\")\n",
        "\n",
        "# Check the condition\n",
        "result = 5 <= 10 <= 15\n",
        "\n",
        "# Print the result\n",
        "print(\"Is 10 between 5 and 15 (inclusive)?\", result)"
      ],
      "metadata": {
        "colab": {
          "base_uri": "https://localhost:8080/"
        },
        "id": "RHR0zmuE1ymM",
        "outputId": "b1488d81-d759-4d91-d483-c58b2db9d508"
      },
      "execution_count": null,
      "outputs": [
        {
          "output_type": "stream",
          "name": "stdout",
          "text": [
            "\n",
            "Question 9: Check if 10 is between 5 and 15 (inclusive)\n",
            "Is 10 between 5 and 15 (inclusive)? True\n"
          ]
        }
      ]
    },
    {
      "cell_type": "code",
      "source": [
        "# Question 10: Check if 3.14 is greater than 3 and less than 4\n",
        "print(\"\\nQuestion 10: Check if 3.14 is greater than 3 and less than 4\")\n",
        "\n",
        "# Check the condition\n",
        "result = 5 <= 10 <= 15\n",
        "\n",
        "# Print the result\n",
        "print(\"Is 10 between 5 and 15 (inclusive)?\", result)"
      ],
      "metadata": {
        "colab": {
          "base_uri": "https://localhost:8080/"
        },
        "id": "pYrZkhCo1ygy",
        "outputId": "8a12ae20-a79c-49d5-e1ed-6a39b8292898"
      },
      "execution_count": null,
      "outputs": [
        {
          "output_type": "stream",
          "name": "stdout",
          "text": [
            "\n",
            "Question 10: Check if 3.14 is greater than 3 and less than 4\n",
            "Is 10 between 5 and 15 (inclusive)? True\n"
          ]
        }
      ]
    },
    {
      "cell_type": "code",
      "source": [],
      "metadata": {
        "id": "r__6i7EJ1ydW"
      },
      "execution_count": null,
      "outputs": []
    }
  ]
}