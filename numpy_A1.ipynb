{
  "nbformat": 4,
  "nbformat_minor": 0,
  "metadata": {
    "colab": {
      "provenance": []
    },
    "kernelspec": {
      "name": "python3",
      "display_name": "Python 3"
    },
    "language_info": {
      "name": "python"
    }
  },
  "cells": [
    {
      "cell_type": "code",
      "execution_count": 1,
      "metadata": {
        "colab": {
          "base_uri": "https://localhost:8080/"
        },
        "id": "yturDaNO2V0v",
        "outputId": "37195d92-58d5-4b17-d627-41b500c19577"
      },
      "outputs": [
        {
          "output_type": "stream",
          "name": "stdout",
          "text": [
            "[[    1 25000   300  1200    10]\n",
            " [    2 32000   450  1500    15]\n",
            " [    3 28000   380  1100     8]\n",
            " [    4 41000   500  1600    20]\n",
            " [    5 35000   420  1400    12]\n",
            " [    6 27000   360  1300     9]\n",
            " [    7 39000   480  1700    18]\n",
            " [    8 30000   400  1250    14]\n",
            " [    9 45000   550  1800    25]\n",
            " [   10 33000   410  1450    11]]\n"
          ]
        }
      ],
      "source": [
        "import numpy as np\n",
        "retail_data = np.array([[ 1, 25000, 300, 1200, 10],\n",
        "    [2, 32000, 450, 1500, 15],\n",
        "    [3, 28000, 380, 1100, 8],\n",
        "    [4, 41000, 500, 1600, 20],\n",
        "    [5, 35000, 420, 1400, 12],\n",
        "    [6, 27000, 360, 1300, 9],\n",
        "    [7, 39000, 480, 1700, 18],\n",
        "    [8, 30000, 400, 1250, 14],\n",
        "    [9, 45000, 550, 1800, 25],\n",
        "    [10, 33000, 410, 1450, 11]])\n",
        "\n",
        "print(retail_data)"
      ]
    },
    {
      "cell_type": "code",
      "source": [
        "#1. What is the **total revenue** generated across all stores?\n",
        "retail_data[:,4].sum()"
      ],
      "metadata": {
        "colab": {
          "base_uri": "https://localhost:8080/"
        },
        "id": "XcoZ2LQyFP5n",
        "outputId": "543204ab-8201-4fb0-ec16-2a8c96a07e29"
      },
      "execution_count": 2,
      "outputs": [
        {
          "output_type": "execute_result",
          "data": {
            "text/plain": [
              "np.int64(142)"
            ]
          },
          "metadata": {},
          "execution_count": 2
        }
      ]
    },
    {
      "cell_type": "code",
      "source": [
        "#2. Which store recorded the **highest sales**?\n",
        "retail_data[:,1].argmax()+1"
      ],
      "metadata": {
        "colab": {
          "base_uri": "https://localhost:8080/"
        },
        "id": "U5ufGCNYFPwd",
        "outputId": "17dc82b6-195e-4b8b-fc49-8cc84e64c14d"
      },
      "execution_count": 3,
      "outputs": [
        {
          "output_type": "execute_result",
          "data": {
            "text/plain": [
              "np.int64(9)"
            ]
          },
          "metadata": {},
          "execution_count": 3
        }
      ]
    },
    {
      "cell_type": "code",
      "source": [
        "#3. Which store recorded the **lowest sales**?\n",
        "retail_data[:,1].argmin()+1\n"
      ],
      "metadata": {
        "colab": {
          "base_uri": "https://localhost:8080/"
        },
        "id": "lmDf0Qc8FPrJ",
        "outputId": "b0ca000d-72c3-49e1-cfa9-87cb24907b6d"
      },
      "execution_count": 4,
      "outputs": [
        {
          "output_type": "execute_result",
          "data": {
            "text/plain": [
              "np.int64(1)"
            ]
          },
          "metadata": {},
          "execution_count": 4
        }
      ]
    },
    {
      "cell_type": "code",
      "source": [
        "#3. Which store recorded the **lowest sales**?\n",
        "retail_data[:,1].argmin()+1\n"
      ],
      "metadata": {
        "colab": {
          "base_uri": "https://localhost:8080/"
        },
        "id": "Q9EhCaYiFPlP",
        "outputId": "21bc8d9d-5a2d-4cf2-81b2-39d5a49fc9d8"
      },
      "execution_count": 5,
      "outputs": [
        {
          "output_type": "execute_result",
          "data": {
            "text/plain": [
              "np.int64(1)"
            ]
          },
          "metadata": {},
          "execution_count": 5
        }
      ]
    },
    {
      "cell_type": "code",
      "source": [
        "#4. Which store recorded the **lowest sales**?\n",
        "retail_data[:,1].argmin()+1"
      ],
      "metadata": {
        "colab": {
          "base_uri": "https://localhost:8080/"
        },
        "id": "j-UXFWNXFPeg",
        "outputId": "1d6c45c9-ce83-4d91-ce2f-512f30212e41"
      },
      "execution_count": 6,
      "outputs": [
        {
          "output_type": "execute_result",
          "data": {
            "text/plain": [
              "np.int64(1)"
            ]
          },
          "metadata": {},
          "execution_count": 6
        }
      ]
    },
    {
      "cell_type": "code",
      "source": [
        "#5. How many stores achieved sales **above ₹35,000**?\n",
        "data = retail_data[:,1]\n",
        "data[data>35000]\n",
        "\n"
      ],
      "metadata": {
        "colab": {
          "base_uri": "https://localhost:8080/"
        },
        "id": "YsbHQ3GNFPXV",
        "outputId": "d1da4e12-de91-4d37-884d-61f243d9ce60"
      },
      "execution_count": 8,
      "outputs": [
        {
          "output_type": "execute_result",
          "data": {
            "text/plain": [
              "array([41000, 39000, 45000])"
            ]
          },
          "metadata": {},
          "execution_count": 8
        }
      ]
    },
    {
      "cell_type": "code",
      "source": [
        "#6. Which store had the **highest customer footfall**?\n",
        "retail_data[:,2].argmin()+1"
      ],
      "metadata": {
        "colab": {
          "base_uri": "https://localhost:8080/"
        },
        "id": "jDZAvvFUFPIz",
        "outputId": "92e7093f-e8b1-458f-f7d3-c9e2e81ebffb"
      },
      "execution_count": 9,
      "outputs": [
        {
          "output_type": "execute_result",
          "data": {
            "text/plain": [
              "np.int64(1)"
            ]
          },
          "metadata": {},
          "execution_count": 9
        }
      ]
    },
    {
      "cell_type": "code",
      "source": [
        "#7. What is the **average number of customers** per store?\n",
        "retail_data[:,2].sum()/10"
      ],
      "metadata": {
        "colab": {
          "base_uri": "https://localhost:8080/"
        },
        "id": "pQkn9PCMHpYe",
        "outputId": "0352d50c-ee6e-465f-db8b-a5b5ad8dbce8"
      },
      "execution_count": 10,
      "outputs": [
        {
          "output_type": "execute_result",
          "data": {
            "text/plain": [
              "np.float64(425.0)"
            ]
          },
          "metadata": {},
          "execution_count": 10
        }
      ]
    },
    {
      "cell_type": "code",
      "source": [
        "#8. How many stores have **more than 450 customers**?\n",
        "data = retail_data[:,2]\n",
        "data[data>450]"
      ],
      "metadata": {
        "colab": {
          "base_uri": "https://localhost:8080/"
        },
        "id": "tBo6nvDoHpVH",
        "outputId": "894ef8b5-5f5d-4f44-b3b9-17e6fe4be844"
      },
      "execution_count": 11,
      "outputs": [
        {
          "output_type": "execute_result",
          "data": {
            "text/plain": [
              "array([500, 480, 550])"
            ]
          },
          "metadata": {},
          "execution_count": 11
        }
      ]
    },
    {
      "cell_type": "code",
      "source": [
        "#9. Which store has the **lowest customer count**?\n",
        "retail_data[:,2].argmin()+1\n"
      ],
      "metadata": {
        "colab": {
          "base_uri": "https://localhost:8080/"
        },
        "id": "4nmffxMeHpSb",
        "outputId": "94bd2342-e48d-4e55-8fab-eb09a8612f59"
      },
      "execution_count": 12,
      "outputs": [
        {
          "output_type": "execute_result",
          "data": {
            "text/plain": [
              "np.int64(1)"
            ]
          },
          "metadata": {},
          "execution_count": 12
        }
      ]
    },
    {
      "cell_type": "code",
      "source": [
        "#10. Is there any store where **high sales do not correspond to high customers**?\n",
        "sal = retail_data[:,1].mean()\n",
        "cus = retail_data[:,2].mean()\n",
        "mis = retail_data[(retail_data[:,1]>sal)&(retail_data[:,2]<cus)]\n",
        "mis\n"
      ],
      "metadata": {
        "colab": {
          "base_uri": "https://localhost:8080/"
        },
        "id": "ibeSfTUKHpOP",
        "outputId": "0338417d-2c0d-4a3a-a9e9-1c7c156ba0b6"
      },
      "execution_count": 13,
      "outputs": [
        {
          "output_type": "execute_result",
          "data": {
            "text/plain": [
              "array([[    5, 35000,   420,  1400,    12]])"
            ]
          },
          "metadata": {},
          "execution_count": 13
        }
      ]
    },
    {
      "cell_type": "code",
      "source": [
        "#11. What is the **total inventory** across all stores?\n",
        "retail_data[:,3].sum()"
      ],
      "metadata": {
        "colab": {
          "base_uri": "https://localhost:8080/"
        },
        "id": "lCECWacFHpHq",
        "outputId": "6389e62b-d51c-4ca7-f4cc-68fc6f0ef49d"
      },
      "execution_count": 14,
      "outputs": [
        {
          "output_type": "execute_result",
          "data": {
            "text/plain": [
              "np.int64(14300)"
            ]
          },
          "metadata": {},
          "execution_count": 14
        }
      ]
    },
    {
      "cell_type": "code",
      "source": [
        "#12. Which store has the **highest inventory stock**?\n",
        "retail_data[:,3].argmax()+1"
      ],
      "metadata": {
        "colab": {
          "base_uri": "https://localhost:8080/"
        },
        "id": "jtMdDRNUINxV",
        "outputId": "4506b3fa-4fa3-4b70-d104-5b3c35779736"
      },
      "execution_count": 15,
      "outputs": [
        {
          "output_type": "execute_result",
          "data": {
            "text/plain": [
              "np.int64(9)"
            ]
          },
          "metadata": {},
          "execution_count": 15
        }
      ]
    },
    {
      "cell_type": "code",
      "source": [
        "#13. How many stores have **inventory less than 1300 units**?\n",
        "data = retail_data[:,3]\n",
        "data[data<1300]"
      ],
      "metadata": {
        "colab": {
          "base_uri": "https://localhost:8080/"
        },
        "id": "rED_1xbfINt3",
        "outputId": "1645085a-4c8e-432f-980d-1db1b6619b00"
      },
      "execution_count": 16,
      "outputs": [
        {
          "output_type": "execute_result",
          "data": {
            "text/plain": [
              "array([1200, 1100, 1250])"
            ]
          },
          "metadata": {},
          "execution_count": 16
        }
      ]
    },
    {
      "cell_type": "code",
      "source": [
        "#14. Which store has the **highest return rate** (returns ÷ inventory)?\n",
        "data = retail_data[:,4]/retail_data[:,3].argmax()+1\n",
        "data"
      ],
      "metadata": {
        "colab": {
          "base_uri": "https://localhost:8080/"
        },
        "id": "cLsgtkz7INrw",
        "outputId": "f9cdbe1f-be74-485d-9177-e822acbe9ec2"
      },
      "execution_count": 17,
      "outputs": [
        {
          "output_type": "execute_result",
          "data": {
            "text/plain": [
              "array([2.25 , 2.875, 2.   , 3.5  , 2.5  , 2.125, 3.25 , 2.75 , 4.125,\n",
              "       2.375])"
            ]
          },
          "metadata": {},
          "execution_count": 17
        }
      ]
    },
    {
      "cell_type": "code",
      "source": [
        "#15. Which stores have **returns greater than 15 units**?\n",
        "data = retail_data[retail_data[:,4]>15]\n",
        "data"
      ],
      "metadata": {
        "colab": {
          "base_uri": "https://localhost:8080/"
        },
        "id": "YXp8Q4WMIvyc",
        "outputId": "6b57b2bf-f989-407f-8f9c-efc335d2f12a"
      },
      "execution_count": 18,
      "outputs": [
        {
          "output_type": "execute_result",
          "data": {
            "text/plain": [
              "array([[    4, 41000,   500,  1600,    20],\n",
              "       [    7, 39000,   480,  1700,    18],\n",
              "       [    9, 45000,   550,  1800,    25]])"
            ]
          },
          "metadata": {},
          "execution_count": 18
        }
      ]
    },
    {
      "cell_type": "code",
      "source": [
        "#16. Is there a **positive correlation** between sales and customers?\n"
      ],
      "metadata": {
        "id": "hK4mRTdGIvoj"
      },
      "execution_count": null,
      "outputs": []
    },
    {
      "cell_type": "code",
      "source": [
        "#17. Which store has **high customer visits but low sales**?\n",
        "cus = retail_data[:,2].mean()\n",
        "sal = retail_data[:,1].mean()\n",
        "data = retail_data[(retail_data[:,2]>cus)&(retail_data[:,1]<sal)]\n",
        "data"
      ],
      "metadata": {
        "colab": {
          "base_uri": "https://localhost:8080/"
        },
        "id": "rD_MqaGRIvlM",
        "outputId": "46c52ebd-8b65-4c33-8a2a-d9f6fb55aaa2"
      },
      "execution_count": 19,
      "outputs": [
        {
          "output_type": "execute_result",
          "data": {
            "text/plain": [
              "array([[    2, 32000,   450,  1500,    15]])"
            ]
          },
          "metadata": {},
          "execution_count": 19
        }
      ]
    },
    {
      "cell_type": "code",
      "source": [
        "#18. Which store has **low customers but high sales**?\n",
        "cus = retail_data[:,2].mean()\n",
        "sal = retail_data[:,1].mean()\n",
        "data = retail_data[(retail_data[:,2]<cus)&(retail_data[:,1]>sal)]\n",
        "data"
      ],
      "metadata": {
        "colab": {
          "base_uri": "https://localhost:8080/"
        },
        "id": "d_-5l6RpIvis",
        "outputId": "03a9747e-2ef2-41b9-8d01-7321da307dff"
      },
      "execution_count": 20,
      "outputs": [
        {
          "output_type": "execute_result",
          "data": {
            "text/plain": [
              "array([[    5, 35000,   420,  1400,    12]])"
            ]
          },
          "metadata": {},
          "execution_count": 20
        }
      ]
    },
    {
      "cell_type": "code",
      "source": [
        "#19. How many stores have **sales per customer above ₹90**?\n",
        "customer = retail_data[:,1] / retail_data[:,2]\n",
        "new = np.sum(customer>90)\n",
        "new"
      ],
      "metadata": {
        "colab": {
          "base_uri": "https://localhost:8080/"
        },
        "id": "bTzeC45bIvgU",
        "outputId": "31b413a5-23d1-4745-ba8b-0cffce627460"
      },
      "execution_count": 21,
      "outputs": [
        {
          "output_type": "execute_result",
          "data": {
            "text/plain": [
              "np.int64(0)"
            ]
          },
          "metadata": {},
          "execution_count": 21
        }
      ]
    },
    {
      "cell_type": "code",
      "source": [
        "#20. Which stores could **benefit from customer acquisition campaigns** (low customers, high inventory)?"
      ],
      "metadata": {
        "id": "og0tSMsNJG6U"
      },
      "execution_count": null,
      "outputs": []
    },
    {
      "cell_type": "code",
      "source": [
        "#21. If profit margin is **20% of sales**, what is the **profit per store**?\n",
        "data = 0.20 * retail_data[:,1]\n",
        "data"
      ],
      "metadata": {
        "colab": {
          "base_uri": "https://localhost:8080/"
        },
        "id": "8PS9V9nSJG21",
        "outputId": "2e718b7e-5a44-49f0-8233-2f288937d683"
      },
      "execution_count": 22,
      "outputs": [
        {
          "output_type": "execute_result",
          "data": {
            "text/plain": [
              "array([5000., 6400., 5600., 8200., 7000., 5400., 7800., 6000., 9000.,\n",
              "       6600.])"
            ]
          },
          "metadata": {},
          "execution_count": 22
        }
      ]
    },
    {
      "cell_type": "code",
      "source": [
        "#22. Which store has the **highest profit**?\n",
        "(retail_data[:,1]*0.20).argmax()+1"
      ],
      "metadata": {
        "colab": {
          "base_uri": "https://localhost:8080/"
        },
        "id": "taM-15xMJG0i",
        "outputId": "19d2a77c-18ab-4a26-aa66-738cd61ad0af"
      },
      "execution_count": 23,
      "outputs": [
        {
          "output_type": "execute_result",
          "data": {
            "text/plain": [
              "np.int64(9)"
            ]
          },
          "metadata": {},
          "execution_count": 23
        }
      ]
    },
    {
      "cell_type": "code",
      "source": [],
      "metadata": {
        "id": "bFPooY5rJGyG"
      },
      "execution_count": null,
      "outputs": []
    },
    {
      "cell_type": "markdown",
      "source": [],
      "metadata": {
        "id": "2wJP29pPJTbb"
      }
    },
    {
      "cell_type": "code",
      "source": [
        "#23. Which store has the **lowest profit**?\n",
        "(retail_data[:,1]*0.20).argmin()+1"
      ],
      "metadata": {
        "colab": {
          "base_uri": "https://localhost:8080/"
        },
        "id": "mno5iNE9JUPh",
        "outputId": "55de5232-c46e-49de-acf8-8b59d83c234a"
      },
      "execution_count": 24,
      "outputs": [
        {
          "output_type": "execute_result",
          "data": {
            "text/plain": [
              "np.int64(1)"
            ]
          },
          "metadata": {},
          "execution_count": 24
        }
      ]
    },
    {
      "cell_type": "code",
      "source": [
        "#24. If sales increase by **10% next month**, what are the **new sales figures**?\n",
        "(retail_data[:,1]*0.10)"
      ],
      "metadata": {
        "colab": {
          "base_uri": "https://localhost:8080/"
        },
        "id": "A_li_EHSJUpQ",
        "outputId": "f56f18d4-92d4-48b4-9189-d56b156237d0"
      },
      "execution_count": 25,
      "outputs": [
        {
          "output_type": "execute_result",
          "data": {
            "text/plain": [
              "array([2500., 3200., 2800., 4100., 3500., 2700., 3900., 3000., 4500.,\n",
              "       3300.])"
            ]
          },
          "metadata": {},
          "execution_count": 25
        }
      ]
    },
    {
      "cell_type": "code",
      "source": [
        "#25. How will **total profit** change with the 10% sales increase?\n",
        "(retail_data[:,1]*0.10) + retail_data[:,1]"
      ],
      "metadata": {
        "colab": {
          "base_uri": "https://localhost:8080/"
        },
        "id": "-NaCPlXXJUl4",
        "outputId": "19c4821f-d12f-4d55-bfe2-d1575ee09920"
      },
      "execution_count": 26,
      "outputs": [
        {
          "output_type": "execute_result",
          "data": {
            "text/plain": [
              "array([27500., 35200., 30800., 45100., 38500., 29700., 42900., 33000.,\n",
              "       49500., 36300.])"
            ]
          },
          "metadata": {},
          "execution_count": 26
        }
      ]
    },
    {
      "cell_type": "code",
      "source": [
        "#26. Which stores need **inventory restocking** based on sales and current stock?\n",
        "sal = retail_data[:,1].mean()\n",
        "ret = retail_data[:,4].mean()\n",
        "data = retail_data[(retail_data[:,1]>sal) > (retail_data[:,4]>ret)]\n",
        "data"
      ],
      "metadata": {
        "colab": {
          "base_uri": "https://localhost:8080/"
        },
        "id": "OgYLj89jJUjt",
        "outputId": "e2b9fa88-8d30-4d94-b660-d65ba633318c"
      },
      "execution_count": 27,
      "outputs": [
        {
          "output_type": "execute_result",
          "data": {
            "text/plain": [
              "array([[    5, 35000,   420,  1400,    12]])"
            ]
          },
          "metadata": {},
          "execution_count": 27
        }
      ]
    },
    {
      "cell_type": "code",
      "source": [
        "#27. Which stores show **high returns percentage** and might require **quality checks**?\n",
        "aver = retail_data[:,4].mean()\n",
        "res = retail_data[(retail_data[:,4] >aver)]\n",
        "res"
      ],
      "metadata": {
        "colab": {
          "base_uri": "https://localhost:8080/"
        },
        "id": "hpWFJnetJUWH",
        "outputId": "837b0b00-67df-4c63-e14a-affc9859c8c2"
      },
      "execution_count": 28,
      "outputs": [
        {
          "output_type": "execute_result",
          "data": {
            "text/plain": [
              "array([[    2, 32000,   450,  1500,    15],\n",
              "       [    4, 41000,   500,  1600,    20],\n",
              "       [    7, 39000,   480,  1700,    18],\n",
              "       [    9, 45000,   550,  1800,    25]])"
            ]
          },
          "metadata": {},
          "execution_count": 28
        }
      ]
    },
    {
      "cell_type": "code",
      "source": [
        "#28. Which store is the **best performer overall** (sales, customers, inventor\n",
        "inventory_turnover = retail_data[:, 1] / retail_data[:, 4]\n",
        "\n",
        "sales_norm = (retail_data[:, 1] - retail_data[:, 1].min()) / (retail_data[:, 1].max() - retail_data[:, 1].min())\n",
        "customers_norm = (retail_data[:, 2] - retail_data[:, 2].min()) / (retail_data[:, 2].max() - retail_data[:, 2].min())\n",
        "turnover_norm = (inventory_turnover - inventory_turnover.min()) / (inventory_turnover.max() - inventory_turnover.min())\n",
        "\n",
        "# Composite score (equal weights)\n",
        "overall = sales_norm + customers_norm + turnover_norm\n",
        "\n",
        "# Find best performer\n",
        "best_index = np.argmax(overall)\n",
        "best_store = retail_data[best_index]\n",
        "\n",
        "print(f\"Best performer overall: Store ID {int(best_store[0])}\")\n",
        "print(f\"Sales: {best_store[1]}, Customers: {best_store[2]}, Inventory: {best_store[4]}\")"
      ],
      "metadata": {
        "colab": {
          "base_uri": "https://localhost:8080/"
        },
        "id": "0RrzQV_YJjIn",
        "outputId": "af20fa2f-4ae2-443d-f32b-487a542f9dfe"
      },
      "execution_count": 29,
      "outputs": [
        {
          "output_type": "stream",
          "name": "stdout",
          "text": [
            "Best performer overall: Store ID 9\n",
            "Sales: 45000, Customers: 550, Inventory: 25\n"
          ]
        }
      ]
    },
    {
      "cell_type": "code",
      "source": [
        "#29. Which store is the **worst performer overall**?\n",
        "inventory_turnover = retail_data[:, 1] / retail_data[:, 4]\n",
        "\n",
        "# Normalize metrics (min-max scaling)\n",
        "sales_norm = (retail_data[:, 1] - retail_data[:, 1].min()) / (retail_data[:, 1].max() - retail_data[:, 1].min())\n",
        "customers_norm = (retail_data[:, 2] - retail_data[:, 2].min()) / (retail_data[:, 2].max() - retail_data[:, 2].min())\n",
        "turnover_norm = (inventory_turnover - inventory_turnover.min()) / (inventory_turnover.max() - inventory_turnover.min())\n",
        "\n",
        "# Composite score (equal weights)\n",
        "overall_score = sales_norm + customers_norm + turnover_norm\n",
        "\n",
        "# Find worst performer\n",
        "worst_index = np.argmin(overall_score)\n",
        "worst_store = retail_data[worst_index]\n",
        "\n",
        "print(f\"Worst performer overall: Store ID {int(worst_store[0])}\")\n",
        "print(f\"Sales: {worst_store[1]}, Customers: {worst_store[2]}, Inventory: {worst_store[4]}\")"
      ],
      "metadata": {
        "colab": {
          "base_uri": "https://localhost:8080/"
        },
        "id": "hpaoS_41JjC_",
        "outputId": "bb4d9c59-7d59-47c9-c926-dd9c1d5792de"
      },
      "execution_count": 30,
      "outputs": [
        {
          "output_type": "stream",
          "name": "stdout",
          "text": [
            "Worst performer overall: Store ID 1\n",
            "Sales: 25000, Customers: 300, Inventory: 10\n"
          ]
        }
      ]
    },
    {
      "cell_type": "code",
      "source": [
        "#30. Which stores can be considered for **expansion** based on strong sales and customer metrics?\n",
        "\n",
        "sal = retail_data[:,1].mean()\n",
        "cus = retail_data[:,2].mean()\n",
        "data = retail_data[(retail_data[:,1]>sal)&(retail_data[:,2]>cus)]\n",
        "data"
      ],
      "metadata": {
        "colab": {
          "base_uri": "https://localhost:8080/"
        },
        "id": "4EJ27sFSJi_d",
        "outputId": "6edca645-9650-4876-fc26-bcbffe422a88"
      },
      "execution_count": 31,
      "outputs": [
        {
          "output_type": "execute_result",
          "data": {
            "text/plain": [
              "array([[    4, 41000,   500,  1600,    20],\n",
              "       [    7, 39000,   480,  1700,    18],\n",
              "       [    9, 45000,   550,  1800,    25]])"
            ]
          },
          "metadata": {},
          "execution_count": 31
        }
      ]
    },
    {
      "cell_type": "code",
      "source": [],
      "metadata": {
        "id": "JPrpYqO4Ji8u"
      },
      "execution_count": null,
      "outputs": []
    },
    {
      "cell_type": "code",
      "source": [],
      "metadata": {
        "id": "5H855BKEJi6U"
      },
      "execution_count": null,
      "outputs": []
    },
    {
      "cell_type": "code",
      "source": [],
      "metadata": {
        "id": "wdPitL-6Ji4U"
      },
      "execution_count": null,
      "outputs": []
    }
  ]
}