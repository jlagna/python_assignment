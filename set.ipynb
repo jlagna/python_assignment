{
  "nbformat": 4,
  "nbformat_minor": 0,
  "metadata": {
    "colab": {
      "provenance": []
    },
    "kernelspec": {
      "name": "python3",
      "display_name": "Python 3"
    },
    "language_info": {
      "name": "python"
    }
  },
  "cells": [
    {
      "cell_type": "code",
      "execution_count": 1,
      "metadata": {
        "colab": {
          "base_uri": "https://localhost:8080/"
        },
        "id": "Zgun-0-83K26",
        "outputId": "b6e78025-549c-43ce-f366-5f3d1564e8a9"
      },
      "outputs": [
        {
          "output_type": "stream",
          "name": "stdout",
          "text": [
            "\n",
            "Question 10: Find the average of numbers in tuple (15, 23, 31, 42, 56, 78)\n",
            "Average: 40.833333333333336\n"
          ]
        }
      ],
      "source": [
        "print(\"\\nQuestion 10: Find the average of numbers in tuple (15, 23, 31, 42, 56, 78)\")\n",
        "\n",
        "# Given tuple\n",
        "numbers = (15, 23, 31, 42, 56, 78)\n",
        "\n",
        "# Calculate average\n",
        "average = sum(numbers) / len(numbers)\n",
        "\n",
        "# Print the result\n",
        "print(\"Average:\", average)\n",
        ""
      ]
    },
    {
      "cell_type": "code",
      "source": [
        "# Question 1: Create a set of first 10 natural numbers\n",
        "print(\"Question 1: Create a set of first 10 natural numbers\")\n",
        "# Your code here\n",
        "\n",
        "# Creating the set\n",
        "natural_numbers = set(range(1, 11))\n",
        "\n",
        "# Printing the set\n",
        "print(natural_numbers)"
      ],
      "metadata": {
        "colab": {
          "base_uri": "https://localhost:8080/"
        },
        "id": "rXDc2S6R3rWC",
        "outputId": "9c592aa8-3470-4d88-e69d-fb1cad73c1eb"
      },
      "execution_count": 2,
      "outputs": [
        {
          "output_type": "stream",
          "name": "stdout",
          "text": [
            "Question 1: Create a set of first 10 natural numbers\n",
            "{1, 2, 3, 4, 5, 6, 7, 8, 9, 10}\n"
          ]
        }
      ]
    },
    {
      "cell_type": "code",
      "source": [
        "# Question 2: Add element 11 to set {1, 2, 3, 4, 5}\n",
        "print(\"\\nQuestion 2: Add element 11 to set {1, 2, 3, 4, 5}\")\n",
        "# Your code here\n",
        "\n",
        "# Given set\n",
        "s = {1, 2, 3, 4, 5}\n",
        "\n",
        "# Adding element 11\n",
        "s.add(11)\n",
        "\n",
        "# Printing the updated set\n",
        "print(s)\n"
      ],
      "metadata": {
        "colab": {
          "base_uri": "https://localhost:8080/"
        },
        "id": "lOyfA6LL3rSm",
        "outputId": "cc7f847b-91b9-4ab0-8606-ecc88478dab2"
      },
      "execution_count": 3,
      "outputs": [
        {
          "output_type": "stream",
          "name": "stdout",
          "text": [
            "\n",
            "Question 2: Add element 11 to set {1, 2, 3, 4, 5}\n",
            "{1, 2, 3, 4, 5, 11}\n"
          ]
        }
      ]
    },
    {
      "cell_type": "code",
      "source": [
        "# Question 3: Remove element 3 from set {1, 2, 3, 4, 5, 6}\n",
        "print(\"\\nQuestion 3: Remove element 3 from set {1, 2, 3, 4, 5, 6}\")\n",
        "# Your code here\n",
        "\n",
        "# Given set\n",
        "s = {1, 2, 3, 4, 5, 6}\n",
        "\n",
        "# Removing element 3\n",
        "s.remove(3)\n",
        "\n",
        "# Printing the updated set\n",
        "print(s)"
      ],
      "metadata": {
        "colab": {
          "base_uri": "https://localhost:8080/"
        },
        "id": "ouNwr0wz3rP8",
        "outputId": "13b358b0-19fc-4dc5-c7f6-b48819d5593f"
      },
      "execution_count": 4,
      "outputs": [
        {
          "output_type": "stream",
          "name": "stdout",
          "text": [
            "\n",
            "Question 3: Remove element 3 from set {1, 2, 3, 4, 5, 6}\n",
            "{1, 2, 4, 5, 6}\n"
          ]
        }
      ]
    },
    {
      "cell_type": "code",
      "source": [
        "# Question 4: Find the intersection of {1, 2, 3, 4, 5} and {4, 5, 6, 7, 8}\n",
        "print(\"\\nQuestion 4: Find the intersection of {1, 2, 3, 4, 5} and {4, 5, 6, 7, 8}\")\n",
        "# Your code here\n",
        "\n",
        "# Given sets\n",
        "set1 = {1, 2, 3, 4, 5}\n",
        "set2 = {4, 5, 6, 7, 8}\n",
        "\n",
        "# Finding the intersection\n",
        "intersection = set1.intersection(set2)\n",
        "\n",
        "# Printing the result\n",
        "print(intersection)\n"
      ],
      "metadata": {
        "colab": {
          "base_uri": "https://localhost:8080/"
        },
        "id": "hyRdvCmv3rMV",
        "outputId": "79bf3498-3e80-4c21-f616-3783c528f9cd"
      },
      "execution_count": 5,
      "outputs": [
        {
          "output_type": "stream",
          "name": "stdout",
          "text": [
            "\n",
            "Question 4: Find the intersection of {1, 2, 3, 4, 5} and {4, 5, 6, 7, 8}\n",
            "{4, 5}\n"
          ]
        }
      ]
    },
    {
      "cell_type": "code",
      "source": [
        "# Question 5: Find the difference between {1, 2, 3, 4, 5} and {4, 5, 6, 7, 8}\n",
        "print(\"\\nQuestion 5: Find the difference between {1, 2, 3, 4, 5} and {4, 5, 6, 7, 8}\")\n",
        "# Your code here\n",
        "\n",
        "# Given sets\n",
        "set1 = {1, 2, 3, 4, 5}\n",
        "set2 = {4, 5, 6, 7, 8}\n",
        "\n",
        "# Finding the difference\n",
        "difference = set1.difference(set2)\n",
        "\n",
        "# Printing the result\n",
        "print(difference)"
      ],
      "metadata": {
        "colab": {
          "base_uri": "https://localhost:8080/"
        },
        "id": "9kx7N3l83rKk",
        "outputId": "4a8ce5ec-9d78-4a07-8f8f-cbb450729b2b"
      },
      "execution_count": 6,
      "outputs": [
        {
          "output_type": "stream",
          "name": "stdout",
          "text": [
            "\n",
            "Question 5: Find the difference between {1, 2, 3, 4, 5} and {4, 5, 6, 7, 8}\n",
            "{1, 2, 3}\n"
          ]
        }
      ]
    },
    {
      "cell_type": "code",
      "source": [
        "# Question 6: Check if 5 is in set {1, 2, 3, 4, 6, 7, 8}\n",
        "print(\"\\nQuestion 6: Check if 5 is in set {1, 2, 3, 4, 6, 7, 8}\")\n",
        "\n",
        "# Given set\n",
        "s = {1, 2, 3, 4, 6, 7, 8}\n",
        "\n",
        "# Check if 5 is in the set\n",
        "is_five_in_set = 5 in s\n",
        "\n",
        "# Print the result\n",
        "print(is_five_in_set)\n"
      ],
      "metadata": {
        "colab": {
          "base_uri": "https://localhost:8080/"
        },
        "id": "dDyhBOQZ3rIL",
        "outputId": "c6fb7499-2be5-43f7-9154-97f612a42729"
      },
      "execution_count": 7,
      "outputs": [
        {
          "output_type": "stream",
          "name": "stdout",
          "text": [
            "\n",
            "Question 6: Check if 5 is in set {1, 2, 3, 4, 6, 7, 8}\n",
            "False\n"
          ]
        }
      ]
    },
    {
      "cell_type": "code",
      "source": [
        "# Question 7: Find the length of set {'a', 'b', 'c', 'd', 'e'}\n",
        "print(\"\\nQuestion 7: Find the length of set {'a', 'b', 'c', 'd', 'e'}\")\n",
        "# Your code hereprint(\"\\nQuestion 7: Find the length of set {'a', 'b', 'c', 'd', 'e'}\")\n",
        "\n",
        "# Given set\n",
        "s = {'a', 'b', 'c', 'd', 'e'}\n",
        "\n",
        "# Finding the length\n",
        "length = len(s)\n",
        "\n",
        "# Printing the result\n",
        "print(\"Length of the set:\", length)"
      ],
      "metadata": {
        "colab": {
          "base_uri": "https://localhost:8080/"
        },
        "id": "E8GeNmft3rGC",
        "outputId": "e81f7408-ce86-4b91-cd5e-eab3ab3ae093"
      },
      "execution_count": 8,
      "outputs": [
        {
          "output_type": "stream",
          "name": "stdout",
          "text": [
            "\n",
            "Question 7: Find the length of set {'a', 'b', 'c', 'd', 'e'}\n",
            "Length of the set: 5\n"
          ]
        }
      ]
    },
    {
      "cell_type": "code",
      "source": [
        "# Question 8: Create a set of vowels from string \"hello world\"\n",
        "print(\"\\nQuestion 8: Create a set of vowels from string 'hello world'\")\n",
        "\n",
        "# Given string\n",
        "text = \"hello world\"\n",
        "\n",
        "# Set of vowels\n",
        "vowels = {'a', 'e', 'i', 'o', 'u'}\n",
        "\n",
        "# Creating set of vowels found in the string\n",
        "vowels_in_text = set(char for char in text if char in vowels)\n",
        "\n",
        "# Printing the result\n",
        "print(\"Vowels in the string:\", vowels_in_text)"
      ],
      "metadata": {
        "colab": {
          "base_uri": "https://localhost:8080/"
        },
        "id": "wodYwx9p3rDq",
        "outputId": "02513a69-75a6-480e-f955-c020761bbb4c"
      },
      "execution_count": 9,
      "outputs": [
        {
          "output_type": "stream",
          "name": "stdout",
          "text": [
            "\n",
            "Question 8: Create a set of vowels from string 'hello world'\n",
            "Vowels in the string: {'o', 'e'}\n"
          ]
        }
      ]
    },
    {
      "cell_type": "code",
      "source": [
        "# Question 9: Remove duplicates from list [1, 2, 2, 3, 4, 4, 5, 6, 6, 7] using set\n",
        "print(\"\\nQuestion 9: Remove duplicates from list [1, 2, 2, 3, 4, 4, 5, 6, 6, 7] using set\")\n",
        "\n",
        "# Given list with duplicates\n",
        "numbers = [1, 2, 2, 3, 4, 4, 5, 6, 6, 7]\n",
        "\n",
        "# Removing duplicates using set\n",
        "unique_numbers = set(numbers)\n",
        "\n",
        "# Printing the result\n",
        "print(\"Unique numbers:\", unique_numbers)"
      ],
      "metadata": {
        "colab": {
          "base_uri": "https://localhost:8080/"
        },
        "id": "rN1FN6MK3rBk",
        "outputId": "e50d61ae-713c-47f8-e982-e779c14b77a6"
      },
      "execution_count": 10,
      "outputs": [
        {
          "output_type": "stream",
          "name": "stdout",
          "text": [
            "\n",
            "Question 9: Remove duplicates from list [1, 2, 2, 3, 4, 4, 5, 6, 6, 7] using set\n",
            "Unique numbers: {1, 2, 3, 4, 5, 6, 7}\n"
          ]
        }
      ]
    },
    {
      "cell_type": "code",
      "source": [
        "# Question 10: Check if {1, 2, 3} is a subset of {1, 2, 3, 4, 5, 6}\n",
        "print(\"\\nQuestion 10: Check if {1, 2, 3} is a subset of {1, 2, 3, 4, 5, 6}\")\n",
        "\n",
        "# Define the sets\n",
        "small_set = {1, 2, 3}\n",
        "large_set = {1, 2, 3, 4, 5, 6}\n",
        "\n",
        "# Check if small_set is a subset of large_set\n",
        "is_subset = small_set.issubset(large_set)\n",
        "\n",
        "# Print the result\n",
        "print(\"Is {1, 2, 3} a subset of {1, 2, 3, 4, 5, 6}?\", is_subset)"
      ],
      "metadata": {
        "colab": {
          "base_uri": "https://localhost:8080/"
        },
        "id": "bosx03oF3q_e",
        "outputId": "ea0bbe09-6ff0-4b02-f289-fb9381190a14"
      },
      "execution_count": 11,
      "outputs": [
        {
          "output_type": "stream",
          "name": "stdout",
          "text": [
            "\n",
            "Question 10: Check if {1, 2, 3} is a subset of {1, 2, 3, 4, 5, 6}\n",
            "Is {1, 2, 3} a subset of {1, 2, 3, 4, 5, 6}? True\n"
          ]
        }
      ]
    }
  ]
}