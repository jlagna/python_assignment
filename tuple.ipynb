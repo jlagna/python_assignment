{
  "nbformat": 4,
  "nbformat_minor": 0,
  "metadata": {
    "colab": {
      "provenance": []
    },
    "kernelspec": {
      "name": "python3",
      "display_name": "Python 3"
    },
    "language_info": {
      "name": "python"
    }
  },
  "cells": [
    {
      "cell_type": "code",
      "execution_count": 2,
      "metadata": {
        "colab": {
          "base_uri": "https://localhost:8080/"
        },
        "id": "cRsgoysB5ANz",
        "outputId": "18c2bf5d-4003-4112-e95e-9568c5782c09"
      },
      "outputs": [
        {
          "output_type": "stream",
          "name": "stdout",
          "text": [
            "SOLVED EXAMPLE:\n",
            "Find the sum and product of all elements in a tuple\n",
            "Tuple: (2, 4, 6, 8, 10)\n",
            "Sum: 30\n",
            "Product: 3840\n",
            "--------------------------------------------------\n"
          ]
        }
      ],
      "source": [
        "# Question: Find the sum and product of all elements in a tuple\n",
        "print(\"SOLVED EXAMPLE:\")\n",
        "print(\"Find the sum and product of all elements in a tuple\")\n",
        "numbers = (2, 4, 6, 8, 10)\n",
        "sum_tuple = sum(numbers)\n",
        "product = 1\n",
        "for num in numbers:\n",
        "    product *= num\n",
        "print(f\"Tuple: {numbers}\")\n",
        "print(f\"Sum: {sum_tuple}\")\n",
        "print(f\"Product: {product}\")\n",
        "print(\"-\" * 50)"
      ]
    },
    {
      "cell_type": "code",
      "source": [
        "# Question 1: Create a tuple of first 10 natural numbers\n",
        "print(\"Question 1: Create a tuple of first 10 natural numbers\")\n",
        "\n",
        "# Creating the tuple\n",
        "natural_numbers = tuple(range(1, 11))\n",
        "\n",
        "# Printing the tuple\n",
        "print(natural_numbers)"
      ],
      "metadata": {
        "colab": {
          "base_uri": "https://localhost:8080/"
        },
        "id": "gx77aCjE51CM",
        "outputId": "06886be7-754f-4083-c7b2-6d76b889d205"
      },
      "execution_count": 3,
      "outputs": [
        {
          "output_type": "stream",
          "name": "stdout",
          "text": [
            "Question 1: Create a tuple of first 10 natural numbers\n",
            "(1, 2, 3, 4, 5, 6, 7, 8, 9, 10)\n"
          ]
        }
      ]
    },
    {
      "cell_type": "code",
      "source": [
        "# Question 2: Find the length of tuple (1, 2, 3, 4, 5, 6, 7, 8, 9, 10)\n",
        "print(\"\\nQuestion 2: Find the length of tuple (1, 2, 3, 4, 5, 6, 7, 8, 9, 10)\")\n",
        "\n",
        "# Given tuple\n",
        "t = (1, 2, 3, 4, 5, 6, 7, 8, 9, 10)\n",
        "\n",
        "# Finding the length\n",
        "length = len(t)\n",
        "\n",
        "# Printing the length\n",
        "print(\"Length of the tuple:\", length)"
      ],
      "metadata": {
        "colab": {
          "base_uri": "https://localhost:8080/"
        },
        "id": "k_P-z5XT50-m",
        "outputId": "7dc860f3-0934-4b6e-c4ec-c844eae7bd0c"
      },
      "execution_count": 4,
      "outputs": [
        {
          "output_type": "stream",
          "name": "stdout",
          "text": [
            "\n",
            "Question 2: Find the length of tuple (1, 2, 3, 4, 5, 6, 7, 8, 9, 10)\n",
            "Length of the tuple: 10\n"
          ]
        }
      ]
    },
    {
      "cell_type": "code",
      "source": [
        "# Question 3: Access the 3rd element from tuple ('a', 'b', 'c', 'd', 'e')\n",
        "print(\"\\nQuestion 3: Access the 3rd element from tuple ('a', 'b', 'c', 'd', 'e')\")\n",
        "\n",
        "# Given tuple\n",
        "t = ('a', 'b', 'c', 'd', 'e')\n",
        "\n",
        "# Accessing the 3rd element (index 2)\n",
        "third_element = t[2]\n",
        "\n",
        "# Printing the 3rd element\n",
        "print(\"3rd element:\", third_element)"
      ],
      "metadata": {
        "colab": {
          "base_uri": "https://localhost:8080/"
        },
        "id": "9njxCDzq508g",
        "outputId": "c1c90bb5-b386-43e1-8c2a-2a5164111683"
      },
      "execution_count": 5,
      "outputs": [
        {
          "output_type": "stream",
          "name": "stdout",
          "text": [
            "\n",
            "Question 3: Access the 3rd element from tuple ('a', 'b', 'c', 'd', 'e')\n",
            "3rd element: c\n"
          ]
        }
      ]
    },
    {
      "cell_type": "code",
      "source": [
        "# Question 4: Find the maximum value in tuple (23, 45, 12, 67, 34, 89, 56)\n",
        "print(\"\\nQuestion 4: Find the maximum value in tuple (23, 45, 12, 67, 34, 89, 56)\")\n",
        "\n",
        "# Given tuple\n",
        "t = (23, 45, 12, 67, 34, 89, 56)\n",
        "\n",
        "# Finding the maximum value\n",
        "max_value = max(t)\n",
        "\n",
        "# Printing the result\n",
        "print(\"Maximum value:\", max_value)"
      ],
      "metadata": {
        "colab": {
          "base_uri": "https://localhost:8080/"
        },
        "id": "Q5CXt8Ov506R",
        "outputId": "4025b767-2c30-4445-805a-12f55fc79a54"
      },
      "execution_count": 6,
      "outputs": [
        {
          "output_type": "stream",
          "name": "stdout",
          "text": [
            "\n",
            "Question 4: Find the maximum value in tuple (23, 45, 12, 67, 34, 89, 56)\n",
            "Maximum value: 89\n"
          ]
        }
      ]
    },
    {
      "cell_type": "code",
      "source": [
        "# Question 5: Count how many times 5 appears in (1, 5, 2, 5, 3, 5, 4, 5, 6)\n",
        "print(\"\\nQuestion 5: Count how many times 5 appears in (1, 5, 2, 5, 3, 5, 4, 5, 6)\")\n",
        "\n",
        "# Given tuple\n",
        "t = (1, 5, 2, 5, 3, 5, 4, 5, 6)\n",
        "\n",
        "# Counting occurrences of 5\n",
        "count_5 = t.count(5)\n",
        "\n",
        "# Printing the result\n",
        "print(\"Number of times 5 appears:\", count_5)\n"
      ],
      "metadata": {
        "colab": {
          "base_uri": "https://localhost:8080/"
        },
        "id": "G8EA4QDZ504M",
        "outputId": "a25a812c-1eb7-4700-8a04-3416c48778df"
      },
      "execution_count": 7,
      "outputs": [
        {
          "output_type": "stream",
          "name": "stdout",
          "text": [
            "\n",
            "Question 5: Count how many times 5 appears in (1, 5, 2, 5, 3, 5, 4, 5, 6)\n",
            "Number of times 5 appears: 4\n"
          ]
        }
      ]
    },
    {
      "cell_type": "code",
      "source": [
        "# Question 6: Create a tuple of mixed data types (integer, float, string, boolean)\n",
        "print(\"\\nQuestion 6: Create a tuple of mixed data types (integer, float, string, boolean)\")\n",
        "\n",
        "# Creating the tuple\n",
        "mixed_tuple = (42, 3.14, \"hello\", True)\n",
        "\n",
        "# Printing the tuple\n",
        "print(mixed_tuple)"
      ],
      "metadata": {
        "colab": {
          "base_uri": "https://localhost:8080/"
        },
        "id": "PVn8Arpb502F",
        "outputId": "e9a6aa4a-d352-49f3-80f4-e150cd02ac02"
      },
      "execution_count": 8,
      "outputs": [
        {
          "output_type": "stream",
          "name": "stdout",
          "text": [
            "\n",
            "Question 6: Create a tuple of mixed data types (integer, float, string, boolean)\n",
            "(42, 3.14, 'hello', True)\n"
          ]
        }
      ]
    },
    {
      "cell_type": "code",
      "source": [
        "# Question 7: Find the index of element 'python' in ('java', 'python', 'c++', 'javascript')\n",
        "print(\"\\nQuestion 7: Find the index of element 'python' in ('java', 'python', 'c++', 'javascript')\")\n",
        "\n",
        "# Given tuple\n",
        "languages = ('java', 'python', 'c++', 'javascript')\n",
        "\n",
        "# Finding the index of 'python'\n",
        "index_python = languages.index('python')\n",
        "\n",
        "# Printing the result\n",
        "print(\"Index of 'python':\", index_python)"
      ],
      "metadata": {
        "colab": {
          "base_uri": "https://localhost:8080/"
        },
        "id": "BxF5xZCf50zu",
        "outputId": "b5fb385f-0cee-4b32-810b-e9013e1184a3"
      },
      "execution_count": 9,
      "outputs": [
        {
          "output_type": "stream",
          "name": "stdout",
          "text": [
            "\n",
            "Question 7: Find the index of element 'python' in ('java', 'python', 'c++', 'javascript')\n",
            "Index of 'python': 1\n"
          ]
        }
      ]
    },
    {
      "cell_type": "code",
      "source": [
        "# Question 8: Check if 25 exists in tuple (10, 20, 30, 40, 50)\n",
        "print(\"\\nQuestion 8: Check if 25 exists in tuple (10, 20, 30, 40, 50)\")\n",
        "\n",
        "# Given tuple\n",
        "numbers = (10, 20, 30, 40, 50)\n",
        "\n",
        "# Check if 25 exists\n",
        "exists = 25 in numbers\n",
        "\n",
        "# Print the result\n",
        "print(\"Does 25 exist in the tuple?\", exists)"
      ],
      "metadata": {
        "colab": {
          "base_uri": "https://localhost:8080/"
        },
        "id": "1aDt8Aqn50xY",
        "outputId": "4d1c44b0-1805-486a-d398-18f3156f651e"
      },
      "execution_count": 10,
      "outputs": [
        {
          "output_type": "stream",
          "name": "stdout",
          "text": [
            "\n",
            "Question 8: Check if 25 exists in tuple (10, 20, 30, 40, 50)\n",
            "Does 25 exist in the tuple? False\n"
          ]
        }
      ]
    },
    {
      "cell_type": "code",
      "source": [
        "# Question 9: Create a tuple of first 5 even numbers\n",
        "print(\"\\nQuestion 9: Create a tuple of first 5 even numbers\")\n",
        "\n",
        "# Creating the tuple\n",
        "even_numbers = tuple(range(2, 11, 2))\n",
        "\n",
        "# Printing the tuple\n",
        "print(even_numbers)"
      ],
      "metadata": {
        "colab": {
          "base_uri": "https://localhost:8080/"
        },
        "id": "SfT187nD50vK",
        "outputId": "9c36787b-3345-4186-8b57-6aaf6223aa1c"
      },
      "execution_count": 11,
      "outputs": [
        {
          "output_type": "stream",
          "name": "stdout",
          "text": [
            "\n",
            "Question 9: Create a tuple of first 5 even numbers\n",
            "(2, 4, 6, 8, 10)\n"
          ]
        }
      ]
    },
    {
      "cell_type": "code",
      "source": [
        "# Question 10: Find the average of numbers in tuple (15, 23, 31, 42, 56, 78)\n",
        "print(\"\\nQuestion 10: Find the average of numbers in tuple (15, 23, 31, 42, 56, 78)\")\n",
        "\n",
        "# Given tuple\n",
        "numbers = (15, 23, 31, 42, 56, 78)\n",
        "\n",
        "# Calculate average\n",
        "average = sum(numbers) / len(numbers)\n",
        "\n",
        "# Print the result\n",
        "print(\"Average:\", average)"
      ],
      "metadata": {
        "colab": {
          "base_uri": "https://localhost:8080/"
        },
        "id": "BDblb0-p68Sz",
        "outputId": "1adb8da2-5b5f-4081-bbc5-2816837a7c5c"
      },
      "execution_count": 12,
      "outputs": [
        {
          "output_type": "stream",
          "name": "stdout",
          "text": [
            "\n",
            "Question 10: Find the average of numbers in tuple (15, 23, 31, 42, 56, 78)\n",
            "Average: 40.833333333333336\n"
          ]
        }
      ]
    }
  ]
}