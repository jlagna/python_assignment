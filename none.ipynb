{
  "nbformat": 4,
  "nbformat_minor": 0,
  "metadata": {
    "colab": {
      "provenance": []
    },
    "kernelspec": {
      "name": "python3",
      "display_name": "Python 3"
    },
    "language_info": {
      "name": "python"
    }
  },
  "cells": [
    {
      "cell_type": "code",
      "execution_count": null,
      "metadata": {
        "id": "XECPvRU4zmts"
      },
      "outputs": [],
      "source": [
        "# SOLVED EXAMPLE\n",
        "# --------------\n",
        "# Question: Check if a variable is None\n",
        "print(\"SOLVED EXAMPLE:\")\n",
        "print(\"Check if a variable is None\")\n",
        "variable = None\n",
        "is_none = variable is None\n",
        "print(f\"Variable: {variable}\")\n",
        "print(f\"Is None: {is_none}\")\n",
        "print(\"-\" * 50)\n"
      ]
    },
    {
      "cell_type": "code",
      "source": [
        "# Question 1: Create a variable and assign None to it\n",
        "print(\"Question 1: Create a variable and assign None to it\")\n",
        "\n",
        "# Your code here\n",
        "my_variable = None\n",
        "\n",
        "print(\"Value of variable:\", my_variable)"
      ],
      "metadata": {
        "colab": {
          "base_uri": "https://localhost:8080/"
        },
        "id": "_WKxoWJM1J4l",
        "outputId": "b7cccf8f-8bfd-4f64-a1eb-13180ca2afe3"
      },
      "execution_count": 2,
      "outputs": [
        {
          "output_type": "stream",
          "name": "stdout",
          "text": [
            "Question 1: Create a variable and assign None to it\n",
            "Value of variable: None\n"
          ]
        }
      ]
    },
    {
      "cell_type": "code",
      "source": [
        "# Question 2: Check if None equals None\n",
        "print(\"\\nQuestion 2: Check if None equals None\")\n",
        "\n",
        "# Your code here\n",
        "result = None == None\n",
        "\n",
        "print(\"Does None equal None?\", result)"
      ],
      "metadata": {
        "colab": {
          "base_uri": "https://localhost:8080/"
        },
        "id": "nowKJWud1J1J",
        "outputId": "b0813442-b8fc-482c-f115-e1521380709e"
      },
      "execution_count": 4,
      "outputs": [
        {
          "output_type": "stream",
          "name": "stdout",
          "text": [
            "\n",
            "Question 2: Check if None equals None\n",
            "Does None equal None? True\n"
          ]
        }
      ]
    },
    {
      "cell_type": "code",
      "source": [
        "# Question 3: Check if None is None\n",
        "print(\"\\nQuestion 3: Check if None is None\")\n",
        "\n",
        "# Your code here\n",
        "result = None is None\n",
        "\n",
        "print(\"Is None 'is' None?\", result)"
      ],
      "metadata": {
        "colab": {
          "base_uri": "https://localhost:8080/"
        },
        "id": "0SpAcW2e1Jy3",
        "outputId": "f27f5d0a-080a-409c-c417-2cef34990c64"
      },
      "execution_count": 5,
      "outputs": [
        {
          "output_type": "stream",
          "name": "stdout",
          "text": [
            "\n",
            "Question 3: Check if None is None\n",
            "Is None 'is' None? True\n"
          ]
        }
      ]
    },
    {
      "cell_type": "code",
      "source": [
        "# Question 4: Check if 0 is None\n",
        "print(\"\\nQuestion 4: Check if 0 is None\")\n",
        "print(\"\\nQuestion 4: Check if 0 is None\")\n",
        "\n",
        "# Your code here\n",
        "result = 0 is None\n",
        "\n",
        "print(\"Is 0 None?\", result)"
      ],
      "metadata": {
        "colab": {
          "base_uri": "https://localhost:8080/"
        },
        "id": "TKqUPKId1Jwp",
        "outputId": "bafc33e2-3778-4b90-c868-07d19c644fe4"
      },
      "execution_count": 6,
      "outputs": [
        {
          "output_type": "stream",
          "name": "stdout",
          "text": [
            "\n",
            "Question 4: Check if 0 is None\n",
            "\n",
            "Question 4: Check if 0 is None\n",
            "Is 0 None? False\n"
          ]
        },
        {
          "output_type": "stream",
          "name": "stderr",
          "text": [
            "<>:6: SyntaxWarning: \"is\" with 'int' literal. Did you mean \"==\"?\n",
            "<>:6: SyntaxWarning: \"is\" with 'int' literal. Did you mean \"==\"?\n",
            "/tmp/ipython-input-1088195269.py:6: SyntaxWarning: \"is\" with 'int' literal. Did you mean \"==\"?\n",
            "  result = 0 is None\n"
          ]
        }
      ]
    },
    {
      "cell_type": "code",
      "source": [
        "# Question 5: Check if empty string is None\n",
        "print(\"\\nQuestion 5: Check if empty string is None\")\n",
        "\n",
        "# Your code here\n",
        "result = \"\" is None\n",
        "\n",
        "print(\"Is empty string None?\", result)"
      ],
      "metadata": {
        "colab": {
          "base_uri": "https://localhost:8080/"
        },
        "id": "1hZIkC_m1tP9",
        "outputId": "198c07c8-2e60-4a2a-cf55-aac7ab447ca5"
      },
      "execution_count": 7,
      "outputs": [
        {
          "output_type": "stream",
          "name": "stdout",
          "text": [
            "\n",
            "Question 5: Check if empty string is None\n",
            "Is empty string None? False\n"
          ]
        },
        {
          "output_type": "stream",
          "name": "stderr",
          "text": [
            "<>:5: SyntaxWarning: \"is\" with 'str' literal. Did you mean \"==\"?\n",
            "<>:5: SyntaxWarning: \"is\" with 'str' literal. Did you mean \"==\"?\n",
            "/tmp/ipython-input-3531402797.py:5: SyntaxWarning: \"is\" with 'str' literal. Did you mean \"==\"?\n",
            "  result = \"\" is None\n"
          ]
        }
      ]
    },
    {
      "cell_type": "code",
      "source": [
        "# Question 6: Check if False is None\n",
        "print(\"\\nQuestion 6: Check if False is None\")\n",
        "\n",
        "# Your code here\n",
        "result = False is None\n",
        "\n",
        "print(\"Is False None?\", result)"
      ],
      "metadata": {
        "colab": {
          "base_uri": "https://localhost:8080/"
        },
        "id": "gHk-kOWo1tMX",
        "outputId": "83108e71-3a84-4bb1-d853-9ed683e2114c"
      },
      "execution_count": 8,
      "outputs": [
        {
          "output_type": "stream",
          "name": "stdout",
          "text": [
            "\n",
            "Question 6: Check if False is None\n",
            "Is False None? False\n"
          ]
        }
      ]
    },
    {
      "cell_type": "markdown",
      "source": [],
      "metadata": {
        "id": "b9v5rhkH193t"
      }
    },
    {
      "cell_type": "code",
      "source": [
        "\n"
      ],
      "metadata": {
        "id": "VXKai8-r1tKA"
      },
      "execution_count": null,
      "outputs": []
    },
    {
      "cell_type": "code",
      "source": [
        "# Question 7: Check if empty list is None\n",
        "print(\"\\nQuestion 7: Check if empty list is None\")\n",
        "\n",
        "# Your code here\n",
        "result = [] is None\n",
        "\n",
        "print(\"Is empty list None?\", result)"
      ],
      "metadata": {
        "colab": {
          "base_uri": "https://localhost:8080/"
        },
        "id": "sEhOkDbF1tHd",
        "outputId": "d268b30f-97f8-4a73-87d1-5069e9805561"
      },
      "execution_count": 9,
      "outputs": [
        {
          "output_type": "stream",
          "name": "stdout",
          "text": [
            "\n",
            "Question 7: Check if empty list is None\n",
            "Is empty list None? False\n"
          ]
        }
      ]
    },
    {
      "cell_type": "code",
      "source": [
        "# Question 8: Check if empty dictionary is None\n",
        "print(\"\\nQuestion 8: Check if empty dictionary is None\")\n",
        "\n",
        "# Your code here\n",
        "result = {} is None\n",
        "\n",
        "print(\"Is empty dictionary None?\", result)"
      ],
      "metadata": {
        "colab": {
          "base_uri": "https://localhost:8080/"
        },
        "id": "g27CuX3F2N69",
        "outputId": "844c6f28-f452-4107-8737-8b4fea1ddc2b"
      },
      "execution_count": 10,
      "outputs": [
        {
          "output_type": "stream",
          "name": "stdout",
          "text": [
            "\n",
            "Question 8: Check if empty dictionary is None\n",
            "Is empty dictionary None? False\n"
          ]
        }
      ]
    },
    {
      "cell_type": "code",
      "source": [
        "# Question 9: Check if empty tuple is None\n",
        "print(\"\\nQuestion 9: Check if empty tuple is None\")\n",
        "\n",
        "# Your code here\n",
        "result = () is None\n",
        "\n",
        "print(\"Is empty tuple None?\", result)"
      ],
      "metadata": {
        "colab": {
          "base_uri": "https://localhost:8080/"
        },
        "id": "cVA9ZmW_2Nup",
        "outputId": "ee4f3d2f-0865-405e-d3cc-74e3c0e071ec"
      },
      "execution_count": 11,
      "outputs": [
        {
          "output_type": "stream",
          "name": "stdout",
          "text": [
            "\n",
            "Question 9: Check if empty tuple is None\n",
            "Is empty tuple None? False\n"
          ]
        },
        {
          "output_type": "stream",
          "name": "stderr",
          "text": [
            "<>:5: SyntaxWarning: \"is\" with 'tuple' literal. Did you mean \"==\"?\n",
            "<>:5: SyntaxWarning: \"is\" with 'tuple' literal. Did you mean \"==\"?\n",
            "/tmp/ipython-input-1495029830.py:5: SyntaxWarning: \"is\" with 'tuple' literal. Did you mean \"==\"?\n",
            "  result = () is None\n"
          ]
        }
      ]
    },
    {
      "cell_type": "code",
      "source": [
        "# Question 10: Check if empty set is None\n",
        "print(\"\\nQuestion 10: Check if empty set is None\")\n",
        "\n",
        "# Your code here\n",
        "result = set() is None\n",
        "\n",
        "print(\"Is empty set None?\", result)"
      ],
      "metadata": {
        "colab": {
          "base_uri": "https://localhost:8080/"
        },
        "id": "RSA7kjZk2NhS",
        "outputId": "3c31592d-135b-4272-f646-be437623022d"
      },
      "execution_count": 14,
      "outputs": [
        {
          "output_type": "stream",
          "name": "stdout",
          "text": [
            "\n",
            "Question 10: Check if empty set is None\n",
            "Is empty set None? False\n"
          ]
        }
      ]
    }
  ]
}