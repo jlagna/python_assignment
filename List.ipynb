{
  "nbformat": 4,
  "nbformat_minor": 0,
  "metadata": {
    "colab": {
      "provenance": []
    },
    "kernelspec": {
      "name": "python3",
      "display_name": "Python 3"
    },
    "language_info": {
      "name": "python"
    }
  },
  "cells": [
    {
      "cell_type": "code",
      "execution_count": 1,
      "metadata": {
        "colab": {
          "base_uri": "https://localhost:8080/"
        },
        "id": "3u0TqpAcqv1e",
        "outputId": "3f3bc189-9a11-4014-c935-ed5b88ab8ea9"
      },
      "outputs": [
        {
          "output_type": "stream",
          "name": "stdout",
          "text": [
            "Question 1: Create a list of first 10 square numbers\n",
            "[1, 4, 9, 16, 25, 36, 49, 64, 81, 100]\n"
          ]
        }
      ],
      "source": [
        "# Question 1: Create a list of first 10 square numbers\n",
        "print(\"Question 1: Create a list of first 10 square numbers\")\n",
        "# Your code here\n",
        "squares = [i**2 for i in range(1, 11)]\n",
        "print(squares)\n"
      ]
    },
    {
      "cell_type": "code",
      "source": [
        "# Question 3: Remove duplicates from [1, 2, 2, 3, 4, 4, 5, 6, 6, 7]\n",
        "print(\"\\nQuestion 3: Remove duplicates from [1, 2, 2, 3, 4, 4, 5, 6, 6, 7]\")\n",
        "original_list = [1, 2, 2, 3, 4, 4, 5, 6, 6, 7]\n",
        "# Using a set to remove duplicates, then converting back to list\n",
        "unique_list = list(set(original_list))\n",
        "print(unique_list)"
      ],
      "metadata": {
        "colab": {
          "base_uri": "https://localhost:8080/"
        },
        "id": "rHE2cINyrd04",
        "outputId": "00891581-b02f-4308-a3ce-3547fc1bacec"
      },
      "execution_count": 2,
      "outputs": [
        {
          "output_type": "stream",
          "name": "stdout",
          "text": [
            "\n",
            "Question 3: Remove duplicates from [1, 2, 2, 3, 4, 4, 5, 6, 6, 7]\n",
            "[1, 2, 3, 4, 5, 6, 7]\n"
          ]
        }
      ]
    },
    {
      "cell_type": "code",
      "source": [
        "# Question 4: Sort the list [64, 34, 25, 12, 22, 11, 90] in descending order\n",
        "print(\"\\nQuestion 4: Sort the list [64, 34, 25, 12, 22, 11, 90] in descending order\")\n",
        "# Your code here\n",
        "lst = [64, 34, 25, 12, 22, 11, 90]\n",
        "lst.sort(reverse=True)\n",
        "print(lst)\n"
      ],
      "metadata": {
        "colab": {
          "base_uri": "https://localhost:8080/"
        },
        "id": "I2d8kHaOrdxU",
        "outputId": "9dd7ac0f-2b17-4f4b-8bcc-57454ecdb9ce"
      },
      "execution_count": 3,
      "outputs": [
        {
          "output_type": "stream",
          "name": "stdout",
          "text": [
            "\n",
            "Question 4: Sort the list [64, 34, 25, 12, 22, 11, 90] in descending order\n",
            "[90, 64, 34, 25, 22, 12, 11]\n"
          ]
        }
      ]
    },
    {
      "cell_type": "code",
      "source": [
        "# Question 5: Find the average of numbers in [15, 23, 31, 42, 56, 78, 91]\n",
        "print(\"\\nQuestion 5: Find the average of numbers in [15, 23, 31, 42, 56, 78, 91]\")\n",
        "# Your code here\n",
        "numbers = [15, 23, 31, 42, 56, 78, 91]\n",
        "average = sum(numbers) / len(numbers)\n",
        "print(average)\n"
      ],
      "metadata": {
        "colab": {
          "base_uri": "https://localhost:8080/"
        },
        "id": "n7K6b6n7rdu9",
        "outputId": "20aa492b-534d-44e9-fb46-9d33ba0fa627"
      },
      "execution_count": 5,
      "outputs": [
        {
          "output_type": "stream",
          "name": "stdout",
          "text": [
            "\n",
            "Question 5: Find the average of numbers in [15, 23, 31, 42, 56, 78, 91]\n",
            "48.0\n"
          ]
        }
      ]
    },
    {
      "cell_type": "code",
      "source": [
        "# Question 6: Create a list of first 15 Fibonacci numbers\n",
        "print(\"\\nQuestion 6: Create a list of first 15 Fibonacci numbers\")\n",
        "# Your code here\n",
        "fib = [0, 1]\n",
        "for _ in range(2, 15):\n",
        "    fib.append(fib[-1] + fib[-2])\n",
        "print(fib)"
      ],
      "metadata": {
        "colab": {
          "base_uri": "https://localhost:8080/"
        },
        "id": "pcFEKLWSrdsR",
        "outputId": "98715ad4-749c-40a8-cd98-df42c5e49604"
      },
      "execution_count": 7,
      "outputs": [
        {
          "output_type": "stream",
          "name": "stdout",
          "text": [
            "\n",
            "Question 6: Create a list of first 15 Fibonacci numbers\n",
            "[0, 1, 1, 2, 3, 5, 8, 13, 21, 34, 55, 89, 144, 233, 377]\n"
          ]
        }
      ]
    },
    {
      "cell_type": "code",
      "source": [
        "# Question 7: Find the second largest number in [45, 67, 23, 89, 12, 34, 78]\n",
        "print(\"\\nQuestion 7: Find the second largest number in [45, 67, 23, 89, 12, 34, 78]\")\n",
        "# Your code here\n",
        "numbers = [45, 67, 23, 89, 12, 34, 78]\n",
        "unique_numbers = list(set(numbers))\n",
        "unique_numbers.sort()\n",
        "second_largest = unique_numbers[-2]\n",
        "print(second_largest)"
      ],
      "metadata": {
        "colab": {
          "base_uri": "https://localhost:8080/"
        },
        "id": "B9aFoc8jrdpH",
        "outputId": "947eeea8-a6aa-4c62-beba-632aec0df76e"
      },
      "execution_count": 9,
      "outputs": [
        {
          "output_type": "stream",
          "name": "stdout",
          "text": [
            "\n",
            "Question 7: Find the second largest number in [45, 67, 23, 89, 12, 34, 78]\n",
            "78\n"
          ]
        }
      ]
    },
    {
      "cell_type": "code",
      "source": [
        "# Question 8: Reverse the list [1, 2, 3, 4, 5, 6, 7, 8, 9, 10]\n",
        "print(\"\\nQuestion 8: Reverse the list [1, 2, 3, 4, 5, 6, 7, 8, 9, 10]\")\n",
        "# Your code here\n",
        "lst = [1, 2, 3, 4, 5, 6, 7, 8, 9, 10]\n",
        "reversed_lst = lst[::-1]\n",
        "print(reversed_lst)"
      ],
      "metadata": {
        "colab": {
          "base_uri": "https://localhost:8080/"
        },
        "id": "2hpRJzLurdmr",
        "outputId": "7cab16ca-7faf-4c89-8c40-87b0f021c1bf"
      },
      "execution_count": 11,
      "outputs": [
        {
          "output_type": "stream",
          "name": "stdout",
          "text": [
            "\n",
            "Question 8: Reverse the list [1, 2, 3, 4, 5, 6, 7, 8, 9, 10]\n",
            "[10, 9, 8, 7, 6, 5, 4, 3, 2, 1]\n"
          ]
        }
      ]
    },
    {
      "cell_type": "code",
      "source": [
        "# Question 9: Count how many times 5 appears in [1, 5, 2, 5, 3, 5, 4, 5, 6]\n",
        "print(\"\\nQuestion 9: Count how many times 5 appears in [1, 5, 2, 5, 3, 5, 4, 5, 6]\")\n",
        "lst = [1, 5, 2, 5, 3, 5, 4, 5, 6]\n",
        "count_5 = lst.count(5)\n",
        "print(count_5)"
      ],
      "metadata": {
        "colab": {
          "base_uri": "https://localhost:8080/"
        },
        "id": "Z1WXnMaOsUqM",
        "outputId": "c19c00f6-2c49-47a5-8ba2-80641e00e30d"
      },
      "execution_count": 13,
      "outputs": [
        {
          "output_type": "stream",
          "name": "stdout",
          "text": [
            "\n",
            "Question 9: Count how many times 5 appears in [1, 5, 2, 5, 3, 5, 4, 5, 6]\n",
            "4\n"
          ]
        }
      ]
    },
    {
      "cell_type": "code",
      "source": [
        "\n",
        "# Question 10: Create a list of prime numbers between 1 and 50\n",
        "print(\"\\nQuestion 10: Create a list of prime numbers between 1 and 50\")\n",
        "# Your code here\n",
        "\n",
        "def is_prime(n):\n",
        "    if n <= 1:\n",
        "        return False\n",
        "    if n == 2:\n",
        "        return True\n",
        "    if n % 2 == 0:\n",
        "        return False\n",
        "    for i in range(3, int(n**0.5) + 1, 2):\n",
        "        if n % i == 0:\n",
        "            return False\n",
        "    return True\n",
        "\n",
        "primes = [num for num in range(1, 51) if is_prime(num)]\n",
        "print(primes)"
      ],
      "metadata": {
        "colab": {
          "base_uri": "https://localhost:8080/"
        },
        "id": "KudMaIGysUmy",
        "outputId": "017f1acd-3f3f-4b79-f420-03c043b0d732"
      },
      "execution_count": 14,
      "outputs": [
        {
          "output_type": "stream",
          "name": "stdout",
          "text": [
            "\n",
            "Question 10: Create a list of prime numbers between 1 and 50\n",
            "[2, 3, 5, 7, 11, 13, 17, 19, 23, 29, 31, 37, 41, 43, 47]\n"
          ]
        }
      ]
    },
    {
      "cell_type": "code",
      "source": [
        "\n",
        "# Question 11: Flatten nested list [[1, 2, 3], [4, 5, 6], [7, 8, 9]]\n",
        "print(\"\\nQuestion 11: Flatten nested list [[1, 2, 3], [4, 5, 6], [7, 8, 9]]\")\n",
        "\n",
        "nested_list = [[1, 2, 3], [4, 5, 6], [7, 8, 9]]\n",
        "flattened_list = [item for sublist in nested_list for item in sublist]\n",
        "\n",
        "print(\"Flattened list:\", flattened_list)"
      ],
      "metadata": {
        "colab": {
          "base_uri": "https://localhost:8080/"
        },
        "id": "jFIObrfKsUkX",
        "outputId": "543cc013-58e3-44ba-d687-68ff8b80109d"
      },
      "execution_count": 16,
      "outputs": [
        {
          "output_type": "stream",
          "name": "stdout",
          "text": [
            "\n",
            "Question 11: Flatten nested list [[1, 2, 3], [4, 5, 6], [7, 8, 9]]\n",
            "Flattened list: [1, 2, 3, 4, 5, 6, 7, 8, 9]\n"
          ]
        }
      ]
    },
    {
      "cell_type": "code",
      "source": [
        "# Question 12: Find common elements between [1, 2, 3, 4, 5] and [4, 5, 6, 7, 8]\n",
        "print(\"\\nQuestion 12: Find common elements between [1, 2, 3, 4, 5] and [4, 5, 6, 7, 8]\")\n",
        "# Your code here\n",
        "\n",
        "list1 = [1, 2, 3, 4, 5]\n",
        "list2 = [4, 5, 6, 7, 8]\n",
        "\n",
        "common_elements = list(set(list1) & set(list2))\n",
        "\n",
        "print(\"Common elements:\", common_elements)"
      ],
      "metadata": {
        "colab": {
          "base_uri": "https://localhost:8080/"
        },
        "id": "igSgzawnsUht",
        "outputId": "bb5182f9-032d-4d77-87dd-265eee9c0510"
      },
      "execution_count": 18,
      "outputs": [
        {
          "output_type": "stream",
          "name": "stdout",
          "text": [
            "\n",
            "Question 12: Find common elements between [1, 2, 3, 4, 5] and [4, 5, 6, 7, 8]\n",
            "Common elements: [4, 5]\n"
          ]
        }
      ]
    },
    {
      "cell_type": "code",
      "source": [
        "# Question 13: Create a list of lists: [[1, 2], [3, 4], [5, 6]]\n",
        "print(\"\\nQuestion 13: Create a list of lists: [[1, 2], [3, 4], [5, 6]]\")\n",
        "# Your code here\n",
        "\n",
        "list_of_lists = [[1, 2], [3, 4], [5, 6]]\n",
        "\n",
        "print(\"List of lists:\", list_of_lists)"
      ],
      "metadata": {
        "colab": {
          "base_uri": "https://localhost:8080/"
        },
        "id": "Se6G1SghsUfS",
        "outputId": "49cd12bb-be65-4280-d1e7-96f896a4e71d"
      },
      "execution_count": 20,
      "outputs": [
        {
          "output_type": "stream",
          "name": "stdout",
          "text": [
            "\n",
            "Question 13: Create a list of lists: [[1, 2], [3, 4], [5, 6]]\n",
            "List of lists: [[1, 2], [3, 4], [5, 6]]\n"
          ]
        }
      ]
    },
    {
      "cell_type": "code",
      "source": [
        "# Question 14: Find the sum of each sublist in [[1, 2, 3], [4, 5, 6], [7, 8, 9]]\n",
        "print(\"\\nQuestion 14: Find the sum of each sublist in [[1, 2, 3], [4, 5, 6], [7, 8, 9]]\")\n",
        "# Your code here\n",
        "\n",
        "nested_list = [[1, 2, 3], [4, 5, 6], [7, 8, 9]]\n",
        "sums = [sum(sublist) for sublist in nested_list]\n",
        "\n",
        "print(\"Sum of each sublist:\", sums)"
      ],
      "metadata": {
        "colab": {
          "base_uri": "https://localhost:8080/"
        },
        "id": "7-XRpFMOtJ1w",
        "outputId": "dc208511-5726-4858-8d24-45fd90e58de3"
      },
      "execution_count": 21,
      "outputs": [
        {
          "output_type": "stream",
          "name": "stdout",
          "text": [
            "\n",
            "Question 14: Find the sum of each sublist in [[1, 2, 3], [4, 5, 6], [7, 8, 9]]\n",
            "Sum of each sublist: [6, 15, 24]\n"
          ]
        }
      ]
    },
    {
      "cell_type": "code",
      "source": [
        "# Question 15: Transpose the matrix [[1, 2, 3], [4, 5, 6], [7, 8, 9]]\n",
        "print(\"\\nQuestion 15: Transpose the matrix [[1, 2, 3], [4, 5, 6], [7, 8, 9]]\")\n",
        "# Your code here\n",
        "\n",
        "matrix = [[1, 2, 3], [4, 5, 6], [7, 8, 9]]\n",
        "transposed = [list(row) for row in zip(*matrix)]\n",
        "\n",
        "print(\"Transposed matrix:\", transposed)\n"
      ],
      "metadata": {
        "colab": {
          "base_uri": "https://localhost:8080/"
        },
        "id": "GcqeAYs_tJyQ",
        "outputId": "2f10bb3f-a82a-4e72-bece-51b799513b33"
      },
      "execution_count": 22,
      "outputs": [
        {
          "output_type": "stream",
          "name": "stdout",
          "text": [
            "\n",
            "Question 15: Transpose the matrix [[1, 2, 3], [4, 5, 6], [7, 8, 9]]\n",
            "Transposed matrix: [[1, 4, 7], [2, 5, 8], [3, 6, 9]]\n"
          ]
        }
      ]
    },
    {
      "cell_type": "code",
      "source": [
        "# Question 16: Find the maximum value in each sublist of [[1, 5, 3], [9, 2, 7], [4, 8, 6]]\n",
        "print(\"\\nQuestion 16: Find the maximum value in each sublist of [[1, 5, 3], [9, 2, 7], [4, 8, 6]]\")\n",
        "# Your code here\n",
        "\n",
        "nested_list = [[1, 5, 3], [9, 2, 7], [4, 8, 6]]\n",
        "max_values = [max(sublist) for sublist in nested_list]\n",
        "\n",
        "print(\"Maximum values in each sublist:\", max_values)"
      ],
      "metadata": {
        "colab": {
          "base_uri": "https://localhost:8080/"
        },
        "id": "_iyK4tiLtJvq",
        "outputId": "ae0b611b-5c21-4f80-b19f-260ad30aa758"
      },
      "execution_count": 23,
      "outputs": [
        {
          "output_type": "stream",
          "name": "stdout",
          "text": [
            "\n",
            "Question 16: Find the maximum value in each sublist of [[1, 5, 3], [9, 2, 7], [4, 8, 6]]\n",
            "Maximum values in each sublist: [5, 9, 8]\n"
          ]
        }
      ]
    },
    {
      "cell_type": "markdown",
      "source": [],
      "metadata": {
        "id": "X5ROgh0btk5W"
      }
    },
    {
      "cell_type": "code",
      "source": [
        "# Question 17: Create a 3D list: [[[1, 2], [3, 4]], [[5, 6], [7, 8]]]\n",
        "print(\"\\nQuestion 17: Create a 3D list: [[[1, 2], [3, 4]], [[5, 6], [7, 8]]]\")\n",
        "# Your code here\n",
        "\n",
        "three_d_list = [[[1, 2], [3, 4]], [[5, 6], [7, 8]]]\n",
        "\n",
        "print(\"3D list:\", three_d_list)\n"
      ],
      "metadata": {
        "colab": {
          "base_uri": "https://localhost:8080/"
        },
        "id": "N8nvb9wWtJtE",
        "outputId": "a47cb31a-24af-4795-f550-e5c61ff19fd3"
      },
      "execution_count": 25,
      "outputs": [
        {
          "output_type": "stream",
          "name": "stdout",
          "text": [
            "\n",
            "Question 17: Create a 3D list: [[[1, 2], [3, 4]], [[5, 6], [7, 8]]]\n",
            "3D list: [[[1, 2], [3, 4]], [[5, 6], [7, 8]]]\n"
          ]
        }
      ]
    },
    {
      "cell_type": "code",
      "source": [
        "# Question 18: Find the sum of all elements in 3D list [[[1, 2], [3, 4]], [[5, 6], [7, 8]]]\n",
        "print(\"\\nQuestion 18: Find the sum of all elements in 3D list [[[1, 2], [3, 4]], [[5, 6], [7, 8]]]\")\n",
        "# Your code here\n",
        "\n",
        "three_d_list = [[[1, 2], [3, 4]], [[5, 6], [7, 8]]]\n",
        "total_sum = sum(num for sublist1 in three_d_list for sublist2 in sublist1 for num in sublist2)\n",
        "\n",
        "print(\"Sum of all elements:\", total_sum)"
      ],
      "metadata": {
        "colab": {
          "base_uri": "https://localhost:8080/"
        },
        "id": "r4iNyK9RtJqn",
        "outputId": "bc0b8c90-7010-4781-bdb9-ddf7cc8a76b3"
      },
      "execution_count": 26,
      "outputs": [
        {
          "output_type": "stream",
          "name": "stdout",
          "text": [
            "\n",
            "Question 18: Find the sum of all elements in 3D list [[[1, 2], [3, 4]], [[5, 6], [7, 8]]]\n",
            "Sum of all elements: 36\n"
          ]
        }
      ]
    },
    {
      "cell_type": "code",
      "source": [
        "# Question 19: Extract all even numbers from nested list [[1, 2, 3], [4, 5, 6], [7, 8, 9]]\n",
        "print(\"\\nQuestion 19: Extract all even numbers from nested list [[1, 2, 3], [4, 5, 6], [7, 8, 9]]\")\n",
        "# Your code here\n",
        "\n",
        "nested_list = [[1, 2, 3], [4, 5, 6], [7, 8, 9]]\n",
        "even_numbers = [num for sublist in nested_list for num in sublist if num % 2 == 0]\n",
        "\n",
        "print(\"Even numbers:\", even_numbers)"
      ],
      "metadata": {
        "colab": {
          "base_uri": "https://localhost:8080/"
        },
        "id": "6eZtMFmWt66r",
        "outputId": "59c27cf5-0023-4922-ed48-18b2d94b285f"
      },
      "execution_count": 28,
      "outputs": [
        {
          "output_type": "stream",
          "name": "stdout",
          "text": [
            "\n",
            "Question 19: Extract all even numbers from nested list [[1, 2, 3], [4, 5, 6], [7, 8, 9]]\n",
            "Even numbers: [2, 4, 6, 8]\n"
          ]
        }
      ]
    },
    {
      "cell_type": "code",
      "source": [
        "# Question 20: Create a list of mixed data types: [1, \"hello\", 3.14, True, [1, 2, 3]]\n",
        "print(\"\\nQuestion 20: Create a list of mixed data types: [1, 'hello', 3.14, True, [1, 2, 3]]\")\n",
        "# Your code here\n",
        "\n",
        "mixed_list = [1, \"hello\", 3.14, True, [1, 2, 3]]\n",
        "\n",
        "print(\"Mixed data type list:\", mixed_list)\n"
      ],
      "metadata": {
        "colab": {
          "base_uri": "https://localhost:8080/"
        },
        "id": "mvrAVEzGuBPx",
        "outputId": "b53a3ab1-c0ac-459d-ec2a-d06992b187f3"
      },
      "execution_count": 29,
      "outputs": [
        {
          "output_type": "stream",
          "name": "stdout",
          "text": [
            "\n",
            "Question 20: Create a list of mixed data types: [1, 'hello', 3.14, True, [1, 2, 3]]\n",
            "Mixed data type list: [1, 'hello', 3.14, True, [1, 2, 3]]\n"
          ]
        }
      ]
    },
    {
      "cell_type": "code",
      "source": [
        "# Question 21: Find the length of each string in [\"apple\", \"banana\", \"cherry\", \"date\"]\n",
        "print(\"\\nQuestion 21: Find the length of each string in ['apple', 'banana', 'cherry', 'date']\")\n",
        "# Your code here\n",
        "\n",
        "fruits = [\"apple\", \"banana\", \"cherry\", \"date\"]\n",
        "lengths = [len(fruit) for fruit in fruits]\n",
        "\n",
        "print(\"Lengths of each string:\", lengths)"
      ],
      "metadata": {
        "colab": {
          "base_uri": "https://localhost:8080/"
        },
        "id": "8OqLHABDt63L",
        "outputId": "8ce8e8c7-1e06-4117-9e34-953291c9f328"
      },
      "execution_count": 30,
      "outputs": [
        {
          "output_type": "stream",
          "name": "stdout",
          "text": [
            "\n",
            "Question 21: Find the length of each string in ['apple', 'banana', 'cherry', 'date']\n",
            "Lengths of each string: [5, 6, 6, 4]\n"
          ]
        }
      ]
    },
    {
      "cell_type": "code",
      "source": [
        "# Question 22: Create a list of tuples: [(1, 'a'), (2, 'b'), (3, 'c')]\n",
        "print(\"\\nQuestion 22: Create a list of tuples: [(1, 'a'), (2, 'b'), (3, 'c')]\")\n",
        "# Your code here\n",
        "\n",
        "list_of_tuples = [(1, 'a'), (2, 'b'), (3, 'c')]\n",
        "\n",
        "print(\"List of tuples:\", list_of_tuples)"
      ],
      "metadata": {
        "colab": {
          "base_uri": "https://localhost:8080/"
        },
        "id": "qKMqQu8Pt6xd",
        "outputId": "a049e812-4a47-4232-e914-ccbcd092d47a"
      },
      "execution_count": 31,
      "outputs": [
        {
          "output_type": "stream",
          "name": "stdout",
          "text": [
            "\n",
            "Question 22: Create a list of tuples: [(1, 'a'), (2, 'b'), (3, 'c')]\n",
            "List of tuples: [(1, 'a'), (2, 'b'), (3, 'c')]\n"
          ]
        }
      ]
    },
    {
      "cell_type": "code",
      "source": [
        "# Question 23: Extract first element from each tuple in [(1, 'a'), (2, 'b'), (3, 'c')]\n",
        "print(\"\\nQuestion 23: Extract first element from each tuple in [(1, 'a'), (2, 'b'), (3, 'c')]\")\n",
        "# Your code here\n",
        "\n",
        "tuple_list = [(1, 'a'), (2, 'b'), (3, 'c')]\n",
        "first_elements = [t[0] for t in tuple_list]\n",
        "\n",
        "print(\"First elements:\", first_elements)"
      ],
      "metadata": {
        "colab": {
          "base_uri": "https://localhost:8080/"
        },
        "id": "MOmmnCPmt6uL",
        "outputId": "1bf89038-6839-4578-cb1e-859189c8509f"
      },
      "execution_count": 32,
      "outputs": [
        {
          "output_type": "stream",
          "name": "stdout",
          "text": [
            "\n",
            "Question 23: Extract first element from each tuple in [(1, 'a'), (2, 'b'), (3, 'c')]\n",
            "First elements: [1, 2, 3]\n"
          ]
        }
      ]
    },
    {
      "cell_type": "code",
      "source": [
        "# Question 24: Create a list of dictionaries: [{'name': 'Alice', 'age': 25}, {'name': 'Bob', 'age': 30}]\n",
        "print(\"\\nQuestion 24: Create a list of dictionaries: [{'name': 'Alice', 'age': 25}, {'name': 'Bob', 'age': 30}]\")\n",
        "# Your code here\n",
        "\n",
        "people = [{'name': 'Alice', 'age': 25}, {'name': 'Bob', 'age': 30}]\n",
        "\n",
        "print(\"List of dictionaries:\", people)"
      ],
      "metadata": {
        "colab": {
          "base_uri": "https://localhost:8080/"
        },
        "id": "b9ht5lCvt6nc",
        "outputId": "9063dfff-c74e-4cba-cdfa-eca3fe64a420"
      },
      "execution_count": 33,
      "outputs": [
        {
          "output_type": "stream",
          "name": "stdout",
          "text": [
            "\n",
            "Question 24: Create a list of dictionaries: [{'name': 'Alice', 'age': 25}, {'name': 'Bob', 'age': 30}]\n",
            "List of dictionaries: [{'name': 'Alice', 'age': 25}, {'name': 'Bob', 'age': 30}]\n"
          ]
        }
      ]
    },
    {
      "cell_type": "code",
      "source": [
        "# Question 25: Extract all 'name' values from list of dictionaries\n",
        "print(\"\\nQuestion 25: Extract all 'name' values from list of dictionaries\")\n",
        "# Your code here\n",
        "\n",
        "people = [{'name': 'Alice', 'age': 25}, {'name': 'Bob', 'age': 30}]\n",
        "names = [person['name'] for person in people]\n",
        "\n",
        "print(\"Names:\", names)\n"
      ],
      "metadata": {
        "colab": {
          "base_uri": "https://localhost:8080/"
        },
        "id": "9RkBm3h5t6ht",
        "outputId": "fcb8f401-2ab3-4705-db2d-cabeb3e52995"
      },
      "execution_count": 34,
      "outputs": [
        {
          "output_type": "stream",
          "name": "stdout",
          "text": [
            "\n",
            "Question 25: Extract all 'name' values from list of dictionaries\n",
            "Names: ['Alice', 'Bob']\n"
          ]
        }
      ]
    },
    {
      "cell_type": "code",
      "source": [
        "# Question 26: Find the person with maximum age in list of dictionaries\n",
        "print(\"\\nQuestion 26: Find the person with maximum age in list of dictionaries\")\n",
        "# Your code here\n",
        "\n",
        "people = [{'name': 'Alice', 'age': 25}, {'name': 'Bob', 'age': 30}]\n",
        "oldest_person = max(people, key=lambda person: person['age'])\n",
        "\n",
        "print(\"Person with maximum age:\", oldest_person)\n"
      ],
      "metadata": {
        "colab": {
          "base_uri": "https://localhost:8080/"
        },
        "id": "afaHOJRDt6eD",
        "outputId": "71e7834f-a490-4b83-a624-65e7f614a074"
      },
      "execution_count": 35,
      "outputs": [
        {
          "output_type": "stream",
          "name": "stdout",
          "text": [
            "\n",
            "Question 26: Find the person with maximum age in list of dictionaries\n",
            "Person with maximum age: {'name': 'Bob', 'age': 30}\n"
          ]
        }
      ]
    },
    {
      "cell_type": "code",
      "source": [
        "# Question 27: Create a 4D list: [[[[1, 2], [3, 4]], [[5, 6], [7, 8]]], [[[9, 10], [11, 12]], [[13, 14], [15, 16]]]]\n",
        "print(\"\\nQuestion 27: Create a 4D list: [[[[1, 2], [3, 4]], [[5, 6], [7, 8]]], [[[9, 10], [11, 12]], [[13, 14], [15, 16]]]]\")\n",
        "\n",
        "four_d_list = [\n",
        "    [  # First 3D block\n",
        "        [[1, 2], [3, 4]],\n",
        "        [[5, 6], [7, 8]]\n",
        "    ],\n",
        "    [  # Second 3D block\n",
        "        [[9, 10], [11, 12]],\n",
        "        [[13, 14], [15, 16]]\n",
        "    ]\n",
        "]\n",
        "\n",
        "print(\"4D list:\", four_d_list)"
      ],
      "metadata": {
        "colab": {
          "base_uri": "https://localhost:8080/"
        },
        "id": "9dIp57Tht6br",
        "outputId": "b82666b7-d7d5-4447-c16b-0f386c33aae3"
      },
      "execution_count": 37,
      "outputs": [
        {
          "output_type": "stream",
          "name": "stdout",
          "text": [
            "\n",
            "Question 27: Create a 4D list: [[[[1, 2], [3, 4]], [[5, 6], [7, 8]]], [[[9, 10], [11, 12]], [[13, 14], [15, 16]]]]\n",
            "4D list: [[[[1, 2], [3, 4]], [[5, 6], [7, 8]]], [[[9, 10], [11, 12]], [[13, 14], [15, 16]]]]\n"
          ]
        }
      ]
    },
    {
      "cell_type": "code",
      "source": [
        "# Question 28: Find the maximum value in 4D list\n",
        "print(\"\\nQuestion 28: Find the maximum value in 4D list\")\n",
        "# Your code here\n",
        "\n",
        "four_d_list = [\n",
        "    [  # First 3D block\n",
        "        [[1, 2], [3, 4]],\n",
        "        [[5, 6], [7, 8]]\n",
        "    ],\n",
        "    [  # Second 3D block\n",
        "        [[9, 10], [11, 12]],\n",
        "        [[13, 14], [15, 16]]\n",
        "    ]\n",
        "]\n",
        "\n",
        "# Flatten and find max\n",
        "max_value = max(num for block3d in four_d_list\n",
        "                    for block2d in block3d\n",
        "                    for block1d in block2d\n",
        "                    for num in block1d)\n",
        "\n",
        "print(\"Maximum value in 4D list:\", max_value)"
      ],
      "metadata": {
        "colab": {
          "base_uri": "https://localhost:8080/"
        },
        "id": "PTTQ5T26t6Zg",
        "outputId": "37d7b774-c783-4277-af8d-7ed384012b19"
      },
      "execution_count": 39,
      "outputs": [
        {
          "output_type": "stream",
          "name": "stdout",
          "text": [
            "\n",
            "Question 28: Find the maximum value in 4D list\n",
            "Maximum value in 4D list: 16\n"
          ]
        }
      ]
    },
    {
      "cell_type": "code",
      "source": [
        "# Question 29: Create a list of sets: [{1, 2, 3}, {4, 5, 6}, {7, 8, 9}]\n",
        "print(\"\\nQuestion 29: Create a list of sets: [{1, 2, 3}, {4, 5, 6}, {7, 8, 9}]\")\n",
        "# Your code here\n",
        "\n",
        "list_of_sets = [{1, 2, 3}, {4, 5, 6}, {7, 8, 9}]\n",
        "\n",
        "print(\"List of sets:\", list_of_sets)\n"
      ],
      "metadata": {
        "colab": {
          "base_uri": "https://localhost:8080/"
        },
        "id": "NPRJmNl3vfDV",
        "outputId": "4e3d7b78-c7ba-4e16-9a38-5e6c4f97a959"
      },
      "execution_count": 40,
      "outputs": [
        {
          "output_type": "stream",
          "name": "stdout",
          "text": [
            "\n",
            "Question 29: Create a list of sets: [{1, 2, 3}, {4, 5, 6}, {7, 8, 9}]\n",
            "List of sets: [{1, 2, 3}, {4, 5, 6}, {8, 9, 7}]\n"
          ]
        }
      ]
    },
    {
      "cell_type": "code",
      "source": [
        "# Question 30: Find the union of all sets in list of sets\n",
        "print(\"\\nQuestion 30: Find the union of all sets in list of sets\")\n",
        "# Your code here\n",
        "\n",
        "list_of_sets = [{1, 2, 3}, {4, 5, 6}, {7, 8, 9}]\n",
        "union_set = set().union(*list_of_sets)\n",
        "\n",
        "print(\"Union of all sets:\", union_set)"
      ],
      "metadata": {
        "colab": {
          "base_uri": "https://localhost:8080/"
        },
        "id": "nlAyv5lbve_r",
        "outputId": "e7823e9b-5773-4a17-a358-e0c938d4cad2"
      },
      "execution_count": 42,
      "outputs": [
        {
          "output_type": "stream",
          "name": "stdout",
          "text": [
            "\n",
            "Question 30: Find the union of all sets in list of sets\n",
            "Union of all sets: {1, 2, 3, 4, 5, 6, 7, 8, 9}\n"
          ]
        }
      ]
    },
    {
      "cell_type": "code",
      "source": [
        "# Question 31: Create a list of complex numbers: [1+2j, 3+4j, 5+6j]\n",
        "print(\"\\nQuestion 31: Create a list of complex numbers: [1+2j, 3+4j, 5+6j]\")\n",
        "# Your code here\n",
        "\n",
        "complex_list = [1+2j, 3+4j, 5+6j]\n",
        "\n",
        "print(\"List of complex numbers:\", complex_list)"
      ],
      "metadata": {
        "colab": {
          "base_uri": "https://localhost:8080/"
        },
        "id": "as8PbU3wve7l",
        "outputId": "82754216-4bc4-4006-9444-4028d1d437dc"
      },
      "execution_count": 43,
      "outputs": [
        {
          "output_type": "stream",
          "name": "stdout",
          "text": [
            "\n",
            "Question 31: Create a list of complex numbers: [1+2j, 3+4j, 5+6j]\n",
            "List of complex numbers: [(1+2j), (3+4j), (5+6j)]\n"
          ]
        }
      ]
    },
    {
      "cell_type": "code",
      "source": [
        "# Question 32: Find the magnitude of each complex number in list\n",
        "print(\"\\nQuestion 32: Find the magnitude of each complex number in list\")\n",
        "# Your code here\n",
        "\n",
        "complex_list = [1+2j, 3+4j, 5+6j]\n",
        "magnitudes = [abs(num) for num in complex_list]\n",
        "\n",
        "print(\"Magnitudes of complex numbers:\", magnitudes)"
      ],
      "metadata": {
        "colab": {
          "base_uri": "https://localhost:8080/"
        },
        "id": "8Fyf3SCSve2C",
        "outputId": "b393db20-1dd1-403e-d0b8-bb5fa3c8e390"
      },
      "execution_count": 45,
      "outputs": [
        {
          "output_type": "stream",
          "name": "stdout",
          "text": [
            "\n",
            "Question 32: Find the magnitude of each complex number in list\n",
            "Magnitudes of complex numbers: [2.23606797749979, 5.0, 7.810249675906654]\n"
          ]
        }
      ]
    },
    {
      "cell_type": "code",
      "source": [
        "# Question 33: Create a nested list with different levels: [1, [2, 3], [4, [5, 6]], 7]\n",
        "print(\"\\nQuestion 33: Create a nested list with different levels: [1, [2, 3], [4, [5, 6]], 7]\")\n",
        "\n",
        "nested_list = [1, [2, 3], [4, [5, 6]], 7]\n",
        "\n",
        "print(\"Nested list:\", nested_list)"
      ],
      "metadata": {
        "colab": {
          "base_uri": "https://localhost:8080/"
        },
        "id": "_xEpX-p5vevM",
        "outputId": "7bba698c-c707-4ebd-eee2-28186af6f417"
      },
      "execution_count": 46,
      "outputs": [
        {
          "output_type": "stream",
          "name": "stdout",
          "text": [
            "\n",
            "Question 33: Create a nested list with different levels: [1, [2, 3], [4, [5, 6]], 7]\n",
            "Nested list: [1, [2, 3], [4, [5, 6]], 7]\n"
          ]
        }
      ]
    },
    {
      "cell_type": "code",
      "source": [
        "# Question 34: Count the depth of nesting in [1, [2, 3], [4, [5, 6]], 7]\n",
        "print(\"\\nQuestion 34: Count the depth of nesting in [1, [2, 3], [4, [5, 6]], 7]\")\n",
        "# Your code here\n",
        "\n",
        "def count_depth(lst):\n",
        "    if not isinstance(lst, list):\n",
        "        return 0\n",
        "    elif not lst:\n",
        "        return 1\n",
        "    else:\n",
        "        return 1 + max(count_depth(item) for item in lst)\n",
        "\n",
        "nested_list = [1, [2, 3], [4, [5, 6]], 7]\n",
        "depth = count_depth(nested_list)\n",
        "\n",
        "print(\"Depth of nesting:\", depth)\n"
      ],
      "metadata": {
        "colab": {
          "base_uri": "https://localhost:8080/"
        },
        "id": "FX-qIDlRwR7a",
        "outputId": "01726e87-2e3f-4a17-ea49-0feaf39abea8"
      },
      "execution_count": 47,
      "outputs": [
        {
          "output_type": "stream",
          "name": "stdout",
          "text": [
            "\n",
            "Question 34: Count the depth of nesting in [1, [2, 3], [4, [5, 6]], 7]\n",
            "Depth of nesting: 3\n"
          ]
        }
      ]
    },
    {
      "cell_type": "code",
      "source": [
        "\n",
        "# Question 35: Create a list of functions: [len, str, int, float]\n",
        "print(\"\\nQuestion 35: Create a list of functions: [len, str, int, float]\")\n",
        "# Your code here\n",
        "\n",
        "functions_list = [len, str, int, float]\n",
        "\n",
        "print(\"List of functions:\", functions_list)\n",
        "\n",
        "# Example usage:\n",
        "print(\"len('hello'):\", functions_list[0](\"hello\"))\n",
        "print(\"str(123):\", functions_list )\n",
        "print(\"int('456'):\", functions_list[2](\"456\"))\n",
        "print(\"float('3.14'):\", functions_list[3](\"3.14\"))\n"
      ],
      "metadata": {
        "colab": {
          "base_uri": "https://localhost:8080/"
        },
        "id": "TkUPg-B1wR2V",
        "outputId": "cf39eb00-3174-4886-8486-aed7c9a5606c"
      },
      "execution_count": 48,
      "outputs": [
        {
          "output_type": "stream",
          "name": "stdout",
          "text": [
            "\n",
            "Question 35: Create a list of functions: [len, str, int, float]\n",
            "List of functions: [<built-in function len>, <class 'str'>, <class 'int'>, <class 'float'>]\n",
            "len('hello'): 5\n",
            "str(123): [<built-in function len>, <class 'str'>, <class 'int'>, <class 'float'>]\n",
            "int('456'): 456\n",
            "float('3.14'): 3.14\n"
          ]
        }
      ]
    },
    {
      "cell_type": "code",
      "source": [
        "# Question 36: Apply each function in list to string \"123\"\n",
        "print(\"\\nQuestion 36: Apply each function in list to string '123'\")\n",
        "# Your code here\n",
        "\n",
        "functions_list = [len, str, int, float]\n",
        "input_str = \"123\"\n",
        "\n",
        "results = [func(input_str) for func in functions_list]\n",
        "\n",
        "print(\"Results of applying each function:\", results)"
      ],
      "metadata": {
        "colab": {
          "base_uri": "https://localhost:8080/"
        },
        "id": "-ul1MUMkwRzw",
        "outputId": "962fdf40-e7bd-4973-c1cf-bc7d87bfd43a"
      },
      "execution_count": 49,
      "outputs": [
        {
          "output_type": "stream",
          "name": "stdout",
          "text": [
            "\n",
            "Question 36: Apply each function in list to string '123'\n",
            "Results of applying each function: [3, '123', 123, 123.0]\n"
          ]
        }
      ]
    },
    {
      "cell_type": "code",
      "source": [
        "# Question 37: Create a list of lambda functions: [lambda x: x*2, lambda x: x**2, lambda x: x+1]\n",
        "print(\"\\nQuestion 37: Create a list of lambda functions: [lambda x: x*2, lambda x: x**2, lambda x: x+1]\")\n",
        "# Your code here\n",
        "\n",
        "lambda_functions = [\n",
        "    lambda x: x * 2,\n",
        "    lambda x: x ** 2,\n",
        "    lambda x: x + 1\n",
        "]\n",
        "\n",
        "print(\"List of lambda functions:\", lambda_functions)\n",
        "\n",
        "# Example usage:\n",
        "for func in lambda_functions:\n",
        "    print(func(5))"
      ],
      "metadata": {
        "colab": {
          "base_uri": "https://localhost:8080/"
        },
        "id": "K7ra476ywRxT",
        "outputId": "c5d0edf6-2654-4f90-fe5c-4924e964e136"
      },
      "execution_count": 52,
      "outputs": [
        {
          "output_type": "stream",
          "name": "stdout",
          "text": [
            "\n",
            "Question 37: Create a list of lambda functions: [lambda x: x*2, lambda x: x**2, lambda x: x+1]\n",
            "List of lambda functions: [<function <lambda> at 0x7fb8dbf2f100>, <function <lambda> at 0x7fb8dbf2f1a0>, <function <lambda> at 0x7fb8dbf2f240>]\n",
            "10\n",
            "25\n",
            "6\n"
          ]
        }
      ]
    },
    {
      "cell_type": "code",
      "source": [
        "# Question 38: Apply each lambda function to 5\n",
        "print(\"\\nQuestion 38: Apply each lambda function to 5\")\n",
        "# Your code here\n",
        "\n",
        "lambda_functions = [\n",
        "    lambda x: x * 2,\n",
        "    lambda x: x ** 2,\n",
        "    lambda x: x + 1\n",
        "]\n",
        "\n",
        "results = [func(5) for func in lambda_functions]\n",
        "\n",
        "print(\"Results:\", results)"
      ],
      "metadata": {
        "colab": {
          "base_uri": "https://localhost:8080/"
        },
        "id": "b2jwPQaxwRqg",
        "outputId": "a2b0f1df-ea33-4c75-ce29-5da71f923320"
      },
      "execution_count": 53,
      "outputs": [
        {
          "output_type": "stream",
          "name": "stdout",
          "text": [
            "\n",
            "Question 38: Apply each lambda function to 5\n",
            "Results: [10, 25, 6]\n"
          ]
        }
      ]
    },
    {
      "cell_type": "code",
      "source": [
        "# Question 39: Create a list of classes: [list, dict, set, tuple]\n",
        "print(\"\\nQuestion 39: Create a list of classes: [list, dict, set, tuple]\")\n",
        "# Your code here\n",
        "\n",
        "classes_list = [list, dict, set, tuple]\n",
        "\n",
        "print(\"List of classes:\", classes_list)"
      ],
      "metadata": {
        "colab": {
          "base_uri": "https://localhost:8080/"
        },
        "id": "Ft6vlyjkwRoO",
        "outputId": "2a4f387f-c5e6-431b-c1c5-4b1fc5ae37c5"
      },
      "execution_count": 54,
      "outputs": [
        {
          "output_type": "stream",
          "name": "stdout",
          "text": [
            "\n",
            "Question 39: Create a list of classes: [list, dict, set, tuple]\n",
            "List of classes: [<class 'list'>, <class 'dict'>, <class 'set'>, <class 'tuple'>]\n"
          ]
        }
      ]
    },
    {
      "cell_type": "markdown",
      "source": [],
      "metadata": {
        "id": "aPTUSZlaxnfF"
      }
    },
    {
      "cell_type": "code",
      "source": [
        "# Question 40: Create instances of each class in list\n",
        "print(\"\\nQuestion 40: Create instances of each class in list\")\n",
        "# Your code here\n",
        "\n",
        "classes_list = [list, dict, set, tuple]\n",
        "\n",
        "# Create instances using default constructors\n",
        "instances = [cls() for cls in classes_list]\n",
        "\n",
        "print(\"Instances of each class:\", instances)"
      ],
      "metadata": {
        "colab": {
          "base_uri": "https://localhost:8080/"
        },
        "id": "-oRFHaiewRl2",
        "outputId": "76bb3611-2a26-446a-db81-57a45e25bae4"
      },
      "execution_count": 55,
      "outputs": [
        {
          "output_type": "stream",
          "name": "stdout",
          "text": [
            "\n",
            "Question 40: Create instances of each class in list\n",
            "Instances of each class: [[], {}, set(), ()]\n"
          ]
        }
      ]
    },
    {
      "cell_type": "code",
      "source": [
        "# Question 41: Create a list of None values: [None, None, None, None]\n",
        "print(\"\\nQuestion 41: Create a list of None values: [None, None, None, None]\")\n",
        "# Your code here\n",
        "print(\"\\nQuestion 41: Create a list of None values: [None, None, None, None]\")\n",
        "\n",
        "none_list =_\n"
      ],
      "metadata": {
        "colab": {
          "base_uri": "https://localhost:8080/"
        },
        "id": "K8Zabg-7wRj0",
        "outputId": "58c2973c-d291-43b7-b5f1-44891236eeeb"
      },
      "execution_count": 56,
      "outputs": [
        {
          "output_type": "stream",
          "name": "stdout",
          "text": [
            "\n",
            "Question 41: Create a list of None values: [None, None, None, None]\n",
            "\n",
            "Question 41: Create a list of None values: [None, None, None, None]\n"
          ]
        }
      ]
    },
    {
      "cell_type": "code",
      "source": [
        "# Question 42: Replace all None values with 0 in list\n",
        "print(\"\\nQuestion 42: Replace all None values with 0 in list\")\n",
        "# Your code here\n",
        "\n",
        "none_list = [None, None, None, None]\n",
        "replaced_list = [0 if x is None else x for x in none_list]\n",
        "\n",
        "print(\"List after replacement:\", replaced_list)"
      ],
      "metadata": {
        "colab": {
          "base_uri": "https://localhost:8080/"
        },
        "id": "S1gzgXkEzJBm",
        "outputId": "78e3924e-ccdc-48d0-c418-66e8dc8197ee"
      },
      "execution_count": 57,
      "outputs": [
        {
          "output_type": "stream",
          "name": "stdout",
          "text": [
            "\n",
            "Question 42: Replace all None values with 0 in list\n",
            "List after replacement: [0, 0, 0, 0]\n"
          ]
        }
      ]
    },
    {
      "cell_type": "code",
      "source": [
        "# Question 43: Create a list of boolean values: [True, False, True, False]\n",
        "print(\"\\nQuestion 43: Create a list of boolean values: [True, False, True, False]\")\n",
        "# Your code here\n",
        "\n",
        "bool_list = [True, False, True, False]\n",
        "\n",
        "print(\"List of boolean values:\", bool_list)"
      ],
      "metadata": {
        "colab": {
          "base_uri": "https://localhost:8080/"
        },
        "id": "QFGJpREhzI-E",
        "outputId": "94f66c49-15a4-4cf9-901c-3f12b18e7664"
      },
      "execution_count": 58,
      "outputs": [
        {
          "output_type": "stream",
          "name": "stdout",
          "text": [
            "\n",
            "Question 43: Create a list of boolean values: [True, False, True, False]\n",
            "List of boolean values: [True, False, True, False]\n"
          ]
        }
      ]
    },
    {
      "cell_type": "code",
      "source": [
        "# Question 44: Count True values in boolean list\n",
        "print(\"\\nQuestion 44: Count True values in boolean list\")\n",
        "# Your code here\n",
        "\n",
        "bool_list = [True, False, True, False]\n",
        "\n",
        "true_count = sum(bool_list)\n",
        "\n",
        "print(\"Number of True values:\", true_count)"
      ],
      "metadata": {
        "colab": {
          "base_uri": "https://localhost:8080/"
        },
        "id": "04B8IGe-zI7o",
        "outputId": "f326b655-8c38-416f-bafe-f77091794433"
      },
      "execution_count": 59,
      "outputs": [
        {
          "output_type": "stream",
          "name": "stdout",
          "text": [
            "\n",
            "Question 44: Count True values in boolean list\n",
            "Number of True values: 2\n"
          ]
        }
      ]
    },
    {
      "cell_type": "code",
      "source": [
        "# Question 45: Create a list of ranges: [range(3), range(5), range(2)]\n",
        "print(\"\\nQuestion 45: Create a list of ranges: [range(3), range(5), range(2)]\")\n",
        "# Your code here\n",
        "\n",
        "ranges_list = [range(3), range(5), range(2)]\n",
        "\n",
        "print(\"List of ranges:\", ranges_list)\n",
        "\n",
        "# To display the actual numbers in each range:\n",
        "for r in ranges_list:\n",
        "    print(list(r))"
      ],
      "metadata": {
        "colab": {
          "base_uri": "https://localhost:8080/"
        },
        "id": "36xUfnpQzI5P",
        "outputId": "08c19b7e-da18-4a45-d466-5f5d2f5e9e31"
      },
      "execution_count": 60,
      "outputs": [
        {
          "output_type": "stream",
          "name": "stdout",
          "text": [
            "\n",
            "Question 45: Create a list of ranges: [range(3), range(5), range(2)]\n",
            "List of ranges: [range(0, 3), range(0, 5), range(0, 2)]\n",
            "[0, 1, 2]\n",
            "[0, 1, 2, 3, 4]\n",
            "[0, 1]\n"
          ]
        }
      ]
    },
    {
      "cell_type": "code",
      "source": [
        "# Question 46: Convert each range to list\n",
        "print(\"\\nQuestion 46: Convert each range to list\")\n",
        "# Your code here\n",
        "\n",
        "ranges_list = [range(3), range(5), range(2)]\n",
        "\n",
        "lists_from_ranges = [list(r) for r in ranges_list]\n",
        "\n",
        "print(\"Converted lists:\", lists_from_ranges)"
      ],
      "metadata": {
        "colab": {
          "base_uri": "https://localhost:8080/"
        },
        "id": "HsDm1gu7zIlO",
        "outputId": "38740f92-e4bc-458c-d2c2-b8ef3b385350"
      },
      "execution_count": 61,
      "outputs": [
        {
          "output_type": "stream",
          "name": "stdout",
          "text": [
            "\n",
            "Question 46: Convert each range to list\n",
            "Converted lists: [[0, 1, 2], [0, 1, 2, 3, 4], [0, 1]]\n"
          ]
        }
      ]
    },
    {
      "cell_type": "code",
      "source": [
        "# Question 47: Create a list of generators: [(x for x in range(3)), (x for x in range(5))]\n",
        "print(\"\\nQuestion 47: Create a list of generators: [(x for x in range(3)), (x for x in range(5))]\")\n",
        "# Your code here\n",
        "\n",
        "generators_list = [(x for x in range(3)), (x for x in range(5))]\n",
        "\n",
        "print(\"List of generators:\", generators_list)\n",
        "\n",
        "# To see the values generated, you can convert them to lists:\n",
        "for i, gen in enumerate(generators_list, 1):\n",
        "    print(f\"Generator {i} output:\", list(gen))"
      ],
      "metadata": {
        "colab": {
          "base_uri": "https://localhost:8080/"
        },
        "id": "3abfTJAmzIfn",
        "outputId": "503eaecb-93d3-46df-8084-1d57c6eff852"
      },
      "execution_count": 62,
      "outputs": [
        {
          "output_type": "stream",
          "name": "stdout",
          "text": [
            "\n",
            "Question 47: Create a list of generators: [(x for x in range(3)), (x for x in range(5))]\n",
            "List of generators: [<generator object <genexpr> at 0x7fb8f010dc00>, <generator object <genexpr> at 0x7fb8f010d600>]\n",
            "Generator 1 output: [0, 1, 2]\n",
            "Generator 2 output: [0, 1, 2, 3, 4]\n"
          ]
        }
      ]
    },
    {
      "cell_type": "code",
      "source": [
        "# Question 48: Convert each generator to list\n",
        "print(\"\\nQuestion 48: Convert each generator to list\")\n",
        "# Your code here\n",
        "\n",
        "generators_list = [(x for x in range(3)), (x for x in range(5))]\n",
        "\n",
        "converted_lists = [list(gen) for gen in generators_list]\n",
        "\n",
        "print(\"Converted lists from generators:\", converted_lists)"
      ],
      "metadata": {
        "colab": {
          "base_uri": "https://localhost:8080/"
        },
        "id": "8hjeicTtzIan",
        "outputId": "72eeb32c-4b13-447b-a20d-7691b4117ec2"
      },
      "execution_count": 63,
      "outputs": [
        {
          "output_type": "stream",
          "name": "stdout",
          "text": [
            "\n",
            "Question 48: Convert each generator to list\n",
            "Converted lists from generators: [[0, 1, 2], [0, 1, 2, 3, 4]]\n"
          ]
        }
      ]
    },
    {
      "cell_type": "code",
      "source": [
        "# Question 49: Create a list of iterators: [iter([1, 2, 3]), iter([4, 5, 6])]\n",
        "print(\"\\nQuestion 49: Create a list of iterators: [iter([1, 2, 3]), iter([4, 5, 6])]\")\n",
        "# Your code here\n",
        "\n",
        "iterators_list = [iter([1, 2, 3]), iter([4, 5, 6])]\n",
        "\n",
        "print(\"List of iterators:\", iterators_list)\n",
        "\n",
        "# To see the values from each iterator, convert them to lists:\n",
        "for i, it in enumerate(iterators_list, 1):\n",
        "    print(f\"Iterator {i} output:\", list(it))"
      ],
      "metadata": {
        "colab": {
          "base_uri": "https://localhost:8080/"
        },
        "id": "yE0JYy4pz6h3",
        "outputId": "426aef2e-a3f0-46ed-8096-c75a90b5d852"
      },
      "execution_count": 64,
      "outputs": [
        {
          "output_type": "stream",
          "name": "stdout",
          "text": [
            "\n",
            "Question 49: Create a list of iterators: [iter([1, 2, 3]), iter([4, 5, 6])]\n",
            "List of iterators: [<list_iterator object at 0x7fb8dbf74b20>, <list_iterator object at 0x7fb8dbfa5a50>]\n",
            "Iterator 1 output: [1, 2, 3]\n",
            "Iterator 2 output: [4, 5, 6]\n"
          ]
        }
      ]
    },
    {
      "cell_type": "code",
      "source": [
        "# Question 50: Extract all elements from each iterator\n",
        "print(\"\\nQuestion 50: Extract all elements from each iterator\")\n",
        "\n",
        "iterators_list = [iter([1, 2, 3]), iter([4, 5, 6])]\n",
        "\n",
        "extracted_elements = [list(it) for it in iterators_list]\n",
        "\n",
        "print(\"Extracted elements from each iterator:\", extracted_elements)"
      ],
      "metadata": {
        "colab": {
          "base_uri": "https://localhost:8080/"
        },
        "id": "k2EEspnHz6Ve",
        "outputId": "9dde7bdd-c65a-49c4-c32f-5c764bf3e8e9"
      },
      "execution_count": 65,
      "outputs": [
        {
          "output_type": "stream",
          "name": "stdout",
          "text": [
            "\n",
            "Question 50: Extract all elements from each iterator\n",
            "Extracted elements from each iterator: [[1, 2, 3], [4, 5, 6]]\n"
          ]
        }
      ]
    }
  ]
}