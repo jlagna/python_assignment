{
  "nbformat": 4,
  "nbformat_minor": 0,
  "metadata": {
    "colab": {
      "provenance": []
    },
    "kernelspec": {
      "name": "python3",
      "display_name": "Python 3"
    },
    "language_info": {
      "name": "python"
    }
  },
  "cells": [
    {
      "cell_type": "code",
      "execution_count": 1,
      "metadata": {
        "colab": {
          "base_uri": "https://localhost:8080/"
        },
        "id": "gT-pxer1PhcG",
        "outputId": "9d1fbe33-d29d-42af-c006-1d3a8e3d8443"
      },
      "outputs": [
        {
          "output_type": "stream",
          "name": "stdout",
          "text": [
            "Question 1: Reverse the string 'Python Programming'\n",
            "----------------------------------------------------------------------------------------------------\n"
          ]
        }
      ],
      "source": [
        "# Question 1: Reverse the string \"Python Programming\"\n",
        "print(\"Question 1: Reverse the string 'Python Programming'\")\n",
        "string = 'python programmming'\n",
        "reverse= string[::-1]\n",
        "print(\"-\"*100)"
      ]
    },
    {
      "cell_type": "code",
      "source": [
        "# Question 2: Check if \"racecar\" is a palindrome\n",
        "print(\"\\nQuestion 2: Check if 'racecar' is a palindrome\")\n",
        "str1= \"racer\"\n",
        "str2= str1[::-1]\n",
        "if str1 == str2:\n",
        "    print(\"racer is palindrom\")\n",
        "else:\n",
        "    print(\"not palindrom\")\n",
        "print(\"-\"* 100)"
      ],
      "metadata": {
        "colab": {
          "base_uri": "https://localhost:8080/"
        },
        "id": "KrJGymc6P_ux",
        "outputId": "53b769af-8abe-4915-d3e9-d6a00571228d"
      },
      "execution_count": 2,
      "outputs": [
        {
          "output_type": "stream",
          "name": "stdout",
          "text": [
            "\n",
            "Question 2: Check if 'racecar' is a palindrome\n",
            "not palindrom\n",
            "----------------------------------------------------------------------------------------------------\n"
          ]
        }
      ]
    },
    {
      "cell_type": "code",
      "source": [
        "# Question 3: Count the number of words in \"Python is a great programming language\"\n",
        "print(\"\\nQuestion 3: Count the number of words in 'Python is a great programming language'\")\n",
        "str = \" python is a great programing language \"\n",
        "count = len (str.split())\n",
        "\n",
        "print(\"question 3 : total letters in a string are :\", count)\n",
        "print (\"-\"*100)\n"
      ],
      "metadata": {
        "colab": {
          "base_uri": "https://localhost:8080/"
        },
        "id": "Hdq18ic9P_rQ",
        "outputId": "90670694-a53d-421c-f46b-712ae603916b"
      },
      "execution_count": 3,
      "outputs": [
        {
          "output_type": "stream",
          "name": "stdout",
          "text": [
            "\n",
            "Question 3: Count the number of words in 'Python is a great programming language'\n",
            "question 3 : total letters in a string are : 6\n",
            "----------------------------------------------------------------------------------------------------\n"
          ]
        }
      ]
    },
    {
      "cell_type": "code",
      "source": [
        "# Question 4: Convert \"hello world\" to title case\n",
        "print(\"\\nQuestion 4: Convert 'hello world' to title case\")\n",
        "# Your code here\n",
        "text= \"hello world\"\n",
        "new_text= text.title()\n",
        "print(new_text)"
      ],
      "metadata": {
        "colab": {
          "base_uri": "https://localhost:8080/"
        },
        "id": "YvRgsOSaP_ow",
        "outputId": "fdd0cf5e-0677-407c-e7a9-264406bd71f2"
      },
      "execution_count": 5,
      "outputs": [
        {
          "output_type": "stream",
          "name": "stdout",
          "text": [
            "\n",
            "Question 4: Convert 'hello world' to title case\n",
            "Hello World\n"
          ]
        }
      ]
    },
    {
      "cell_type": "code",
      "source": [
        "# Question 5: Find the length of string \"Data Science\"\n",
        "print(\"\\nQuestion 5: Find the length of string 'Data Science'\")\n",
        "str =\"Data Science\"\n",
        "print(\"question 5: the lenght of a string is :\",len(str))\n",
        "print(\"-\"*100)"
      ],
      "metadata": {
        "colab": {
          "base_uri": "https://localhost:8080/"
        },
        "id": "eODx-stQP_hF",
        "outputId": "0ed79ec0-ba1a-4385-f157-0818997a63ad"
      },
      "execution_count": 7,
      "outputs": [
        {
          "output_type": "stream",
          "name": "stdout",
          "text": [
            "\n",
            "Question 5: Find the length of string 'Data Science'\n",
            "question 5: the lenght of a string is : 12\n",
            "----------------------------------------------------------------------------------------------------\n"
          ]
        }
      ]
    },
    {
      "cell_type": "code",
      "source": [
        "# Question 6: Replace all spaces with underscores in \"Machine Learning\"\n",
        "print(\"\\nQuestion 6: Replace all spaces with underscores in 'Machine Learning'\")\n",
        "text= \"machine learning\"\n",
        "final_text = text.replace(\" \",\"_\")\n",
        "print(\" Question 6: updated text is:\", final_text)\n",
        "print(\"-\"*100)\n",
        ""
      ],
      "metadata": {
        "colab": {
          "base_uri": "https://localhost:8080/"
        },
        "id": "VF0ZWZpSP_df",
        "outputId": "563a2f6f-525b-48c7-f11f-4ceaebfa56cd"
      },
      "execution_count": 8,
      "outputs": [
        {
          "output_type": "stream",
          "name": "stdout",
          "text": [
            "\n",
            "Question 6: Replace all spaces with underscores in 'Machine Learning'\n",
            " Question 6: updated text is: machine_learning\n",
            "----------------------------------------------------------------------------------------------------\n"
          ]
        }
      ]
    },
    {
      "cell_type": "code",
      "source": [
        "# Question 7: Check if \"python\" is in \"Python Programming Language\"\n",
        "print(\"\\nQuestion 7: Check if 'python' is in 'Python Programming Language'\")\n",
        "str =\"python programing language\"\n",
        "sub_str =\"python\"\n",
        "result = str.find(\"python\")\n",
        "\n",
        "if result!= -1:\n",
        "    print(\"question 7: string is found at position:\" ,result)\n",
        "    print(str[result: result+ len(sub_str)])\n",
        "else:\n",
        "     print(\"string not found\")\n",
        "     print(\"_\"*100)"
      ],
      "metadata": {
        "colab": {
          "base_uri": "https://localhost:8080/"
        },
        "id": "QqVXeR3hP_a0",
        "outputId": "325402a0-13f1-4f72-9e4d-17bb72323f5d"
      },
      "execution_count": 9,
      "outputs": [
        {
          "output_type": "stream",
          "name": "stdout",
          "text": [
            "\n",
            "Question 7: Check if 'python' is in 'Python Programming Language'\n",
            "question 7: string is found at position: 0\n",
            "python\n"
          ]
        }
      ]
    },
    {
      "cell_type": "code",
      "source": [
        "# Question 8: Extract the first 5 characters from \"Artificial Intelligence\"\n",
        "print(\"\\nQuestion 8: Extract the first 5 characters from 'Artificial Intelligence'\")\n",
        "text = \"Artificiall Intelligence\"\n",
        "print(\"question 8: the first five charectorsare :\" , text[0:5])\n",
        "print(\"-\"*100)\n",
        ""
      ],
      "metadata": {
        "colab": {
          "base_uri": "https://localhost:8080/"
        },
        "id": "AIOx8_9uTs-C",
        "outputId": "4f259d1e-186f-43e7-ead2-3e30c16de33f"
      },
      "execution_count": 10,
      "outputs": [
        {
          "output_type": "stream",
          "name": "stdout",
          "text": [
            "\n",
            "Question 8: Extract the first 5 characters from 'Artificial Intelligence'\n",
            "question 8: the first five charectorsare : Artif\n",
            "----------------------------------------------------------------------------------------------------\n"
          ]
        }
      ]
    },
    {
      "cell_type": "code",
      "source": [
        "# Question 9: Convert \"UPPERCASE\" to lowercase\n",
        "text= \"UPPERCASE\"\n",
        "print(\" question 9:the lowercase would be:\",text.lower())\n",
        "print(\"-\"*100)"
      ],
      "metadata": {
        "colab": {
          "base_uri": "https://localhost:8080/"
        },
        "id": "JXtUopS4P_YM",
        "outputId": "3ab028bd-f4ec-4ccb-9502-e4c8b935f876"
      },
      "execution_count": 12,
      "outputs": [
        {
          "output_type": "stream",
          "name": "stdout",
          "text": [
            " question 9:the lowercase would be: uppercase\n",
            "----------------------------------------------------------------------------------------------------\n"
          ]
        }
      ]
    },
    {
      "cell_type": "code",
      "source": [
        "# Question 10: Remove all vowels from \"Computer Science\"\n",
        "print(\"\\nQuestion 10: Remove all vowels from 'Computer Science'\")\n",
        "text= \"computer science\"\n",
        "vowels= \"aeiouAEIOU\"\n",
        "str= \"\"\n",
        "\n",
        "for char in text:\n",
        "    if char not in vowels:\n",
        "        str=str+char\n",
        "print(\"question 10: result is:\", str)\n",
        "print(\"_\"*100)"
      ],
      "metadata": {
        "colab": {
          "base_uri": "https://localhost:8080/"
        },
        "id": "-Op8Zq8XP_S9",
        "outputId": "66d7ae47-8d1d-44f2-ee37-51e5e00f0dc7"
      },
      "execution_count": 29,
      "outputs": [
        {
          "output_type": "stream",
          "name": "stdout",
          "text": [
            "\n",
            "Question 10: Remove all vowels from 'Computer Science'\n",
            "question 10: result is: cmptr scnc\n",
            "____________________________________________________________________________________________________\n"
          ]
        }
      ]
    },
    {
      "cell_type": "code",
      "source": [],
      "metadata": {
        "id": "DyCIR2yNVhJ_"
      },
      "execution_count": null,
      "outputs": []
    },
    {
      "cell_type": "markdown",
      "source": [],
      "metadata": {
        "id": "3D9pkIXBVlA0"
      }
    },
    {
      "cell_type": "code",
      "source": [
        "\n",
        "# Question 11: Find the most frequent character in \"mississippi\"\n",
        "print(\"\\nQuestion 11: Find the most frequent character in 'mississippi'\")\n"
      ],
      "metadata": {
        "colab": {
          "base_uri": "https://localhost:8080/"
        },
        "id": "zE1msTudVhGv",
        "outputId": "99b7fd28-735a-434e-e532-eaeccfd97fed"
      },
      "execution_count": 30,
      "outputs": [
        {
          "output_type": "stream",
          "name": "stdout",
          "text": [
            "\n",
            "Question 11: Find the most frequent character in 'mississippi'\n"
          ]
        }
      ]
    },
    {
      "cell_type": "code",
      "source": [
        "# Question 12: Check if two strings are anagrams: \"listen\" and \"silent\"\n",
        "print(\"\\nQuestion 12: Check if two strings are anagrams: 'listen' and 'silent'\")\n",
        "str1= \"listen\"\n",
        "str2= \"silent\"\n",
        "\n",
        "str1= str1.replace(\" \" ,\"\"). lower()\n",
        "str2= str2.replace(\" \",\" \").lower()\n",
        "if sorted(str1) == sorted(str2):\n",
        "     print(\"question 12: strings are anagrams\")\n",
        "else:\n",
        "     print(\"question 12 : stings are not anagrams\")\n",
        "     print(\"-\"*100)\n"
      ],
      "metadata": {
        "colab": {
          "base_uri": "https://localhost:8080/"
        },
        "id": "EexuMHSeWdkk",
        "outputId": "285f6e12-352b-4954-9857-74ccde53ab39"
      },
      "execution_count": 35,
      "outputs": [
        {
          "output_type": "stream",
          "name": "stdout",
          "text": [
            "\n",
            "Question 12: Check if two strings are anagrams: 'listen' and 'silent'\n",
            "question 13: strings are anagrams\n"
          ]
        }
      ]
    },
    {
      "cell_type": "code",
      "source": [
        "# Question 13: Capitalize first letter of each word in \"python programming language\"\n",
        "print(\"\\nQuestion 13: Capitalize first letter of each word in 'python programming language'\")\n",
        "\n",
        "str= \"python programming language \"\n",
        "print( \"question 13 : the string would be: \", str.title())\n",
        "print(\"-\"*100)"
      ],
      "metadata": {
        "colab": {
          "base_uri": "https://localhost:8080/"
        },
        "id": "KRuLJCZFWdhD",
        "outputId": "7012d211-e6aa-4cde-e6fa-d12db5924b65"
      },
      "execution_count": 36,
      "outputs": [
        {
          "output_type": "stream",
          "name": "stdout",
          "text": [
            "\n",
            "Question 13: Capitalize first letter of each word in 'python programming language'\n",
            "question 13 : the string would be:  Python Programming Language \n",
            "----------------------------------------------------------------------------------------------------\n"
          ]
        }
      ]
    },
    {
      "cell_type": "code",
      "source": [
        "# Question 14: Count consonants in \"Hello World\"\n",
        "print(\"\\nQuestion 14: Count consonants in 'Hello World'\")\n",
        "\n",
        "str1= \"Hellow World\"\n",
        "vowels= \"AEIOUaeiou\"\n",
        "count= 0\n",
        "\n",
        "for char in str1:\n",
        "        if char.isalpha() and char not in vowels:\n",
        "            count=count+1\n",
        "print(\"question 14: total consonants are:\" , count)\n",
        "print(\"-\"*100)"
      ],
      "metadata": {
        "colab": {
          "base_uri": "https://localhost:8080/"
        },
        "id": "ZfuMC6sXWdbu",
        "outputId": "061baa8b-b9f5-4866-b37a-4c6405f089ad"
      },
      "execution_count": 37,
      "outputs": [
        {
          "output_type": "stream",
          "name": "stdout",
          "text": [
            "\n",
            "Question 14: Count consonants in 'Hello World'\n",
            "question 14: total consonants are: 8\n",
            "----------------------------------------------------------------------------------------------------\n"
          ]
        }
      ]
    },
    {
      "cell_type": "code",
      "source": [
        "\n",
        "# Question 15: Find the longest word in \"Python is a programming language\"\n",
        "print(\"\\nQuestion 15: Find the longest word in 'Python is a programming language'\")\n",
        "str1= \"python is programiing language\"\n",
        "x= str1.split()\n",
        "longest= max(x)\n",
        "\n",
        "print(\"question 15: longest word is:\", longest)\n",
        "print(\"the length is:\", len(longest))\n",
        "\n",
        "print(\"-\"*100)"
      ],
      "metadata": {
        "colab": {
          "base_uri": "https://localhost:8080/"
        },
        "id": "Mfcfd4nzWdKO",
        "outputId": "18f9d68a-48bc-4482-cf36-c0294858a2e8"
      },
      "execution_count": 38,
      "outputs": [
        {
          "output_type": "stream",
          "name": "stdout",
          "text": [
            "\n",
            "Question 15: Find the longest word in 'Python is a programming language'\n",
            "question 15: longest word is: python\n",
            "the length is: 6\n",
            "----------------------------------------------------------------------------------------------------\n"
          ]
        }
      ]
    },
    {
      "cell_type": "code",
      "source": [
        "# Question 16: Remove all punctuation from \"Hello, World! How are you?\"\n",
        "print(\"\\nQuestion 16: Remove all punctuation from 'Hello, World! How are you?'\")\n",
        "\n",
        "import string\n",
        "str1= \"hello, world! How are you?\"\n",
        "result=\"\"\n",
        "for char in str1:\n",
        "   if char not in string.punctuation:\n",
        "      result= result + char\n",
        "print(\"question 16: my string without punctuation is :\",result)\n",
        "print(\"-\"*100)"
      ],
      "metadata": {
        "colab": {
          "base_uri": "https://localhost:8080/"
        },
        "id": "tfWfs4wmXl7m",
        "outputId": "c04b81ad-3db4-480e-abc0-b13e178fee7d"
      },
      "execution_count": 40,
      "outputs": [
        {
          "output_type": "stream",
          "name": "stdout",
          "text": [
            "\n",
            "Question 16: Remove all punctuation from 'Hello, World! How are you?'\n",
            "question 16: my string without punctuation is : hello world How are you\n",
            "----------------------------------------------------------------------------------------------------\n"
          ]
        }
      ]
    },
    {
      "cell_type": "code",
      "source": [
        "# Question 17: Check if string starts with \"Python\"\n",
        "print(\"\\nQuestion 17: Check if string starts with 'Python'\")\n",
        "text= \"python is the most beautyful language\"\n",
        "\n",
        "if text.startswith('python'):\n",
        "  print(\"question 17: yes,string starts with python\")\n",
        "else:\n",
        "  print(\"question 17: no,string does not starts with python\")\n",
        "  print(\"-\"*100)"
      ],
      "metadata": {
        "colab": {
          "base_uri": "https://localhost:8080/"
        },
        "id": "43-5JZjqXlqn",
        "outputId": "ceb7496a-1bc9-47cc-db50-dda27b6c44c1"
      },
      "execution_count": 46,
      "outputs": [
        {
          "output_type": "stream",
          "name": "stdout",
          "text": [
            "\n",
            "Question 17: Check if string starts with 'Python'\n",
            "question 17: yes,string starts with python\n"
          ]
        }
      ]
    },
    {
      "cell_type": "code",
      "source": [
        "# Question 18: Find the index of first occurrence of 'o' in \"Hello World\"\n",
        "print(\"\\nQuestion 18: Find the index of first occurrence of 'o' in 'Hello World'\")\n",
        "string =\"hello world\"\n",
        "string.find(\"o\")"
      ],
      "metadata": {
        "colab": {
          "base_uri": "https://localhost:8080/"
        },
        "id": "_cdTD53kXljs",
        "outputId": "5c925536-7d8b-4452-fbed-6abb68c83378"
      },
      "execution_count": 47,
      "outputs": [
        {
          "output_type": "stream",
          "name": "stdout",
          "text": [
            "\n",
            "Question 18: Find the index of first occurrence of 'o' in 'Hello World'\n"
          ]
        },
        {
          "output_type": "execute_result",
          "data": {
            "text/plain": [
              "4"
            ]
          },
          "metadata": {},
          "execution_count": 47
        }
      ]
    },
    {
      "cell_type": "code",
      "source": [
        "# Question 19: Split string \"apple,banana,orange\" by comma\n",
        "print(\"\\nQuestion 19: Split string 'apple,banana,orange' by comma\")\n",
        "string = \"apple,bannana,orange\"\n",
        "string.split(',')"
      ],
      "metadata": {
        "colab": {
          "base_uri": "https://localhost:8080/"
        },
        "id": "nX6K5WgUXlei",
        "outputId": "7875d17b-f8e4-425a-f946-b7cecfc750cc"
      },
      "execution_count": 48,
      "outputs": [
        {
          "output_type": "stream",
          "name": "stdout",
          "text": [
            "\n",
            "Question 19: Split string 'apple,banana,orange' by comma\n"
          ]
        },
        {
          "output_type": "execute_result",
          "data": {
            "text/plain": [
              "['apple', 'bannana', 'orange']"
            ]
          },
          "metadata": {},
          "execution_count": 48
        }
      ]
    },
    {
      "cell_type": "code",
      "source": [
        "# Question 20: Join list ['Python', 'is', 'awesome'] with spaces\n",
        "print(\"\\nQuestion 20: Join list ['Python', 'is', 'awesome'] with spaces\")\n",
        "string =['python','is','awesome']\n",
        "new = ''.join(string)\n",
        "new\n"
      ],
      "metadata": {
        "colab": {
          "base_uri": "https://localhost:8080/",
          "height": 70
        },
        "id": "BqFJoDKRXlYM",
        "outputId": "bd8d3e53-acec-4f40-e521-275928fb3073"
      },
      "execution_count": 49,
      "outputs": [
        {
          "output_type": "stream",
          "name": "stdout",
          "text": [
            "\n",
            "Question 20: Join list ['Python', 'is', 'awesome'] with spaces\n"
          ]
        },
        {
          "output_type": "execute_result",
          "data": {
            "text/plain": [
              "'pythonisawesome'"
            ],
            "application/vnd.google.colaboratory.intrinsic+json": {
              "type": "string"
            }
          },
          "metadata": {},
          "execution_count": 49
        }
      ]
    },
    {
      "cell_type": "code",
      "source": [
        "# Question 21: Check if string contains only digits: \"12345\"\n",
        "print(\"\\nQuestion 21: Check if string contains only digits: '12345'\")\n",
        "string = \"12345\"\n",
        "string.isdigit()"
      ],
      "metadata": {
        "colab": {
          "base_uri": "https://localhost:8080/"
        },
        "id": "boLG6xmKbMxm",
        "outputId": "78149c39-2334-466b-95cb-4ffeb6e5cd12"
      },
      "execution_count": 50,
      "outputs": [
        {
          "output_type": "stream",
          "name": "stdout",
          "text": [
            "\n",
            "Question 21: Check if string contains only digits: '12345'\n"
          ]
        },
        {
          "output_type": "execute_result",
          "data": {
            "text/plain": [
              "True"
            ]
          },
          "metadata": {},
          "execution_count": 50
        }
      ]
    },
    {
      "cell_type": "code",
      "source": [
        "# Question 22: Check if string contains only letters: \"HelloWorld\"\n",
        "print(\"\\nQuestion 22: Check if string contains only letters: 'HelloWorld'\")\n",
        "string = \"hellowworld\"\n",
        "string.isalpha()"
      ],
      "metadata": {
        "colab": {
          "base_uri": "https://localhost:8080/"
        },
        "id": "3cObfBWabMph",
        "outputId": "d442239a-926a-4484-ac20-08ed3f9f67cb"
      },
      "execution_count": 51,
      "outputs": [
        {
          "output_type": "stream",
          "name": "stdout",
          "text": [
            "\n",
            "Question 22: Check if string contains only letters: 'HelloWorld'\n"
          ]
        },
        {
          "output_type": "execute_result",
          "data": {
            "text/plain": [
              "True"
            ]
          },
          "metadata": {},
          "execution_count": 51
        }
      ]
    },
    {
      "cell_type": "code",
      "source": [
        "# Question 23: Convert \"hello world\" to \"hElLo WoRlD\" (alternating case)\n",
        "print(\"\\nQuestion 23: Convert 'hello world' to 'hElLo WoRlD' (alternating case)\")\n",
        "string = \"hellow world\"\n",
        "result = \" \"\n",
        "i = 0\n",
        "for x in string :\n",
        "  if i%2 == 0:\n",
        "     result+=x.lower()\n",
        "  else:\n",
        "    result+=x.upper()\n",
        "    i+=1\n",
        "    result"
      ],
      "metadata": {
        "colab": {
          "base_uri": "https://localhost:8080/"
        },
        "id": "nauOai4XbMkm",
        "outputId": "81892609-dc28-4978-c910-98a0d0404aef"
      },
      "execution_count": 52,
      "outputs": [
        {
          "output_type": "stream",
          "name": "stdout",
          "text": [
            "\n",
            "Question 23: Convert 'hello world' to 'hElLo WoRlD' (alternating case)\n"
          ]
        }
      ]
    },
    {
      "cell_type": "code",
      "source": [
        "# Question 24: Find all positions of 'a' in \"banana\"\n",
        "print(\"\\nQuestion 24: Find all positions of 'a' in 'banana'\")\n",
        "string = \"banana\"\n",
        "new = [i for i,val in enumerate(string) if val ==\"a\"]\n",
        "print(new)"
      ],
      "metadata": {
        "colab": {
          "base_uri": "https://localhost:8080/"
        },
        "id": "klO6elSmbMeG",
        "outputId": "a11a5e7c-0f5f-460d-bea9-9f45dcf3f471"
      },
      "execution_count": 57,
      "outputs": [
        {
          "output_type": "stream",
          "name": "stdout",
          "text": [
            "\n",
            "Question 24: Find all positions of 'a' in 'banana'\n",
            "[1, 3, 5]\n"
          ]
        }
      ]
    },
    {
      "cell_type": "code",
      "source": [
        "# Question 25: Remove leading and trailing whitespace from \"  Hello World  \"\n",
        "print(\"\\nQuestion 25: Remove leading and trailing whitespace from '  Hello World  '\")\n",
        "string=\"Hello World\"\n",
        "string.strip()\n"
      ],
      "metadata": {
        "colab": {
          "base_uri": "https://localhost:8080/",
          "height": 70
        },
        "id": "W-CmQFkBbMYc",
        "outputId": "7a42eda5-e200-4aac-aafd-cbb4a84347e2"
      },
      "execution_count": 58,
      "outputs": [
        {
          "output_type": "stream",
          "name": "stdout",
          "text": [
            "\n",
            "Question 25: Remove leading and trailing whitespace from '  Hello World  '\n"
          ]
        },
        {
          "output_type": "execute_result",
          "data": {
            "text/plain": [
              "'Hello World'"
            ],
            "application/vnd.google.colaboratory.intrinsic+json": {
              "type": "string"
            }
          },
          "metadata": {},
          "execution_count": 58
        }
      ]
    },
    {
      "cell_type": "code",
      "source": [
        "# Question 26: Check if string ends with \"ing\": \"programming\"\n",
        "print(\"\\nQuestion 26: Check if string ends with 'ing': 'programming'\")\n",
        "string = \"programming\"\n",
        "string.endswith('ing')"
      ],
      "metadata": {
        "colab": {
          "base_uri": "https://localhost:8080/"
        },
        "id": "ijmH1RNtbMUw",
        "outputId": "53814609-ca27-4747-b175-1e7fd16a9ce6"
      },
      "execution_count": 60,
      "outputs": [
        {
          "output_type": "stream",
          "name": "stdout",
          "text": [
            "\n",
            "Question 26: Check if string ends with 'ing': 'programming'\n"
          ]
        },
        {
          "output_type": "execute_result",
          "data": {
            "text/plain": [
              "True"
            ]
          },
          "metadata": {},
          "execution_count": 60
        }
      ]
    },
    {
      "cell_type": "code",
      "source": [
        "# Question 27: Replace first occurrence of 'o' with '0' in \"Hello World\"\n",
        "print(\"\\nQuestion 27: Replace first occurrence of 'o' with '0' in 'Hello World'\")\n",
        "string =\"hellow world\"\n",
        "string.replace(\"o\",\"0\",1)"
      ],
      "metadata": {
        "colab": {
          "base_uri": "https://localhost:8080/",
          "height": 70
        },
        "id": "t3TF53WubMOe",
        "outputId": "122b4804-e57b-40ed-fa5d-2642af761291"
      },
      "execution_count": 62,
      "outputs": [
        {
          "output_type": "stream",
          "name": "stdout",
          "text": [
            "\n",
            "Question 27: Replace first occurrence of 'o' with '0' in 'Hello World'\n"
          ]
        },
        {
          "output_type": "execute_result",
          "data": {
            "text/plain": [
              "'hell0w world'"
            ],
            "application/vnd.google.colaboratory.intrinsic+json": {
              "type": "string"
            }
          },
          "metadata": {},
          "execution_count": 62
        }
      ]
    },
    {
      "cell_type": "code",
      "source": [
        "# Question 28: Find the shortest word in \"Python is a programming language\"\n",
        "print(\"\\nQuestion 28: Find the shortest word in 'Python is a programming language'\")\n",
        "s = \"Python is a programming language\"\n",
        "shortest = min(s.split(), key=len)\n",
        "print(shortest)"
      ],
      "metadata": {
        "colab": {
          "base_uri": "https://localhost:8080/"
        },
        "id": "FpUUVy33e2ZV",
        "outputId": "260f48e3-1bf7-406d-c311-59f2aecb0eeb"
      },
      "execution_count": 67,
      "outputs": [
        {
          "output_type": "stream",
          "name": "stdout",
          "text": [
            "\n",
            "Question 28: Find the shortest word in 'Python is a programming language'\n",
            "a\n"
          ]
        }
      ]
    },
    {
      "cell_type": "code",
      "source": [
        "# Question 29: Count words that start with 'p' in \"Python programming is powerful\"\n",
        "print(\"\\nQuestion 29: Count words that start with 'p' in 'Python programming is powerful'\")\n",
        "# Your code here\n",
        "string = \"python programming is powerful\"\n",
        "string.count(\"p\")"
      ],
      "metadata": {
        "colab": {
          "base_uri": "https://localhost:8080/"
        },
        "id": "V_i9DlGWe2V3",
        "outputId": "7d0e5ecb-922c-4339-8b10-89cc4936cf12"
      },
      "execution_count": 68,
      "outputs": [
        {
          "output_type": "stream",
          "name": "stdout",
          "text": [
            "\n",
            "Question 29: Count words that start with 'p' in 'Python programming is powerful'\n"
          ]
        },
        {
          "output_type": "execute_result",
          "data": {
            "text/plain": [
              "3"
            ]
          },
          "metadata": {},
          "execution_count": 68
        }
      ]
    },
    {
      "cell_type": "code",
      "source": [
        "# Question 30: Reverse words in \"Hello World Python\"\n",
        "print(\"\\nQuestion 30: Reverse words in 'Hello World Python'\")\n",
        "# Your code here\n",
        "string= \"Hello World Python\"\n",
        "string[::-1]"
      ],
      "metadata": {
        "colab": {
          "base_uri": "https://localhost:8080/",
          "height": 70
        },
        "id": "9ELj6Td5e2Tw",
        "outputId": "b3e940c1-cfb3-4158-eada-29ed5e8813ee"
      },
      "execution_count": 69,
      "outputs": [
        {
          "output_type": "stream",
          "name": "stdout",
          "text": [
            "\n",
            "Question 30: Reverse words in 'Hello World Python'\n"
          ]
        },
        {
          "output_type": "execute_result",
          "data": {
            "text/plain": [
              "'nohtyP dlroW olleH'"
            ],
            "application/vnd.google.colaboratory.intrinsic+json": {
              "type": "string"
            }
          },
          "metadata": {},
          "execution_count": 69
        }
      ]
    },
    {
      "cell_type": "code",
      "source": [
        "# Question 31: Check if string is a valid email format: \"user@example.com\"\n",
        "print(\"\\nQuestion 31: Check if string is a valid email format: 'user@example.com'\")\n",
        "# Your code here\n",
        "string =\"user@example.com\""
      ],
      "metadata": {
        "colab": {
          "base_uri": "https://localhost:8080/"
        },
        "id": "VVf01owxe2RM",
        "outputId": "a4fec0b9-32fc-46d8-fe1a-d7fa75f82d39"
      },
      "execution_count": 70,
      "outputs": [
        {
          "output_type": "stream",
          "name": "stdout",
          "text": [
            "\n",
            "Question 31: Check if string is a valid email format: 'user@example.com'\n"
          ]
        }
      ]
    },
    {
      "cell_type": "code",
      "source": [
        "from posixpath import split\n",
        "# Question 32: Extract domain from \"https://www.example.com/path\"\n",
        "print(\"\\nQuestion 32: Extract domain from 'https://www.example.com/path'\")\n",
        "# Your code here\n",
        "string =\"https://www.example.com/path\"\n",
        "string.split('.')[2]"
      ],
      "metadata": {
        "colab": {
          "base_uri": "https://localhost:8080/",
          "height": 70
        },
        "id": "HcJffbiFe2Og",
        "outputId": "582b1551-4bb1-4dfe-f729-b034e37c51b3"
      },
      "execution_count": 71,
      "outputs": [
        {
          "output_type": "stream",
          "name": "stdout",
          "text": [
            "\n",
            "Question 32: Extract domain from 'https://www.example.com/path'\n"
          ]
        },
        {
          "output_type": "execute_result",
          "data": {
            "text/plain": [
              "'com/path'"
            ],
            "application/vnd.google.colaboratory.intrinsic+json": {
              "type": "string"
            }
          },
          "metadata": {},
          "execution_count": 71
        }
      ]
    },
    {
      "cell_type": "code",
      "source": [
        "from os import statvfs\n",
        "# Question 33: Count lines in multi-line string\n",
        "print(\"\\nQuestion 33: Count lines in multi-line string\")\n",
        "# Your code here\n",
        "string = '''python is programming languagr\\n\n",
        "it is easy to learn\n",
        "it is widely used\n",
        "python is great.'''\n",
        "string.count(\"\\n\")"
      ],
      "metadata": {
        "colab": {
          "base_uri": "https://localhost:8080/"
        },
        "id": "mX9EBw68e2L_",
        "outputId": "1ca2dd0c-dabf-4040-bec2-87b629e40120"
      },
      "execution_count": 72,
      "outputs": [
        {
          "output_type": "stream",
          "name": "stdout",
          "text": [
            "\n",
            "Question 33: Count lines in multi-line string\n"
          ]
        },
        {
          "output_type": "execute_result",
          "data": {
            "text/plain": [
              "4"
            ]
          },
          "metadata": {},
          "execution_count": 72
        }
      ]
    },
    {
      "cell_type": "code",
      "source": [
        "# Question 34: Find common characters between \"hello\" and \"world\"\n",
        "print(\"\\nQuestion 34: Find common characters between 'hello' and 'world'\")\n",
        "# Your code here\n",
        "s1 = \"hello\"\n",
        "s2 = \"world\"\n",
        "\n",
        "common = set(s1) & set(s2)\n",
        "print(\"common characters between\", common)"
      ],
      "metadata": {
        "colab": {
          "base_uri": "https://localhost:8080/"
        },
        "id": "_NRgy0Pre2Jp",
        "outputId": "14a781cf-0cab-49de-bf55-e49529d4c1c6"
      },
      "execution_count": 75,
      "outputs": [
        {
          "output_type": "stream",
          "name": "stdout",
          "text": [
            "\n",
            "Question 34: Find common characters between 'hello' and 'world'\n",
            "common characters between {'l', 'o'}\n"
          ]
        }
      ]
    },
    {
      "cell_type": "code",
      "source": [
        "# Question 35: Check if string is a valid phone number: \"+1-555-123-4567\"\n",
        "print(\"\\nQuestion 35: Check if string is a valid phone number: '+1-555-123-4567'\")\n",
        "jparts = \"+1-555-123-4567\"\n",
        "parts = jparts.split('-')\n",
        "\n",
        "if (len(parts) == 4 and\n",
        "    parts[0].startswith('+') and parts[0][1:].isdigit() and\n",
        "    parts[1].isdigit() and len(parts[1]) == 3 and\n",
        "    parts[2].isdigit() and len(parts[2]) == 3 and\n",
        "    parts[3].isdigit() and len(parts[3]) == 4):\n",
        "    print(\"valid phone number\")\n",
        "else:\n",
        "    print(\"invalid phone number\")"
      ],
      "metadata": {
        "colab": {
          "base_uri": "https://localhost:8080/"
        },
        "id": "1dz7lXEjiUjO",
        "outputId": "db2865a8-cbb2-4538-aee4-c0970a0fc365"
      },
      "execution_count": 80,
      "outputs": [
        {
          "output_type": "stream",
          "name": "stdout",
          "text": [
            "\n",
            "Question 35: Check if string is a valid phone number: '+1-555-123-4567'\n",
            "valid phone number\n"
          ]
        }
      ]
    },
    {
      "cell_type": "code",
      "source": [
        "# Question 36: Extract numbers from \"abc123def456ghi789\"\n",
        "print(\"\\nQuestion 36: Extract numbers from 'abc123def456ghi789'\")\n",
        "# Your code here\n",
        "ab = \"abc123def456ghi789\"\n",
        "\n",
        "numbers = \"\"\n",
        "\n",
        "for ch in ab:\n",
        "  if ch.isdigit():\n",
        "    numbers += ch\n",
        "print(numbers)"
      ],
      "metadata": {
        "colab": {
          "base_uri": "https://localhost:8080/"
        },
        "id": "8rAH-MtYiUfz",
        "outputId": "24a0a93f-68d0-4283-bb70-78471bc2ebe9"
      },
      "execution_count": 82,
      "outputs": [
        {
          "output_type": "stream",
          "name": "stdout",
          "text": [
            "\n",
            "Question 36: Extract numbers from 'abc123def456ghi789'\n",
            "123456789\n"
          ]
        }
      ]
    },
    {
      "cell_type": "code",
      "source": [
        "# Question 37: Convert \"snake_case\" to \"camelCase\"\n",
        "print(\"\\nQuestion 37: Convert 'snake_case' to 'camelCase'\")\n",
        "text = \"snake_case\"\n",
        "\n",
        "parts = text.split(\"_\")\n",
        "camel_case = parts[0] + \"\".join(word.capitalize() for word in parts[1:])\n",
        "print(camel_case)\n"
      ],
      "metadata": {
        "colab": {
          "base_uri": "https://localhost:8080/"
        },
        "id": "2t-hr-vFiUQ6",
        "outputId": "c2f65494-aff8-49d6-dccb-0e8d4d6e83ff"
      },
      "execution_count": 83,
      "outputs": [
        {
          "output_type": "stream",
          "name": "stdout",
          "text": [
            "\n",
            "Question 37: Convert 'snake_case' to 'camelCase'\n",
            "snakeCase\n"
          ]
        }
      ]
    },
    {
      "cell_type": "code",
      "source": [
        "#Question 38: Check if string is a valid palindrome ignoring case: 'A man a plan a canal Panama'\")\n",
        "print(\"\\nQuestion 38: Check if string is a valid palindrome ignoring case: 'A man a plan a canal Panama'\")\n",
        "\n",
        "s = \"A man a plan a canal Panama\"\n",
        "\n",
        "# Clean the string: remove non-alphanumeric characters and convert to lowercase\n",
        "cleaned = ''.join(char.lower() for char in s if char.isalnum())\n",
        "\n",
        "# Check if the cleaned string is equal to its reverse\n",
        "is_palindrome = cleaned == cleaned[::-1]\n",
        "\n",
        "print(\"Is palindrome:\", is_palindrome)"
      ],
      "metadata": {
        "colab": {
          "base_uri": "https://localhost:8080/"
        },
        "id": "LAtQTeeciULM",
        "outputId": "699ffab8-783d-4cea-8098-6a33e1aee4f0"
      },
      "execution_count": 84,
      "outputs": [
        {
          "output_type": "stream",
          "name": "stdout",
          "text": [
            "\n",
            "Question 38: Check if string is a valid palindrome ignoring case: 'A man a plan a canal Panama'\n",
            "Is palindrome: True\n"
          ]
        }
      ]
    },
    {
      "cell_type": "code",
      "source": [
        "# Question 39: Find the most common word in \"the quick brown fox jumps over the lazy dog\"\n",
        "\n",
        "# Your code here\n",
        "print(\"\\nQuestion 39: Find the most common word in 'the quick brown fox jumps over the lazy dog'\")\n",
        "\n",
        "from collections import Counter\n",
        "\n",
        "sentence = \"the quick brown fox jumps over the lazy dog\"\n",
        "words = sentence.split()\n",
        "word_counts = Counter(words)\n",
        "most_common_word, count = word_counts.most_common(1)[0]\n",
        "\n",
        "print(f\"The most common word is '{most_common_word}' which appears {count} time(s).\")\n"
      ],
      "metadata": {
        "colab": {
          "base_uri": "https://localhost:8080/"
        },
        "id": "ECFk16_IiUJE",
        "outputId": "16d6b221-4250-4fb7-f1c4-10b132cfea1a"
      },
      "execution_count": 86,
      "outputs": [
        {
          "output_type": "stream",
          "name": "stdout",
          "text": [
            "\n",
            "Question 39: Find the most common word in 'the quick brown fox jumps over the lazy dog'\n",
            "The most common word is 'the' which appears 2 time(s).\n"
          ]
        }
      ]
    },
    {
      "cell_type": "code",
      "source": [
        "#Question 40: Generate acronym from 'National Aeronautics and Space Administration'\")\n",
        "print(\"\\nQuestion 40: Generate acronym from 'National Aeronautics and Space Administration'\")\n",
        "\n",
        "phrase = \"National Aeronautics and Space Administration\"\n",
        "words = phrase.split()\n",
        "acronym = \"\".join(word[0].upper() for word in words)\n",
        "print(\"Acronym:\", acronym)"
      ],
      "metadata": {
        "colab": {
          "base_uri": "https://localhost:8080/"
        },
        "id": "z76pRheLiUGk",
        "outputId": "fe032bbb-780b-48a8-c9c9-bd2450dee8b7"
      },
      "execution_count": 87,
      "outputs": [
        {
          "output_type": "stream",
          "name": "stdout",
          "text": [
            "\n",
            "Question 40: Generate acronym from 'National Aeronautics and Space Administration'\n",
            "Acronym: NAASA\n"
          ]
        }
      ]
    },
    {
      "cell_type": "code",
      "source": [
        "# Question 41: Check if string contains balanced parentheses: \"((()))\"\n",
        "print(\"\\nQuestion 41: Check if string contains balanced parentheses: '((()))'\")\n",
        "# Your code here\n",
        "\n",
        "def is_balanced_parentheses(s):\n",
        "    count = 0\n",
        "    for char in s:\n",
        "        if char == '(':\n",
        "            count += 1\n",
        "        elif char == ')':\n",
        "            count -= 1\n",
        "            if count < 0:\n",
        "                return False  # More closing than opening\n",
        "    return count == 0  # True if all parentheses are matched\n",
        "\n",
        "test_string = \"((()))\"\n",
        "print(\"Balanced:\" if is_balanced_parentheses(test_string) else \"Not Balanced.\")\n"
      ],
      "metadata": {
        "colab": {
          "base_uri": "https://localhost:8080/"
        },
        "id": "KRMaR5DXl8gM",
        "outputId": "5f676329-a8eb-4ffa-845c-54ddd9612fae"
      },
      "execution_count": 89,
      "outputs": [
        {
          "output_type": "stream",
          "name": "stdout",
          "text": [
            "\n",
            "Question 41: Check if string contains balanced parentheses: '((()))'\n",
            "Balanced:\n"
          ]
        }
      ]
    },
    {
      "cell_type": "code",
      "source": [
        "# Question 42: Convert \"hello world\" to Morse code\n",
        "print(\"\\nQuestion 42: Convert 'hello world' to Morse code\")\n",
        "# Your code here\n",
        "text=\"hellow world\"\n",
        "morse_code_dict = {\n",
        "    'a': '.-',    'b': '-...',  'c': '-.-.', 'd': '-..',\n",
        "    'e': '.',     'f': '..-.',  'g': '--.',  'h': '....',\n",
        "    'i': '..',    'j': '.---',  'k': '-.-',  'l': '.-..',\n",
        "    'm': '--',    'n': '-.',    'o': '---',  'p': '.--.',\n",
        "    'q': '--.-',  'r': '.-.',   's': '...',  't': '-',\n",
        "    'u': '..-',   'v': '...-',  'w': '.--',  'x': '-..-',\n",
        "    'y': '-.--',  'z': '--..',\n",
        "    '0': '-----', '1': '.----', '2': '..---','3': '...--',\n",
        "    '4': '....-', '5': '.....', '6': '-....','7': '--...',\n",
        "    '8': '---..', '9': '----.',\n",
        "    ' ': '/'  # Use '/' to separate words\n",
        "}\n",
        "\n",
        "def to_morse(text):\n",
        "    return ' '.join(morse_code_dict[char] for char in text.lower() if char in morse_code_dict)\n"
      ],
      "metadata": {
        "colab": {
          "base_uri": "https://localhost:8080/"
        },
        "id": "MJOKTZZJmPV_",
        "outputId": "97389afb-b8b2-424e-be7f-d310386a8376"
      },
      "execution_count": 93,
      "outputs": [
        {
          "output_type": "stream",
          "name": "stdout",
          "text": [
            "\n",
            "Question 42: Convert 'hello world' to Morse code\n"
          ]
        }
      ]
    },
    {
      "cell_type": "code",
      "source": [
        "# Question 43: Find the longest common substring between \"programming\" and \"grammar\"\n",
        "print(\"\\nQuestion 43: Find the longest common substring between 'programming' and 'grammar'\")\n",
        "# Your code here\n",
        "\n",
        "def longest_common_substring(s1, s2):\n",
        "    m, n = len(s1), len(s2)\n",
        "    # Create a 2D DP array initialized with 0\n",
        "    dp = [[0] * (n + 1) for _ in range(m + 1)]\n",
        "    max_len = 0\n",
        "    end_index_s1 = 0\n",
        "\n",
        "    for i in range(1, m + 1):\n",
        "        for j in range(1, n + 1):\n",
        "            if s1[i - 1] == s2[j - 1]:\n",
        "                dp[i][j] = dp[i - 1][j - 1] + 1\n",
        "                if dp[i][j] > max_len:\n",
        "                    max_len = dp[i][j]\n",
        "                    end_index_s1 = i\n",
        "            else:\n",
        "                dp[i][j] = 0\n",
        "\n",
        "    # Extract the longest common substring from s1\n",
        "    return s1[end_index_s1 - max_len:end_index_s1]\n",
        "\n",
        "s1 = \"programming\"\n",
        "s2 = \"grammar\"\n",
        "result = longest_common_substring(s1, s2)\n",
        "print(\"Longest Common Substring:\", result)\n"
      ],
      "metadata": {
        "colab": {
          "base_uri": "https://localhost:8080/"
        },
        "id": "p4HU-ktrmzej",
        "outputId": "0fcd6a01-d348-44b4-d2e5-e7d77e412c4f"
      },
      "execution_count": 95,
      "outputs": [
        {
          "output_type": "stream",
          "name": "stdout",
          "text": [
            "\n",
            "Question 43: Find the longest common substring between 'programming' and 'grammar'\n",
            "Longest Common Substring: gramm\n"
          ]
        }
      ]
    },
    {
      "cell_type": "code",
      "source": [
        "# Question 44: Check if string is a valid URL: \"https://www.google.com\"\n",
        "print(\"\\nQuestion 44: Check if string is a valid URL: 'https://www.google.com'\")\n",
        "\n",
        "from urllib.parse import urlparse\n",
        "\n",
        "def is_valid_url(url):\n",
        "    parsed = urlparse(url)\n",
        "    return all([parsed.scheme, parsed.netloc])\n",
        "\n",
        "test_url = \"https://www.google.com\"\n",
        "print(\"Valid URL\" if is_valid_url(test_url) else \"Invalid URL\")\n"
      ],
      "metadata": {
        "colab": {
          "base_uri": "https://localhost:8080/"
        },
        "id": "bJt3iMHGmzRA",
        "outputId": "83b65f0b-74e6-4ae8-81fe-e6435ab73fc2"
      },
      "execution_count": 98,
      "outputs": [
        {
          "output_type": "stream",
          "name": "stdout",
          "text": [
            "\n",
            "Question 44: Check if string is a valid URL: 'https://www.google.com'\n",
            "Valid URL\n"
          ]
        }
      ]
    },
    {
      "cell_type": "code",
      "source": [
        "# Question 45: Extract all words with length > 5 from \"Python programming is amazing and powerful\"\n",
        "print(\"\\nQuestion 45: Extract all words with length > 5 from 'Python programming is amazing and powerful'\")\n",
        "# Your code here\n",
        "\n",
        "text = \"Python programming is amazing and powerful\"\n",
        "words = text.split()\n",
        "long_words = [word for word in words if len(word) > 5]\n",
        "\n",
        "print(\"Words with length > 5:\", long_words)"
      ],
      "metadata": {
        "colab": {
          "base_uri": "https://localhost:8080/"
        },
        "id": "y8n7gRYEmy_j",
        "outputId": "193b0a52-41f5-48e5-f5ff-c4c3c96b070f"
      },
      "execution_count": 99,
      "outputs": [
        {
          "output_type": "stream",
          "name": "stdout",
          "text": [
            "\n",
            "Question 45: Extract all words with length > 5 from 'Python programming is amazing and powerful'\n",
            "Words with length > 5: ['Python', 'programming', 'amazing', 'powerful']\n"
          ]
        }
      ]
    },
    {
      "cell_type": "code",
      "source": [
        "# Question 46: Convert \"hello world\" to Pig Latin\n",
        "print(\"\\nQuestion 46: Convert 'hello world' to Pig Latin\")\n",
        "# Your code here\n",
        "\n",
        "def pig_latin(word):\n",
        "    vowels = \"aeiou\"\n",
        "    word = word.lower()\n",
        "    if word[0] in vowels:\n",
        "        return word + \"way\"\n",
        "    else:\n",
        "        # Move leading consonant cluster to end + \"ay\"\n",
        "        for i, letter in enumerate(word):\n",
        "            if letter in vowels:\n",
        "                return word[i:] + word[:i] + \"ay\"\n",
        "        return word + \"ay\"  # No vowels case\n",
        "\n",
        "text = \"hello world\"\n",
        "pig_latin_words = [pig_latin(word) for word in text.split()]\n",
        "result = \" \".join(pig_latin_words)\n",
        "\n",
        "print(\"Pig Latin:\", result)"
      ],
      "metadata": {
        "colab": {
          "base_uri": "https://localhost:8080/"
        },
        "id": "OvRMZnNknVlg",
        "outputId": "dc167206-976d-42d3-d106-bf9259f923bf"
      },
      "execution_count": 101,
      "outputs": [
        {
          "output_type": "stream",
          "name": "stdout",
          "text": [
            "\n",
            "Question 46: Convert 'hello world' to Pig Latin\n",
            "Pig Latin: ellohay orldway\n"
          ]
        }
      ]
    },
    {
      "cell_type": "code",
      "source": [
        "#Question 47: Check if string is a valid IPv4 address: \"192.168.1.1\"\n",
        "print(\"\\nQuestion 47: Check if string is a valid IPv4 address: '192.168.1.1'\")\n",
        "# Your code\n",
        "\n",
        "def is_valid_ipv4(ip):\n",
        "    parts = ip.split('.')\n",
        "    if len(parts) != 4:\n",
        "        return False\n",
        "    for part in parts:\n",
        "        if not part.isdigit():\n",
        "            return False\n",
        "        num = int(part)\n",
        "        if num < 0 or num > 255:\n",
        "            return False\n",
        "        # Avoid leading zeros like \"01\", but allow \"0\"\n",
        "        if part != str(num):\n",
        "            return False\n",
        "    return True\n",
        "\n",
        "ip_address = \"192.168.1.1\"\n",
        "print(\"Valid IPv4\" if is_valid_ipv4(ip_address) else \"Invalid IPv4\")"
      ],
      "metadata": {
        "colab": {
          "base_uri": "https://localhost:8080/",
          "height": 332
        },
        "id": "GhaXDk-hnViH",
        "outputId": "425d436a-cfe1-4e8a-e2de-84c575c8a361"
      },
      "execution_count": 102,
      "outputs": [
        {
          "output_type": "stream",
          "name": "stdout",
          "text": [
            "\n",
            "Question 47: Check if string is a valid IPv4 address: '192.168.1.1'\n"
          ]
        },
        {
          "output_type": "error",
          "ename": "TypeError",
          "evalue": "'str' object is not callable",
          "traceback": [
            "\u001b[0;31m---------------------------------------------------------------------------\u001b[0m",
            "\u001b[0;31mTypeError\u001b[0m                                 Traceback (most recent call last)",
            "\u001b[0;32m/tmp/ipython-input-140250420.py\u001b[0m in \u001b[0;36m<cell line: 0>\u001b[0;34m()\u001b[0m\n\u001b[1;32m     19\u001b[0m \u001b[0;34m\u001b[0m\u001b[0m\n\u001b[1;32m     20\u001b[0m \u001b[0mip_address\u001b[0m \u001b[0;34m=\u001b[0m \u001b[0;34m\"192.168.1.1\"\u001b[0m\u001b[0;34m\u001b[0m\u001b[0;34m\u001b[0m\u001b[0m\n\u001b[0;32m---> 21\u001b[0;31m \u001b[0mprint\u001b[0m\u001b[0;34m(\u001b[0m\u001b[0;34m\"Valid IPv4\"\u001b[0m \u001b[0;32mif\u001b[0m \u001b[0mis_valid_ipv4\u001b[0m\u001b[0;34m(\u001b[0m\u001b[0mip_address\u001b[0m\u001b[0;34m)\u001b[0m \u001b[0;32melse\u001b[0m \u001b[0;34m\"Invalid IPv4\"\u001b[0m\u001b[0;34m)\u001b[0m\u001b[0;34m\u001b[0m\u001b[0;34m\u001b[0m\u001b[0m\n\u001b[0m",
            "\u001b[0;32m/tmp/ipython-input-140250420.py\u001b[0m in \u001b[0;36mis_valid_ipv4\u001b[0;34m(ip)\u001b[0m\n\u001b[1;32m     14\u001b[0m             \u001b[0;32mreturn\u001b[0m \u001b[0;32mFalse\u001b[0m\u001b[0;34m\u001b[0m\u001b[0;34m\u001b[0m\u001b[0m\n\u001b[1;32m     15\u001b[0m         \u001b[0;31m# Avoid leading zeros like \"01\", but allow \"0\"\u001b[0m\u001b[0;34m\u001b[0m\u001b[0;34m\u001b[0m\u001b[0m\n\u001b[0;32m---> 16\u001b[0;31m         \u001b[0;32mif\u001b[0m \u001b[0mpart\u001b[0m \u001b[0;34m!=\u001b[0m \u001b[0mstr\u001b[0m\u001b[0;34m(\u001b[0m\u001b[0mnum\u001b[0m\u001b[0;34m)\u001b[0m\u001b[0;34m:\u001b[0m\u001b[0;34m\u001b[0m\u001b[0;34m\u001b[0m\u001b[0m\n\u001b[0m\u001b[1;32m     17\u001b[0m             \u001b[0;32mreturn\u001b[0m \u001b[0;32mFalse\u001b[0m\u001b[0;34m\u001b[0m\u001b[0;34m\u001b[0m\u001b[0m\n\u001b[1;32m     18\u001b[0m     \u001b[0;32mreturn\u001b[0m \u001b[0;32mTrue\u001b[0m\u001b[0;34m\u001b[0m\u001b[0;34m\u001b[0m\u001b[0m\n",
            "\u001b[0;31mTypeError\u001b[0m: 'str' object is not callable"
          ]
        }
      ]
    },
    {
      "cell_type": "code",
      "source": [
        "# Question 48: Find all substrings of \"abc\"\n",
        "print(\"\\nQuestion 48: Find all substrings of 'abc'\")\n",
        "# Your code here\n",
        "print(\"\\nQuestion 48: Find all substrings of 'abc'\")\n",
        "\n",
        "s = \"abc\"\n",
        "substrings = []\n",
        "\n",
        "for i in range(len(s)):\n",
        "    for j in range(i + 1, len(s) + 1):\n",
        "        substrings.append(s[i:j])\n",
        "\n",
        "print(\"All substrings:\", substrings)"
      ],
      "metadata": {
        "colab": {
          "base_uri": "https://localhost:8080/"
        },
        "id": "lDmm3sNSnVfo",
        "outputId": "00280f5e-80c8-4f47-e4be-156525fd0165"
      },
      "execution_count": 103,
      "outputs": [
        {
          "output_type": "stream",
          "name": "stdout",
          "text": [
            "\n",
            "Question 48: Find all substrings of 'abc'\n",
            "\n",
            "Question 48: Find all substrings of 'abc'\n",
            "All substrings: ['a', 'ab', 'abc', 'b', 'bc', 'c']\n"
          ]
        }
      ]
    },
    {
      "cell_type": "code",
      "source": [
        "# Question 49: Convert \"hello world\" to ROT13 encoding\n",
        "print(\"\\nQuestion 49: Convert 'hello world' to ROT13 encoding\")\n",
        "# Your code here\n",
        "print(\"\\nQuestion 49: Convert 'hello world' to ROT13 encoding\")\n",
        "\n",
        "def rot13(text):\n",
        "    result = []\n",
        "    for char in text:\n",
        "        if 'a' <= char <= 'z':\n",
        "            result.append(chr((ord(char) - ord('a') + 13) % 26 + ord('a')))\n",
        "        elif 'A' <= char <= 'Z':\n",
        "            result.append(chr((ord(char) - ord('A') + 13) % 26 + ord('A')))\n",
        "        else:\n",
        "            result.append(char)\n",
        "    return \"\".join(result)\n",
        "\n",
        "text = \"hello world\"\n",
        "encoded = rot13(text)\n",
        "print(\"ROT13:\", encoded)\n"
      ],
      "metadata": {
        "colab": {
          "base_uri": "https://localhost:8080/"
        },
        "id": "rPkyQRBKnVda",
        "outputId": "e5b16516-ad83-41d4-d4f3-225985db1b72"
      },
      "execution_count": 104,
      "outputs": [
        {
          "output_type": "stream",
          "name": "stdout",
          "text": [
            "\n",
            "Question 49: Convert 'hello world' to ROT13 encoding\n",
            "\n",
            "Question 49: Convert 'hello world' to ROT13 encoding\n",
            "ROT13: uryyb jbeyq\n"
          ]
        }
      ]
    },
    {
      "cell_type": "code",
      "source": [
        "# Question 50: Check if string is a valid credit card number: \"4532015112830366\"\n",
        "print(\"\\nQuestion 50: Check if string is a valid credit card number: '4532015112830366'\")\n",
        "# Your code here\n",
        "print(\"\\nQuestion 50: Check if string is a valid credit card number: '4532015112830366'\")\n",
        "\n",
        "def luhn_check(card_number):\n",
        "    def digits_of(n):\n",
        "        return [int(d) for d in str(n)]\n",
        "    digits = digits_of(card_number)\n",
        "    checksum = 0\n",
        "    # Double every second digit from the right\n",
        "    odd_digits = digits[-1::-2]\n",
        "    even_digits = digits[-2::-2]\n",
        "    checksum += sum(odd_digits)\n",
        "    for d in even_digits:\n",
        "        checksum += sum(digits_of(d*2))\n",
        "    return checksum % 10 == 0\n",
        "\n",
        "card_number = \"4532015112830366\"\n",
        "print(\"Valid credit card number\" if luhn_check(card_number) else \"Invalid credit card number\")"
      ],
      "metadata": {
        "colab": {
          "base_uri": "https://localhost:8080/",
          "height": 408
        },
        "id": "TGrDxj-Nora1",
        "outputId": "0d22a7d6-4d2d-48f4-f410-d6813fc5a2b1"
      },
      "execution_count": 105,
      "outputs": [
        {
          "output_type": "stream",
          "name": "stdout",
          "text": [
            "\n",
            "Question 50: Check if string is a valid credit card number: '4532015112830366'\n",
            "\n",
            "Question 50: Check if string is a valid credit card number: '4532015112830366'\n"
          ]
        },
        {
          "output_type": "error",
          "ename": "TypeError",
          "evalue": "'str' object is not callable",
          "traceback": [
            "\u001b[0;31m---------------------------------------------------------------------------\u001b[0m",
            "\u001b[0;31mTypeError\u001b[0m                                 Traceback (most recent call last)",
            "\u001b[0;32m/tmp/ipython-input-1816928810.py\u001b[0m in \u001b[0;36m<cell line: 0>\u001b[0;34m()\u001b[0m\n\u001b[1;32m     18\u001b[0m \u001b[0;34m\u001b[0m\u001b[0m\n\u001b[1;32m     19\u001b[0m \u001b[0mcard_number\u001b[0m \u001b[0;34m=\u001b[0m \u001b[0;34m\"4532015112830366\"\u001b[0m\u001b[0;34m\u001b[0m\u001b[0;34m\u001b[0m\u001b[0m\n\u001b[0;32m---> 20\u001b[0;31m \u001b[0mprint\u001b[0m\u001b[0;34m(\u001b[0m\u001b[0;34m\"Valid credit card number\"\u001b[0m \u001b[0;32mif\u001b[0m \u001b[0mluhn_check\u001b[0m\u001b[0;34m(\u001b[0m\u001b[0mcard_number\u001b[0m\u001b[0;34m)\u001b[0m \u001b[0;32melse\u001b[0m \u001b[0;34m\"Invalid credit card number\"\u001b[0m\u001b[0;34m)\u001b[0m\u001b[0;34m\u001b[0m\u001b[0;34m\u001b[0m\u001b[0m\n\u001b[0m",
            "\u001b[0;32m/tmp/ipython-input-1816928810.py\u001b[0m in \u001b[0;36mluhn_check\u001b[0;34m(card_number)\u001b[0m\n\u001b[1;32m      7\u001b[0m     \u001b[0;32mdef\u001b[0m \u001b[0mdigits_of\u001b[0m\u001b[0;34m(\u001b[0m\u001b[0mn\u001b[0m\u001b[0;34m)\u001b[0m\u001b[0;34m:\u001b[0m\u001b[0;34m\u001b[0m\u001b[0;34m\u001b[0m\u001b[0m\n\u001b[1;32m      8\u001b[0m         \u001b[0;32mreturn\u001b[0m \u001b[0;34m[\u001b[0m\u001b[0mint\u001b[0m\u001b[0;34m(\u001b[0m\u001b[0md\u001b[0m\u001b[0;34m)\u001b[0m \u001b[0;32mfor\u001b[0m \u001b[0md\u001b[0m \u001b[0;32min\u001b[0m \u001b[0mstr\u001b[0m\u001b[0;34m(\u001b[0m\u001b[0mn\u001b[0m\u001b[0;34m)\u001b[0m\u001b[0;34m]\u001b[0m\u001b[0;34m\u001b[0m\u001b[0;34m\u001b[0m\u001b[0m\n\u001b[0;32m----> 9\u001b[0;31m     \u001b[0mdigits\u001b[0m \u001b[0;34m=\u001b[0m \u001b[0mdigits_of\u001b[0m\u001b[0;34m(\u001b[0m\u001b[0mcard_number\u001b[0m\u001b[0;34m)\u001b[0m\u001b[0;34m\u001b[0m\u001b[0;34m\u001b[0m\u001b[0m\n\u001b[0m\u001b[1;32m     10\u001b[0m     \u001b[0mchecksum\u001b[0m \u001b[0;34m=\u001b[0m \u001b[0;36m0\u001b[0m\u001b[0;34m\u001b[0m\u001b[0;34m\u001b[0m\u001b[0m\n\u001b[1;32m     11\u001b[0m     \u001b[0;31m# Double every second digit from the right\u001b[0m\u001b[0;34m\u001b[0m\u001b[0;34m\u001b[0m\u001b[0m\n",
            "\u001b[0;32m/tmp/ipython-input-1816928810.py\u001b[0m in \u001b[0;36mdigits_of\u001b[0;34m(n)\u001b[0m\n\u001b[1;32m      6\u001b[0m \u001b[0;32mdef\u001b[0m \u001b[0mluhn_check\u001b[0m\u001b[0;34m(\u001b[0m\u001b[0mcard_number\u001b[0m\u001b[0;34m)\u001b[0m\u001b[0;34m:\u001b[0m\u001b[0;34m\u001b[0m\u001b[0;34m\u001b[0m\u001b[0m\n\u001b[1;32m      7\u001b[0m     \u001b[0;32mdef\u001b[0m \u001b[0mdigits_of\u001b[0m\u001b[0;34m(\u001b[0m\u001b[0mn\u001b[0m\u001b[0;34m)\u001b[0m\u001b[0;34m:\u001b[0m\u001b[0;34m\u001b[0m\u001b[0;34m\u001b[0m\u001b[0m\n\u001b[0;32m----> 8\u001b[0;31m         \u001b[0;32mreturn\u001b[0m \u001b[0;34m[\u001b[0m\u001b[0mint\u001b[0m\u001b[0;34m(\u001b[0m\u001b[0md\u001b[0m\u001b[0;34m)\u001b[0m \u001b[0;32mfor\u001b[0m \u001b[0md\u001b[0m \u001b[0;32min\u001b[0m \u001b[0mstr\u001b[0m\u001b[0;34m(\u001b[0m\u001b[0mn\u001b[0m\u001b[0;34m)\u001b[0m\u001b[0;34m]\u001b[0m\u001b[0;34m\u001b[0m\u001b[0;34m\u001b[0m\u001b[0m\n\u001b[0m\u001b[1;32m      9\u001b[0m     \u001b[0mdigits\u001b[0m \u001b[0;34m=\u001b[0m \u001b[0mdigits_of\u001b[0m\u001b[0;34m(\u001b[0m\u001b[0mcard_number\u001b[0m\u001b[0;34m)\u001b[0m\u001b[0;34m\u001b[0m\u001b[0;34m\u001b[0m\u001b[0m\n\u001b[1;32m     10\u001b[0m     \u001b[0mchecksum\u001b[0m \u001b[0;34m=\u001b[0m \u001b[0;36m0\u001b[0m\u001b[0;34m\u001b[0m\u001b[0;34m\u001b[0m\u001b[0m\n",
            "\u001b[0;31mTypeError\u001b[0m: 'str' object is not callable"
          ]
        }
      ]
    }
  ]
}