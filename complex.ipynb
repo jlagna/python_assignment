{
  "nbformat": 4,
  "nbformat_minor": 0,
  "metadata": {
    "colab": {
      "provenance": []
    },
    "kernelspec": {
      "name": "python3",
      "display_name": "Python 3"
    },
    "language_info": {
      "name": "python"
    }
  },
  "cells": [
    {
      "cell_type": "code",
      "execution_count": 2,
      "metadata": {
        "colab": {
          "base_uri": "https://localhost:8080/"
        },
        "id": "ahiPmO-J4NlY",
        "outputId": "63f735cf-3ab9-433c-a168-8045e25f3908"
      },
      "outputs": [
        {
          "output_type": "stream",
          "name": "stdout",
          "text": [
            "SOLVED EXAMPLE:\n",
            "Create a complex number and find its conjugate\n",
            "Complex number: (3+4j)\n",
            "Conjugate: (3-4j)\n",
            "Magnitude: 5.0\n",
            "--------------------------------------------------\n"
          ]
        }
      ],
      "source": [
        "# SOLVED EXAMPLE\n",
        "# --------------\n",
        "# Question: Create a complex number and find its conjugate\n",
        "print(\"SOLVED EXAMPLE:\")\n",
        "print(\"Create a complex number and find its conjugate\")\n",
        "z = 3 + 4j\n",
        "conjugate = z.conjugate()\n",
        "magnitude = abs(z)\n",
        "print(f\"Complex number: {z}\")\n",
        "print(f\"Conjugate: {conjugate}\")\n",
        "print(f\"Magnitude: {magnitude}\")\n",
        "print(\"-\" * 50)"
      ]
    },
    {
      "cell_type": "code",
      "source": [
        "# Question 1: Create complex number 5 + 3j\n",
        "print(\"Question 1: Create complex number 5 + 3j\")\n",
        "\n",
        "# Create complex number\n",
        "z = 5 + 3j\n",
        "\n",
        "# Print the result\n",
        "print(\"Complex number:\", z)"
      ],
      "metadata": {
        "colab": {
          "base_uri": "https://localhost:8080/"
        },
        "id": "D20Q37VD46Ev",
        "outputId": "35ba025f-fb2e-4c1b-95ed-cbe659ed0be9"
      },
      "execution_count": 3,
      "outputs": [
        {
          "output_type": "stream",
          "name": "stdout",
          "text": [
            "Question 1: Create complex number 5 + 3j\n",
            "Complex number: (5+3j)\n"
          ]
        }
      ]
    },
    {
      "cell_type": "code",
      "source": [
        "# Question 2: Find the real part of complex number 7 - 2j\n",
        "print(\"\\nQuestion 2: Find the real part of complex number 7 - 2j\")\n",
        "\n",
        "# Define the complex number\n",
        "z = 7 - 2j\n",
        "\n",
        "# Get the real part\n",
        "real_part = z.real\n",
        "print(real_part)\n",
        "\n"
      ],
      "metadata": {
        "colab": {
          "base_uri": "https://localhost:8080/"
        },
        "id": "xH2N7rC9453E",
        "outputId": "57becbe1-bc70-499d-8ad9-7ce4c07aa6c2"
      },
      "execution_count": 7,
      "outputs": [
        {
          "output_type": "stream",
          "name": "stdout",
          "text": [
            "\n",
            "Question 2: Find the real part of complex number 7 - 2j\n",
            "7.0\n"
          ]
        }
      ]
    },
    {
      "cell_type": "code",
      "source": [
        "# Question 3: Find the imaginary part of complex number 4 + 6j\n",
        "print(\"\\nQuestion 3: Find the imaginary part of complex number 4 + 6j\")\n",
        "\n",
        "# Define the complex number\n",
        "z = 4 + 6j\n",
        "\n",
        "# Get the imaginary part\n",
        "imaginary_part = z.imag\n",
        "\n",
        "# Print the result\n",
        "print(\"Imaginary part:\", imaginary_part)"
      ],
      "metadata": {
        "colab": {
          "base_uri": "https://localhost:8080/"
        },
        "id": "Y-bTr7rT45nw",
        "outputId": "f9ab4d30-3400-41fa-8724-88aeb4305308"
      },
      "execution_count": 8,
      "outputs": [
        {
          "output_type": "stream",
          "name": "stdout",
          "text": [
            "\n",
            "Question 3: Find the imaginary part of complex number 4 + 6j\n",
            "Imaginary part: 6.0\n"
          ]
        }
      ]
    },
    {
      "cell_type": "code",
      "source": [
        "# Question 4: Add two complex numbers: (3 + 2j) and (1 + 4j)\n",
        "print(\"\\nQuestion 4: Add two complex numbers: (3 + 2j) and (1 + 4j)\")\n",
        "\n",
        "# Define the complex numbers\n",
        "z1 = 3 + 2j\n",
        "z2 = 1 + 4j\n",
        "\n",
        "# Add the complex numbers\n",
        "result = z1 + z2\n",
        "\n",
        "# Print the result\n",
        "print(\"Sum:\", result)"
      ],
      "metadata": {
        "colab": {
          "base_uri": "https://localhost:8080/"
        },
        "id": "v-rS-Dy_45Zt",
        "outputId": "374b1808-0254-4aaf-9ba6-2913faa74d88"
      },
      "execution_count": 9,
      "outputs": [
        {
          "output_type": "stream",
          "name": "stdout",
          "text": [
            "\n",
            "Question 4: Add two complex numbers: (3 + 2j) and (1 + 4j)\n",
            "Sum: (4+6j)\n"
          ]
        }
      ]
    },
    {
      "cell_type": "code",
      "source": [
        "# Question 5: Multiply two complex numbers: (2 + 3j) and (1 + 2j)\n",
        "print(\"\\nQuestion 5: Multiply two complex numbers: (2 + 3j) and (1 + 2j)\")\n",
        "\n",
        "# Define the complex numbers\n",
        "z1 = 2 + 3j\n",
        "z2 = 1 + 2j\n",
        "\n",
        "# Multiply the complex numbers\n",
        "result = z1 * z2\n",
        "\n",
        "# Print the result\n",
        "print(\"Product:\", result)"
      ],
      "metadata": {
        "colab": {
          "base_uri": "https://localhost:8080/"
        },
        "id": "g9J4rLz745KH",
        "outputId": "6a095647-67c3-4496-8424-798468ffc889"
      },
      "execution_count": 10,
      "outputs": [
        {
          "output_type": "stream",
          "name": "stdout",
          "text": [
            "\n",
            "Question 5: Multiply two complex numbers: (2 + 3j) and (1 + 2j)\n",
            "Product: (-4+7j)\n"
          ]
        }
      ]
    },
    {
      "cell_type": "code",
      "source": [
        "# Question 6: Find the magnitude of complex number 6 + 8j\n",
        "print(\"\\nQuestion 6: Find the magnitude of complex number 6 + 8j\")\n",
        "\n",
        "# Define the complex number\n",
        "z = 6 + 8j\n",
        "\n",
        "# Find the magnitude\n",
        "magnitude = abs(z)\n",
        "\n",
        "# Print the result\n",
        "print(\"Magnitude:\", magnitude)"
      ],
      "metadata": {
        "colab": {
          "base_uri": "https://localhost:8080/"
        },
        "id": "28Q0WNIU446-",
        "outputId": "1144045b-03fd-4237-fb93-22688815c618"
      },
      "execution_count": 12,
      "outputs": [
        {
          "output_type": "stream",
          "name": "stdout",
          "text": [
            "\n",
            "Question 6: Find the magnitude of complex number 6 + 8j\n",
            "Magnitude: 10.0\n"
          ]
        }
      ]
    },
    {
      "cell_type": "code",
      "source": [
        "# Question 7: Find the conjugate of complex number 5 - 7j\n",
        "print(\"\\nQuestion 7: Find the conjugate of complex number 5 - 7j\")\n",
        "\n",
        "# Define the complex number\n",
        "z = 5 - 7j\n",
        "\n",
        "# Get the conjugate\n",
        "conjugate = z.conjugate()\n",
        "\n",
        "# Print the result\n",
        "print(\"Conjugate:\", conjugate)"
      ],
      "metadata": {
        "colab": {
          "base_uri": "https://localhost:8080/"
        },
        "id": "JZvButiu44tf",
        "outputId": "e6e144a7-abd1-458d-c360-a6b0539c2723"
      },
      "execution_count": 13,
      "outputs": [
        {
          "output_type": "stream",
          "name": "stdout",
          "text": [
            "\n",
            "Question 7: Find the conjugate of complex number 5 - 7j\n",
            "Conjugate: (5+7j)\n"
          ]
        }
      ]
    },
    {
      "cell_type": "code",
      "source": [
        "# Question 8: Subtract complex numbers: (10 + 5j) - (3 + 2j)\n",
        "print(\"\\nQuestion 8: Subtract complex numbers: (10 + 5j) - (3 + 2j)\")\n",
        "\n",
        "z1 = 10 + 5j\n",
        "z2 = 3 + 2j\n",
        "\n",
        "result = z1 - z2\n",
        "\n",
        "print(\"Difference:\", result)\n"
      ],
      "metadata": {
        "colab": {
          "base_uri": "https://localhost:8080/"
        },
        "id": "VzIpGE5H44ct",
        "outputId": "985e0e8f-0463-4fc8-911b-d11565e95459"
      },
      "execution_count": 14,
      "outputs": [
        {
          "output_type": "stream",
          "name": "stdout",
          "text": [
            "\n",
            "Question 8: Subtract complex numbers: (10 + 5j) - (3 + 2j)\n",
            "Difference: (7+3j)\n"
          ]
        }
      ]
    },
    {
      "cell_type": "code",
      "source": [
        "# Question 9: Divide complex numbers: (8 + 6j) / (2 + 1j)\n",
        "print(\"\\nQuestion 9: Divide complex numbers: (8 + 6j) / (2 + 1j)\")\n",
        "\n",
        "# Define the complex numbers\n",
        "z1 = 8 + 6j\n",
        "z2 = 2 + 1j\n",
        "\n",
        "# Divide the complex numbers\n",
        "result = z1 / z2\n",
        "\n",
        "# Print the result\n",
        "print(\"Division result:\", result)\n",
        "\n"
      ],
      "metadata": {
        "colab": {
          "base_uri": "https://localhost:8080/"
        },
        "id": "XbcTDgDb44UZ",
        "outputId": "49c39095-3112-42f9-f5cf-be9b8589ad03"
      },
      "execution_count": 15,
      "outputs": [
        {
          "output_type": "stream",
          "name": "stdout",
          "text": [
            "\n",
            "Question 9: Divide complex numbers: (8 + 6j) / (2 + 1j)\n",
            "Division result: (4.4+0.8j)\n"
          ]
        }
      ]
    },
    {
      "cell_type": "code",
      "source": [
        "# Question 10: Find the phase angle of complex number 1 + 1j\n",
        "print(\"\\nQuestion 10: Find the phase angle of complex number 1 + 1j\")\n",
        "import cmath\n",
        "\n",
        "\n",
        "z = 1 + 1j\n",
        "phase_angle = cmath.phase(z)\n",
        "\n",
        "print(\"Phase angle (in radians):\", phase_angle)\n"
      ],
      "metadata": {
        "colab": {
          "base_uri": "https://localhost:8080/"
        },
        "id": "8ly88hSq9Ulv",
        "outputId": "8a35046b-f509-4ac9-f7c4-57ce74c9c8ca"
      },
      "execution_count": 16,
      "outputs": [
        {
          "output_type": "stream",
          "name": "stdout",
          "text": [
            "\n",
            "Question 10: Find the phase angle of complex number 1 + 1j\n",
            "Phase angle (in radians): 0.7853981633974483\n"
          ]
        }
      ]
    }
  ]
}