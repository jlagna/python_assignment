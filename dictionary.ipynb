{
  "nbformat": 4,
  "nbformat_minor": 0,
  "metadata": {
    "colab": {
      "provenance": []
    },
    "kernelspec": {
      "name": "python3",
      "display_name": "Python 3"
    },
    "language_info": {
      "name": "python"
    }
  },
  "cells": [
    {
      "cell_type": "code",
      "execution_count": 1,
      "metadata": {
        "colab": {
          "base_uri": "https://localhost:8080/"
        },
        "id": "QwkJv5CG92D4",
        "outputId": "0cbb733d-57e1-47eb-df07-f37efab65f08"
      },
      "outputs": [
        {
          "output_type": "stream",
          "name": "stdout",
          "text": [
            "Question 1: Create a dictionary of student names and their ages\n",
            "{'Alice': 20, 'Bob': 22, 'Charlie': 19, 'Diana': 21}\n"
          ]
        }
      ],
      "source": [
        "# Question 1: Create a dictionary of student names and their ages\n",
        "print(\"Question 1: Create a dictionary of student names and their ages\")\n",
        "\n",
        "# Creating the dictionary\n",
        "students = {\n",
        "    \"Alice\": 20,\n",
        "    \"Bob\": 22,\n",
        "    \"Charlie\": 19,\n",
        "    \"Diana\": 21\n",
        "}\n",
        "\n",
        "# Printing the dictionary\n",
        "print(students)\n"
      ]
    },
    {
      "cell_type": "code",
      "source": [
        "# Question 2: Add a new key-value pair to dictionary {'a': 1, 'b': 2, 'c': 3}\n",
        "print(\"\\nQuestion 2: Add a new key-value pair to dictionary {'a': 1, 'b': 2, 'c': 3}\")\n",
        "# Your code here\n",
        "\n",
        "# Original dictionary\n",
        "my_dict = {'a': 1, 'b': 2, 'c': 3}\n",
        "\n",
        "# Adding a new key-value pair\n",
        "my_dict['d'] = 4\n",
        "\n",
        "# Printing the updated dictionary\n",
        "print(my_dict)"
      ],
      "metadata": {
        "colab": {
          "base_uri": "https://localhost:8080/"
        },
        "id": "4FZksICP-2bm",
        "outputId": "7f5ff170-e342-4b49-f6e9-7985047535d7"
      },
      "execution_count": 2,
      "outputs": [
        {
          "output_type": "stream",
          "name": "stdout",
          "text": [
            "\n",
            "Question 2: Add a new key-value pair to dictionary {'a': 1, 'b': 2, 'c': 3}\n",
            "{'a': 1, 'b': 2, 'c': 3, 'd': 4}\n"
          ]
        }
      ]
    },
    {
      "cell_type": "code",
      "source": [
        "# Question 3: Get all keys from dictionary {'name': 'John', 'age': 25, 'city': 'New York'}\n",
        "print(\"\\nQuestion 3: Get all keys from dictionary {'name': 'John', 'age': 25, 'city': 'New York'}\")\n",
        "\n",
        "# Given dictionary\n",
        "person = {'name': 'John', 'age': 25, 'city': 'New York'}\n",
        "\n",
        "# Getting all keys\n",
        "keys = person.keys()\n",
        "\n",
        "# Printing the keys\n",
        "print(keys)\n"
      ],
      "metadata": {
        "colab": {
          "base_uri": "https://localhost:8080/"
        },
        "id": "3L5jz3Za_C7N",
        "outputId": "863d2579-faff-4093-a57e-e31c87d7a475"
      },
      "execution_count": 3,
      "outputs": [
        {
          "output_type": "stream",
          "name": "stdout",
          "text": [
            "\n",
            "Question 3: Get all keys from dictionary {'name': 'John', 'age': 25, 'city': 'New York'}\n",
            "dict_keys(['name', 'age', 'city'])\n"
          ]
        }
      ]
    },
    {
      "cell_type": "code",
      "source": [
        "\n",
        "# Question 4: Get all values from dictionary {'python': 3, 'java': 2, 'c++': 1}\n",
        "print(\"\\nQuestion 4: Get all values from dictionary {'python': 3, 'java': 2, 'c++': 1}\")\n",
        "\n",
        "# Given dictionary\n",
        "languages = {'python': 3, 'java': 2, 'c++': 1}\n",
        "\n",
        "# Getting all values\n",
        "values = languages.values()\n",
        "\n",
        "# Printing the values\n",
        "print(values)\n"
      ],
      "metadata": {
        "colab": {
          "base_uri": "https://localhost:8080/"
        },
        "id": "jQ8VR1oT_VC1",
        "outputId": "6bb2f5d2-5eb2-4028-c91d-f9fcf623528d"
      },
      "execution_count": 4,
      "outputs": [
        {
          "output_type": "stream",
          "name": "stdout",
          "text": [
            "\n",
            "Question 4: Get all values from dictionary {'python': 3, 'java': 2, 'c++': 1}\n",
            "dict_values([3, 2, 1])\n"
          ]
        }
      ]
    },
    {
      "cell_type": "code",
      "source": [
        "# Question 5: Check if key 'age' exists in {'name': 'Alice', 'age': 30, 'city': 'London'}\n",
        "print(\"\\nQuestion 5: Check if key 'age' exists in {'name': 'Alice', 'age': 30, 'city': 'London'}\")\n",
        "# Given dictionary\n",
        "person = {'name': 'Alice', 'age': 30, 'city': 'London'}\n",
        "\n",
        "# Check if 'age' key exists\n",
        "if 'age' in person:\n",
        "    print(\"Key 'age' exists in the dictionary.\")\n",
        "else:\n",
        "    print(\"Key 'age' does not exist in the dictionary.\")"
      ],
      "metadata": {
        "colab": {
          "base_uri": "https://localhost:8080/"
        },
        "id": "Yxn1dSOh_U_Z",
        "outputId": "07a0b3cb-b087-475a-81ee-b3c452d87df1"
      },
      "execution_count": 5,
      "outputs": [
        {
          "output_type": "stream",
          "name": "stdout",
          "text": [
            "\n",
            "Question 5: Check if key 'age' exists in {'name': 'Alice', 'age': 30, 'city': 'London'}\n",
            "Key 'age' exists in the dictionary.\n"
          ]
        }
      ]
    },
    {
      "cell_type": "code",
      "source": [
        "# Question 6: Remove key 'temp' from {'a': 1, 'b': 2, 'temp': 3, 'c': 4}\n",
        "print(\"\\nQuestion 6: Remove key 'temp' from {'a': 1, 'b': 2, 'temp': 3, 'c': 4}\")\n",
        "\n",
        "# Given dictionary\n",
        "my_dict = {'a': 1, 'b': 2, 'temp': 3, 'c': 4}\n",
        "\n",
        "# Removing the key 'temp'\n",
        "my_dict.pop('temp')\n",
        "\n",
        "# Printing the updated dictionary\n",
        "print(my_dict)\n"
      ],
      "metadata": {
        "colab": {
          "base_uri": "https://localhost:8080/"
        },
        "id": "Nvm1pat4_U9D",
        "outputId": "7e9caa13-9b88-4d56-80c4-0880771abeaa"
      },
      "execution_count": 6,
      "outputs": [
        {
          "output_type": "stream",
          "name": "stdout",
          "text": [
            "\n",
            "Question 6: Remove key 'temp' from {'a': 1, 'b': 2, 'temp': 3, 'c': 4}\n",
            "{'a': 1, 'b': 2, 'c': 4}\n"
          ]
        }
      ]
    },
    {
      "cell_type": "code",
      "source": [
        "# Question 7: Find the sum of all values in {'math': 85, 'science': 92, 'english': 78}\n",
        "print(\"\\nQuestion 7: Find the sum of all values in {'math': 85, 'science': 92, 'english': 78}\")\n",
        "\n",
        "# Given dictionary\n",
        "scores = {'math': 85, 'science': 92, 'english': 78}\n",
        "\n",
        "# Calculating the sum of all values\n",
        "total = sum(scores.values())\n",
        "\n",
        "# Printing the result\n",
        "print(\"Total score:\", total)"
      ],
      "metadata": {
        "colab": {
          "base_uri": "https://localhost:8080/"
        },
        "id": "Qt8umzo5_U6r",
        "outputId": "64edd387-94cc-4725-cb82-bfa029c56a1e"
      },
      "execution_count": 7,
      "outputs": [
        {
          "output_type": "stream",
          "name": "stdout",
          "text": [
            "\n",
            "Question 7: Find the sum of all values in {'math': 85, 'science': 92, 'english': 78}\n",
            "Total score: 255\n"
          ]
        }
      ]
    },
    {
      "cell_type": "code",
      "source": [
        "# Question 8: Create a dictionary with squares of numbers 1 to 5\n",
        "print(\"\\nQuestion 8: Create a dictionary with squares of numbers 1 to 5\")\n",
        "\n",
        "# Creating the dictionary using dictionary comprehension\n",
        "squares = {x: x**2 for x in range(1, 6)}\n",
        "\n",
        "# Printing the dictionary\n",
        "print(squares)\n"
      ],
      "metadata": {
        "colab": {
          "base_uri": "https://localhost:8080/"
        },
        "id": "0NVzVlFz_U4G",
        "outputId": "2169437e-d05f-4972-f620-9bd8b99a0d5a"
      },
      "execution_count": 8,
      "outputs": [
        {
          "output_type": "stream",
          "name": "stdout",
          "text": [
            "\n",
            "Question 8: Create a dictionary with squares of numbers 1 to 5\n",
            "{1: 1, 2: 4, 3: 9, 4: 16, 5: 25}\n"
          ]
        }
      ]
    },
    {
      "cell_type": "code",
      "source": [
        "# Question 9: Count frequency of each character in string \"hello\"\n",
        "print(\"\\nQuestion 9: Count frequency of each character in string 'hello'\")\n",
        "\n",
        "# Given string\n",
        "text = \"hello\"\n",
        "\n",
        "# Creating an empty dictionary to store frequencies\n",
        "frequency = {}\n",
        "\n",
        "# Counting characters\n",
        "for char in text:\n",
        "    if char in frequency:\n",
        "        frequency[char] += 1\n",
        "    else:\n",
        "        frequency[char] = 1\n",
        "\n",
        "# Printing the result\n",
        "print(frequency)"
      ],
      "metadata": {
        "colab": {
          "base_uri": "https://localhost:8080/"
        },
        "id": "gPXCuFc3_U1k",
        "outputId": "a6445888-5694-491d-9cc3-badedd0c06e1"
      },
      "execution_count": 9,
      "outputs": [
        {
          "output_type": "stream",
          "name": "stdout",
          "text": [
            "\n",
            "Question 9: Count frequency of each character in string 'hello'\n",
            "{'h': 1, 'e': 1, 'l': 2, 'o': 1}\n"
          ]
        }
      ]
    },
    {
      "cell_type": "code",
      "source": [
        "# Question 10: Merge two dictionaries {'a': 1, 'b': 2} and {'c': 3, 'd': 4}\n",
        "print(\"\\nQuestion 10: Merge two dictionaries {'a': 1, 'b': 2} and {'c': 3, 'd': 4}\")\n",
        "\n",
        "# Given dictionaries\n",
        "dict1 = {'a': 1, 'b': 2}\n",
        "dict2 = {'c': 3, 'd': 4}\n",
        "\n",
        "# Merging dictionaries (Python 3.9+)\n",
        "merged_dict = dict1 | dict2\n",
        "\n",
        "# Printing the merged dictionary\n",
        "print(merged_dict)"
      ],
      "metadata": {
        "colab": {
          "base_uri": "https://localhost:8080/"
        },
        "id": "d-eWO-HwA6la",
        "outputId": "a37fc0f1-fa90-4129-f217-50f3a32d19c0"
      },
      "execution_count": 11,
      "outputs": [
        {
          "output_type": "stream",
          "name": "stdout",
          "text": [
            "\n",
            "Question 10: Merge two dictionaries {'a': 1, 'b': 2} and {'c': 3, 'd': 4}\n",
            "{'a': 1, 'b': 2, 'c': 3, 'd': 4}\n"
          ]
        }
      ]
    },
    {
      "cell_type": "code",
      "source": [
        "# Question 11: Create a nested dictionary: {'person': {'name': 'Alice', 'age': 25}}\n",
        "print(\"\\nQuestion 11: Create a nested dictionary: {'person': {'name': 'Alice', 'age': 25}}\")\n",
        "\n",
        "# Creating the nested dictionary\n",
        "nested_dict = {\n",
        "    'person': {\n",
        "        'name': 'Alice',\n",
        "        'age': 25\n",
        "    }\n",
        "}\n",
        "\n",
        "# Printing the nested dictionary\n",
        "print(nested_dict)\n"
      ],
      "metadata": {
        "colab": {
          "base_uri": "https://localhost:8080/"
        },
        "id": "cjTtDGC7_UzR",
        "outputId": "4d0270c8-8397-4cb8-877f-9281319837e3"
      },
      "execution_count": 10,
      "outputs": [
        {
          "output_type": "stream",
          "name": "stdout",
          "text": [
            "\n",
            "Question 11: Create a nested dictionary: {'person': {'name': 'Alice', 'age': 25}}\n",
            "{'person': {'name': 'Alice', 'age': 25}}\n"
          ]
        }
      ]
    },
    {
      "cell_type": "code",
      "source": [
        "# Question 12: Access nested value 'name' from {'person': {'name': 'Alice', 'age': 25}}\n",
        "print(\"\\nQuestion 12: Access nested value 'name' from {'person': {'name': 'Alice', 'age': 25}}\")\n",
        "# Your code here\n",
        "\n",
        "# Given nested dictionary\n",
        "nested_dict = {'person': {'name': 'Alice', 'age': 25}}\n",
        "\n",
        "# Accessing the nested value 'name'\n",
        "name = nested_dict['person']['name']\n",
        "\n",
        "# Printing the value\n",
        "print(name)\n",
        "\n",
        ""
      ],
      "metadata": {
        "colab": {
          "base_uri": "https://localhost:8080/"
        },
        "id": "FDqtk7h5_Uw4",
        "outputId": "88c95856-cceb-4967-b305-51a94f3a4435"
      },
      "execution_count": 12,
      "outputs": [
        {
          "output_type": "stream",
          "name": "stdout",
          "text": [
            "\n",
            "Question 12: Access nested value 'name' from {'person': {'name': 'Alice', 'age': 25}}\n",
            "Alice\n"
          ]
        }
      ]
    },
    {
      "cell_type": "code",
      "source": [
        "# Question 13: Create a dictionary with list values: {'fruits': ['apple', 'banana'], 'colors': ['red', 'blue']}\n",
        "print(\"\\nQuestion 13: Create a dictionary with list values: {'fruits': ['apple', 'banana'], 'colors': ['red', 'blue']}\")\n",
        "# Creating the dictionary\n",
        "dict_with_lists = {\n",
        "    'fruits': ['apple', 'banana'],\n",
        "    'colors': ['red', 'blue']\n",
        "}\n",
        "\n",
        "# Printing the dictionary\n",
        "print(dict_with_lists)\n"
      ],
      "metadata": {
        "colab": {
          "base_uri": "https://localhost:8080/"
        },
        "id": "pbFDFkI0_Uub",
        "outputId": "f5d43f64-5c27-4884-83cb-3e91b5274c4f"
      },
      "execution_count": 13,
      "outputs": [
        {
          "output_type": "stream",
          "name": "stdout",
          "text": [
            "\n",
            "Question 13: Create a dictionary with list values: {'fruits': ['apple', 'banana'], 'colors': ['red', 'blue']}\n",
            "{'fruits': ['apple', 'banana'], 'colors': ['red', 'blue']}\n"
          ]
        }
      ]
    },
    {
      "cell_type": "code",
      "source": [
        "# Question 14: Add 'orange' to the 'fruits' list in nested dictionary\n",
        "print(\"\\nQuestion 14: Add 'orange' to the 'fruits' list in nested dictionary\")\n",
        "\n",
        "# Given nested dictionary\n",
        "dict_with_lists = {\n",
        "    'fruits': ['apple', 'banana'],\n",
        "    'colors': ['red', 'blue']\n",
        "}\n",
        "\n",
        "# Adding 'orange' to the 'fruits' list\n",
        "dict_with_lists['fruits'].append('orange')\n",
        "\n",
        "# Printing the updated dictionary\n",
        "print(dict_with_lists)\n"
      ],
      "metadata": {
        "colab": {
          "base_uri": "https://localhost:8080/"
        },
        "id": "gPagEf2R_Ur8",
        "outputId": "25f9f56d-23ab-4faa-a181-9a0367534a65"
      },
      "execution_count": 14,
      "outputs": [
        {
          "output_type": "stream",
          "name": "stdout",
          "text": [
            "\n",
            "Question 14: Add 'orange' to the 'fruits' list in nested dictionary\n",
            "{'fruits': ['apple', 'banana', 'orange'], 'colors': ['red', 'blue']}\n"
          ]
        }
      ]
    },
    {
      "cell_type": "code",
      "source": [
        "# Question 15: Create a dictionary with tuple values: {'coordinates': (10, 20), 'rgb': (255, 0, 0)}\n",
        "print(\"\\nQuestion 15: Create a dictionary with tuple values: {'coordinates': (10, 20), 'rgb': (255, 0, 0)}\")\n",
        "\n",
        "# Creating the dictionary with tuple values\n",
        "dict_with_tuples = {\n",
        "    'coordinates': (10, 20),\n",
        "    'rgb': (255, 0, 0)\n",
        "}\n",
        "\n",
        "# Printing the dictionary\n",
        "print(dict_with_tuples)\n"
      ],
      "metadata": {
        "colab": {
          "base_uri": "https://localhost:8080/"
        },
        "id": "n2qigORG_Upo",
        "outputId": "ccd12e59-71a6-493c-fd45-f0aec748f5e7"
      },
      "execution_count": 15,
      "outputs": [
        {
          "output_type": "stream",
          "name": "stdout",
          "text": [
            "\n",
            "Question 15: Create a dictionary with tuple values: {'coordinates': (10, 20), 'rgb': (255, 0, 0)}\n",
            "{'coordinates': (10, 20), 'rgb': (255, 0, 0)}\n"
          ]
        }
      ]
    },
    {
      "cell_type": "code",
      "source": [
        "# Question 16: Extract first coordinate from nested tuple\n",
        "print(\"\\nQuestion 16: Extract first coordinate from nested tuple\")\n",
        "# Your code here\n",
        "\n",
        "\n",
        "# Given dictionary with tuple values\n",
        "dict_with_tuples = {\n",
        "    'coordinates': (10, 20),\n",
        "    'rgb': (255, 0, 0)\n",
        "}\n",
        "\n",
        "# Extracting the first coordinate\n",
        "first_coordinate = dict_with_tuples['coordinates'][0]\n",
        "\n",
        "# Printing the first coordinate\n",
        "print(first_coordinate)\n"
      ],
      "metadata": {
        "colab": {
          "base_uri": "https://localhost:8080/"
        },
        "id": "um4_1mH8_UnX",
        "outputId": "3a5c9432-cdcf-46c0-f63a-5ea64790c32e"
      },
      "execution_count": 16,
      "outputs": [
        {
          "output_type": "stream",
          "name": "stdout",
          "text": [
            "\n",
            "Question 16: Extract first coordinate from nested tuple\n",
            "10\n"
          ]
        }
      ]
    },
    {
      "cell_type": "code",
      "source": [
        "# Question 17: Create a dictionary with set values: {'vowels': {'a', 'e', 'i'}, 'consonants': {'b', 'c', 'd'}}\n",
        "print(\"\\nQuestion 17: Create a dictionary with set values: {'vowels': {'a', 'e', 'i'}, 'consonants': {'b', 'c', 'd'}}\")\n",
        "\n",
        "# Creating the dictionary with set values\n",
        "dict_with_sets = {\n",
        "    'vowels': {'a', 'e', 'i'},\n",
        "    'consonants': {'b', 'c', 'd'}\n",
        "}\n",
        "\n",
        "# Printing the dictionary\n",
        "print(dict_with_sets)\n"
      ],
      "metadata": {
        "colab": {
          "base_uri": "https://localhost:8080/"
        },
        "id": "JswQxPRI_UlD",
        "outputId": "08df728b-2429-4394-8d97-e18df0c51ef9"
      },
      "execution_count": 17,
      "outputs": [
        {
          "output_type": "stream",
          "name": "stdout",
          "text": [
            "\n",
            "Question 17: Create a dictionary with set values: {'vowels': {'a', 'e', 'i'}, 'consonants': {'b', 'c', 'd'}}\n",
            "{'vowels': {'a', 'i', 'e'}, 'consonants': {'d', 'b', 'c'}}\n"
          ]
        }
      ]
    },
    {
      "cell_type": "code",
      "source": [
        "# Question 18: Add 'o' to vowels set in nested dictionary\n",
        "print(\"\\nQuestion 18: Add 'o' to vowels set in nested dictionary\")\n",
        "\n",
        "# Given dictionary with sets\n",
        "dict_with_sets = {\n",
        "    'vowels': {'a', 'e', 'i'},\n",
        "    'consonants': {'b', 'c', 'd'}\n",
        "}\n",
        "\n",
        "# Adding 'o' to the 'vowels' set\n",
        "dict_with_sets['vowels'].add('o')\n",
        "\n",
        "# Printing the updated dictionary\n",
        "print(dict_with_sets)\n"
      ],
      "metadata": {
        "colab": {
          "base_uri": "https://localhost:8080/"
        },
        "id": "e407tnGyCkxh",
        "outputId": "4bf8eac5-75c8-437e-b7ae-ef14b626694b"
      },
      "execution_count": 18,
      "outputs": [
        {
          "output_type": "stream",
          "name": "stdout",
          "text": [
            "\n",
            "Question 18: Add 'o' to vowels set in nested dictionary\n",
            "{'vowels': {'o', 'a', 'i', 'e'}, 'consonants': {'d', 'b', 'c'}}\n"
          ]
        }
      ]
    },
    {
      "cell_type": "code",
      "source": [
        "# Question 19: Create a 3-level nested dictionary: {'company': {'department': {'employee': {'name': 'John', 'id': 123}}}}\n",
        "print(\"\\nQuestion 19: Create a 3-level nested dictionary: {'company': {'department': {'employee': {'name': 'John', 'id': 123}}}}\")\n",
        "\n",
        "# Creating the 3-level nested dictionary\n",
        "nested_dict = {\n",
        "    'company': {\n",
        "        'department': {\n",
        "            'employee': {\n",
        "                'name': 'John',\n",
        "                'id': 123\n",
        "            }\n",
        "        }\n",
        "    }\n",
        "}\n",
        "\n",
        "# Printing the nested dictionary\n",
        "print(nested_dict)\n",
        "\n",
        ""
      ],
      "metadata": {
        "colab": {
          "base_uri": "https://localhost:8080/"
        },
        "id": "5QrDABX5CkmT",
        "outputId": "61c2166e-121b-4ff8-fc57-a7d53f8ca003"
      },
      "execution_count": 19,
      "outputs": [
        {
          "output_type": "stream",
          "name": "stdout",
          "text": [
            "\n",
            "Question 19: Create a 3-level nested dictionary: {'company': {'department': {'employee': {'name': 'John', 'id': 123}}}}\n",
            "{'company': {'department': {'employee': {'name': 'John', 'id': 123}}}}\n"
          ]
        }
      ]
    },
    {
      "cell_type": "code",
      "source": [
        "# Question 20: Access employee name from 3-level nested dictionary\n",
        "print(\"\\nQuestion 20: Access employee name from 3-level nested dictionary\")\n",
        "\n",
        "# Given 3-level nested dictionary\n",
        "nested_dict = {\n",
        "    'company': {\n",
        "        'department': {\n",
        "            'employee': {\n",
        "                'name': 'John',\n",
        "                'id': 123\n",
        "            }\n",
        "        }\n",
        "    }\n",
        "}\n",
        "\n",
        "# Accessing the employee name\n",
        "employee_name = nested_dict['company']['department']['employee']['name']\n",
        "\n",
        "# Printing the employee name\n",
        "print(employee_name)\n"
      ],
      "metadata": {
        "colab": {
          "base_uri": "https://localhost:8080/"
        },
        "id": "3n3WN73yCkaa",
        "outputId": "c8140d9d-95f2-490a-cd4e-a7992caed047"
      },
      "execution_count": 20,
      "outputs": [
        {
          "output_type": "stream",
          "name": "stdout",
          "text": [
            "\n",
            "Question 20: Access employee name from 3-level nested dictionary\n",
            "John\n"
          ]
        }
      ]
    },
    {
      "cell_type": "code",
      "source": [
        "# Question 21: Create a dictionary with mixed data types: {'int': 42, 'float': 3.14, 'str': 'hello', 'bool': True}\n",
        "print(\"\\nQuestion 21: Create a dictionary with mixed data types: {'int': 42, 'float': 3.14, 'str': 'hello', 'bool': True}\")\n",
        "# Your code here\n",
        "\n",
        "# Creating the dictionary\n",
        "mixed_dict = {\n",
        "    'int': 42,\n",
        "    'float': 3.14,\n",
        "    'str': 'hello',\n",
        "    'bool': True\n",
        "}\n",
        "\n",
        "# Printing the dictionary\n",
        "print(mixed_dict)\n"
      ],
      "metadata": {
        "colab": {
          "base_uri": "https://localhost:8080/"
        },
        "id": "1cfh2PRRCkRv",
        "outputId": "724a44f7-bc15-4e3a-8f27-ab58d8b4d37e"
      },
      "execution_count": 21,
      "outputs": [
        {
          "output_type": "stream",
          "name": "stdout",
          "text": [
            "\n",
            "Question 21: Create a dictionary with mixed data types: {'int': 42, 'float': 3.14, 'str': 'hello', 'bool': True}\n",
            "{'int': 42, 'float': 3.14, 'str': 'hello', 'bool': True}\n"
          ]
        }
      ]
    },
    {
      "cell_type": "code",
      "source": [
        "# Question 22: Check data type of each value in mixed dictionary\n",
        "print(\"\\nQuestion 22: Check data type of each value in mixed dictionary\")\n",
        "\n",
        "# Given mixed dictionary\n",
        "mixed_dict = {\n",
        "    'int': 42,\n",
        "    'float': 3.14,\n",
        "    'str': 'hello',\n",
        "    'bool': True\n",
        "}\n",
        "\n",
        "# Checking and printing data type of each value\n",
        "for key, value in mixed_dict.items():\n",
        "    print(f\"Key: {key}, Value: {value}, Type: {type(value)}\")"
      ],
      "metadata": {
        "colab": {
          "base_uri": "https://localhost:8080/"
        },
        "id": "a6Svrm7UDN5f",
        "outputId": "3f69b1c3-67ce-440c-ae99-e2d364977686"
      },
      "execution_count": 22,
      "outputs": [
        {
          "output_type": "stream",
          "name": "stdout",
          "text": [
            "\n",
            "Question 22: Check data type of each value in mixed dictionary\n",
            "Key: int, Value: 42, Type: <class 'int'>\n",
            "Key: float, Value: 3.14, Type: <class 'float'>\n",
            "Key: str, Value: hello, Type: <class 'str'>\n",
            "Key: bool, Value: True, Type: <class 'bool'>\n"
          ]
        }
      ]
    },
    {
      "cell_type": "code",
      "source": [
        "# Question 23: Create a dictionary with function values: {'len': len, 'str': str, 'int': int}\n",
        "print(\"\\nQuestion 23: Create a dictionary with function values: {'len': len, 'str': str, 'int': int}\")\n",
        "\n",
        "# Creating the dictionary with functions as values\n",
        "func_dict = {\n",
        "    'len': len,\n",
        "    'str': str,\n",
        "    'int': int\n",
        "}\n",
        "\n",
        "# Printing the dictionary\n",
        "print(func_dict)"
      ],
      "metadata": {
        "colab": {
          "base_uri": "https://localhost:8080/"
        },
        "id": "UW0diHDWDN1z",
        "outputId": "105ff30e-e5ff-4e77-ae1c-27c1f8d81c5b"
      },
      "execution_count": 23,
      "outputs": [
        {
          "output_type": "stream",
          "name": "stdout",
          "text": [
            "\n",
            "Question 23: Create a dictionary with function values: {'len': len, 'str': str, 'int': int}\n",
            "{'len': <built-in function len>, 'str': <class 'str'>, 'int': <class 'int'>}\n"
          ]
        }
      ]
    },
    {
      "cell_type": "code",
      "source": [
        "# Question 24: Apply each function to \"123\" using dictionary\n",
        "print(\"\\nQuestion 24: Apply each function to '123' using dictionary\")\n",
        "\n",
        "# Dictionary with functions as values\n",
        "func_dict = {\n",
        "    'len': len,\n",
        "    'str': str,\n",
        "    'int': int\n",
        "}\n",
        "\n",
        "# Input string\n",
        "input_str = \"123\"\n",
        "\n",
        "# Applying each function and printing the result\n",
        "for func_name, func in func_dict.items():\n",
        "    result = func(input_str)\n",
        "    print(f\"{func_name}('{input_str}') => {result}\")"
      ],
      "metadata": {
        "colab": {
          "base_uri": "https://localhost:8080/"
        },
        "id": "7HO3HU4TDNp2",
        "outputId": "c3832754-20b5-496e-85dd-0bd7e9f6dcd8"
      },
      "execution_count": 24,
      "outputs": [
        {
          "output_type": "stream",
          "name": "stdout",
          "text": [
            "\n",
            "Question 24: Apply each function to '123' using dictionary\n",
            "len('123') => 3\n",
            "str('123') => 123\n",
            "int('123') => 123\n"
          ]
        }
      ]
    },
    {
      "cell_type": "code",
      "source": [
        "# Question 25: Create a dictionary with lambda functions: {'double': lambda x: x*2, 'square': lambda x: x**2}\n",
        "print(\"\\nQuestion 25: Create a dictionary with lambda functions: {'double': lambda x: x*2, 'square': lambda x: x**2}\")\n",
        "\n",
        "# Creating the dictionary with lambda functions\n",
        "lambda_dict = {\n",
        "    'double': lambda x: x * 2,\n",
        "    'square': lambda x: x ** 2\n",
        "}\n",
        "\n",
        "# Printing the dictionary (will show function references)\n",
        "print(lambda_dict)\n"
      ],
      "metadata": {
        "colab": {
          "base_uri": "https://localhost:8080/"
        },
        "id": "jyHewWzcDNal",
        "outputId": "f7d14ac4-e5ec-4164-8706-ce38a364154e"
      },
      "execution_count": 25,
      "outputs": [
        {
          "output_type": "stream",
          "name": "stdout",
          "text": [
            "\n",
            "Question 25: Create a dictionary with lambda functions: {'double': lambda x: x*2, 'square': lambda x: x**2}\n",
            "{'double': <function <lambda> at 0x7e03f40234c0>, 'square': <function <lambda> at 0x7e03f4023420>}\n"
          ]
        }
      ]
    },
    {
      "cell_type": "code",
      "source": [
        "# Question 26: Apply each lambda function to 5\n",
        "print(\"\\nQuestion 26: Apply each lambda function to 5\")\n",
        "\n",
        "# Dictionary with lambda functions\n",
        "lambda_dict = {\n",
        "    'double': lambda x: x * 2,\n",
        "    'square': lambda x: x ** 2\n",
        "}\n",
        "\n",
        "# Applying each lambda function to 5 and printing the result\n",
        "for name, func in lambda_dict.items():\n",
        "    result = func(5)\n",
        "    print(f\"{name}(5) => {result}\")\n"
      ],
      "metadata": {
        "colab": {
          "base_uri": "https://localhost:8080/"
        },
        "id": "-JHLBwFbmnKI",
        "outputId": "5029ce8f-982c-4e0c-a8e4-9b2832e8f796"
      },
      "execution_count": 1,
      "outputs": [
        {
          "output_type": "stream",
          "name": "stdout",
          "text": [
            "\n",
            "Question 26: Apply each lambda function to 5\n",
            "double(5) => 10\n",
            "square(5) => 25\n"
          ]
        }
      ]
    },
    {
      "cell_type": "code",
      "source": [
        "# Question 27: Create a dictionary with class values: {'list': list, 'dict': dict, 'set': set}\n",
        "print(\"\\nQuestion 27: Create a dictionary with class values: {'list': list, 'dict': dict, 'set': set}\")\n",
        "\n",
        "# Creating the dictionary with class values\n",
        "class_dict = {\n",
        "    'list': list,\n",
        "    'dict': dict,\n",
        "    'set': set\n",
        "}\n",
        "\n",
        "# Printing the dictionary\n",
        "print(class_dict)\n"
      ],
      "metadata": {
        "id": "M3zIXI_emnGu"
      },
      "execution_count": null,
      "outputs": []
    },
    {
      "cell_type": "code",
      "source": [
        "# Question 28: Create instances using class dictionary\n",
        "print(\"\\nQuestion 28: Create instances using class dictionary\")\n",
        "\n",
        "# Dictionary with class values\n",
        "class_dict = {\n",
        "    'list': list,\n",
        "    'dict': dict,\n",
        "    'set': set\n",
        "}\n",
        "\n",
        "# Creating instances\n",
        "list_instance = class_dict['list']([1, 2, 3])\n",
        "dict_instance = class_dict['dict'](a=1, b=2)\n",
        "set_instance = class_dict['set']([1, 2, 3])\n",
        "\n",
        "# Printing the instances\n",
        "print(\"List instance:\", list_instance)\n",
        "print(\"Dict instance:\", dict_instance)\n",
        "print(\"Set instance:\", set_instance)\n"
      ],
      "metadata": {
        "colab": {
          "base_uri": "https://localhost:8080/"
        },
        "id": "zB6kozHrmnBx",
        "outputId": "aaa3237d-b91f-465b-d1d8-8afbf90cc752"
      },
      "execution_count": 2,
      "outputs": [
        {
          "output_type": "stream",
          "name": "stdout",
          "text": [
            "\n",
            "Question 28: Create instances using class dictionary\n",
            "List instance: [1, 2, 3]\n",
            "Dict instance: {'a': 1, 'b': 2}\n",
            "Set instance: {1, 2, 3}\n"
          ]
        }
      ]
    },
    {
      "cell_type": "code",
      "source": [
        "# Question 29: Create a dictionary with None values: {'a': None, 'b': None, 'c': None}\n",
        "print(\"\\nQuestion 29: Create a dictionary with None values: {'a': None, 'b': None, 'c': None}\")\n",
        "\n",
        "# Creating the dictionary with None values\n",
        "none_dict = {\n",
        "    'a': None,\n",
        "    'b': None,\n",
        "    'c': None\n",
        "}\n",
        "\n",
        "# Printing the dictionary\n",
        "print(none_dict)\n",
        "\n",
        ""
      ],
      "metadata": {
        "colab": {
          "base_uri": "https://localhost:8080/"
        },
        "id": "obUAURQCmm6Q",
        "outputId": "cd8c0601-53eb-4462-b871-62d7203029c8"
      },
      "execution_count": 3,
      "outputs": [
        {
          "output_type": "stream",
          "name": "stdout",
          "text": [
            "\n",
            "Question 29: Create a dictionary with None values: {'a': None, 'b': None, 'c': None}\n",
            "{'a': None, 'b': None, 'c': None}\n"
          ]
        }
      ]
    },
    {
      "cell_type": "code",
      "source": [
        "# Question 30: Replace all None values with 0\n",
        "print(\"\\nQuestion 30: Replace all None values with 0\")\n",
        "\n",
        "# Given dictionary with None values\n",
        "none_dict = {\n",
        "    'a': None,\n",
        "    'b': None,\n",
        "    'c': None\n",
        "}\n",
        "\n",
        "# Replacing None values with 0\n",
        "for key in none_dict:\n",
        "    if none_dict[key] is None:\n",
        "        none_dict[key] = 0\n",
        "\n",
        "# Printing the updated dictionary\n",
        "print(none_dict)\n"
      ],
      "metadata": {
        "colab": {
          "base_uri": "https://localhost:8080/"
        },
        "id": "jEySh8NNneuQ",
        "outputId": "3542a96a-f612-4bb7-827f-01bc6c44f1ea"
      },
      "execution_count": 4,
      "outputs": [
        {
          "output_type": "stream",
          "name": "stdout",
          "text": [
            "\n",
            "Question 30: Replace all None values with 0\n",
            "{'a': 0, 'b': 0, 'c': 0}\n"
          ]
        }
      ]
    },
    {
      "cell_type": "code",
      "source": [
        "# Question 31: Create a dictionary with boolean values: {'is_active': True, 'is_admin': False}\n",
        "print(\"\\nQuestion 31: Create a dictionary with boolean values: {'is_active': True, 'is_admin': False}\")\n",
        "\n",
        "# Creating the dictionary with boolean values\n",
        "bool_dict = {\n",
        "    'is_active': True,\n",
        "    'is_admin': False\n",
        "}\n",
        "\n",
        "# Printing the dictionary\n",
        "print(bool_dict)\n"
      ],
      "metadata": {
        "colab": {
          "base_uri": "https://localhost:8080/"
        },
        "id": "3xONhB7Vnenj",
        "outputId": "ff1e0ab2-8c83-440d-9d0c-4cc60869ba9c"
      },
      "execution_count": 5,
      "outputs": [
        {
          "output_type": "stream",
          "name": "stdout",
          "text": [
            "\n",
            "Question 31: Create a dictionary with boolean values: {'is_active': True, 'is_admin': False}\n",
            "{'is_active': True, 'is_admin': False}\n"
          ]
        }
      ]
    },
    {
      "cell_type": "code",
      "source": [
        "# Question 32: Count True values in boolean dictionary\n",
        "print(\"\\nQuestion 32: Count True values in boolean dictionary\")\n",
        "print(\"\\nQuestion 32: Count True values in boolean dictionary\")\n",
        "\n",
        "# Given boolean dictionary\n",
        "bool_dict = {\n",
        "    'is_active': True,\n",
        "    'is_admin': False\n",
        "}\n",
        "\n",
        "# Counting True values\n",
        "true_count = sum(value is True for value in bool_dict.values())\n",
        "\n",
        "# Printing the count\n",
        "print(\"Number of True values:\", true_count)"
      ],
      "metadata": {
        "colab": {
          "base_uri": "https://localhost:8080/"
        },
        "id": "G3_Ttks5nej8",
        "outputId": "f210e843-2896-4fbf-ff7d-477b9ef7d2c2"
      },
      "execution_count": 6,
      "outputs": [
        {
          "output_type": "stream",
          "name": "stdout",
          "text": [
            "\n",
            "Question 32: Count True values in boolean dictionary\n",
            "\n",
            "Question 32: Count True values in boolean dictionary\n",
            "Number of True values: 1\n"
          ]
        }
      ]
    },
    {
      "cell_type": "code",
      "source": [
        "# Question 33: Create a dictionary with complex numbers: {'z1': 3+4j, 'z2': 1+2j}\n",
        "print(\"\\nQuestion 33: Create a dictionary with complex numbers: {'z1': 3+4j, 'z2': 1+2j}\")\n",
        "print(\"\\nQuestion 33: Create a dictionary with complex numbers: {'z1': 3+4j, 'z2': 1+2j}\")\n",
        "\n",
        "# Creating the dictionary with complex numbers\n",
        "complex_dict = {\n",
        "    'z1': 3 + 4j,\n",
        "    'z2': 1 + 2j\n",
        "}\n",
        "\n",
        "# Printing the dictionary\n",
        "print(complex_dict)\n",
        "\n",
        ""
      ],
      "metadata": {
        "colab": {
          "base_uri": "https://localhost:8080/"
        },
        "id": "ofFBF_tnnece",
        "outputId": "30bca1e5-ab4a-447e-9ecd-7d7ed6aedc99"
      },
      "execution_count": 7,
      "outputs": [
        {
          "output_type": "stream",
          "name": "stdout",
          "text": [
            "\n",
            "Question 33: Create a dictionary with complex numbers: {'z1': 3+4j, 'z2': 1+2j}\n",
            "\n",
            "Question 33: Create a dictionary with complex numbers: {'z1': 3+4j, 'z2': 1+2j}\n",
            "{'z1': (3+4j), 'z2': (1+2j)}\n"
          ]
        }
      ]
    },
    {
      "cell_type": "code",
      "source": [
        "# Question 34: Find magnitude of each complex number\n",
        "print(\"\\nQuestion 34: Find magnitude of each complex number\")\n",
        "print(\"\\nQuestion 34: Find magnitude of each complex number\")\n",
        "\n",
        "import math\n",
        "\n",
        "# Given dictionary with complex numbers\n",
        "complex_dict = {\n",
        "    'z1': 3 + 4j,\n",
        "    'z2': 1 + 2j\n",
        "}\n",
        "\n",
        "# Calculating magnitude of each complex number\n",
        "for key, value in complex_dict.items():\n",
        "    magnitude = abs(value)  # or math.sqrt(value.real**2 + value.imag**2)\n",
        "    print(f\"Magnitude of {key} ({value}) is {magnitude}\")\n"
      ],
      "metadata": {
        "colab": {
          "base_uri": "https://localhost:8080/"
        },
        "id": "LVca7i-YneVm",
        "outputId": "35c50519-db8f-4677-f77a-8916db27ed7f"
      },
      "execution_count": 8,
      "outputs": [
        {
          "output_type": "stream",
          "name": "stdout",
          "text": [
            "\n",
            "Question 34: Find magnitude of each complex number\n",
            "\n",
            "Question 34: Find magnitude of each complex number\n",
            "Magnitude of z1 ((3+4j)) is 5.0\n",
            "Magnitude of z2 ((1+2j)) is 2.23606797749979\n"
          ]
        }
      ]
    },
    {
      "cell_type": "code",
      "source": [
        "# Question 35: Create a 4-level nested dictionary\n",
        "print(\"\\nQuestion 35: Create a 4-level nested dictionary\")\n",
        "print(\"\\nQuestion 35: Create a 4-level nested dictionary\")\n",
        "\n",
        "# Creating a 4-level nested dictionary\n",
        "nested_dict_4_level = {\n",
        "    'level1': {\n",
        "        'level2': {\n",
        "            'level3': {\n",
        "                'level4': 'This is the deepest level'\n",
        "            }\n",
        "        }\n",
        "    }\n",
        "}\n",
        "\n",
        "# Printing the 4-level nested dictionary\n",
        "print(nested_dict_4_level)\n"
      ],
      "metadata": {
        "colab": {
          "base_uri": "https://localhost:8080/"
        },
        "id": "SGf8rkgUneLh",
        "outputId": "13f4a937-b80b-49eb-a75f-3953d09e9519"
      },
      "execution_count": 9,
      "outputs": [
        {
          "output_type": "stream",
          "name": "stdout",
          "text": [
            "\n",
            "Question 35: Create a 4-level nested dictionary\n",
            "\n",
            "Question 35: Create a 4-level nested dictionary\n",
            "{'level1': {'level2': {'level3': {'level4': 'This is the deepest level'}}}}\n"
          ]
        }
      ]
    },
    {
      "cell_type": "code",
      "source": [
        "# Question 36: Access deepest value in 4-level nested dictionary\n",
        "print(\"\\nQuestion 36: Access deepest value in 4-level nested dictionary\")\n",
        "print(\"\\nQuestion 36: Access deepest value in 4-level nested dictionary\")\n",
        "\n",
        "# Given 4-level nested dictionary\n",
        "nested_dict_4_level = {\n",
        "    'level1': {\n",
        "        'level2': {\n",
        "            'level3': {\n",
        "                'level4': 'This is the deepest level'\n",
        "            }\n",
        "        }\n",
        "    }\n",
        "}\n",
        "\n",
        "# Accessing the deepest value\n",
        "deepest_value = nested_dict_4_level['level1']['level2']['level3']['level4']\n",
        "\n",
        "# Printing the deepest value\n",
        "print(deepest_value)\n"
      ],
      "metadata": {
        "colab": {
          "base_uri": "https://localhost:8080/"
        },
        "id": "IAHubzoYoinK",
        "outputId": "12cfa42e-126c-452a-db97-b6a1a3ebb86d"
      },
      "execution_count": 10,
      "outputs": [
        {
          "output_type": "stream",
          "name": "stdout",
          "text": [
            "\n",
            "Question 36: Access deepest value in 4-level nested dictionary\n",
            "\n",
            "Question 36: Access deepest value in 4-level nested dictionary\n",
            "This is the deepest level\n"
          ]
        }
      ]
    },
    {
      "cell_type": "code",
      "source": [
        "# Question 37: Create a dictionary with range values: {'r1': range(3), 'r2': range(5)}\n",
        "print(\"\\nQuestion 37: Create a dictionary with range values: {'r1': range(3), 'r2': range(5)}\")\n",
        "print(\"\\nQuestion 37: Create a dictionary with range values: {'r1': range(3), 'r2': range(5)}\")\n",
        "\n",
        "# Creating the dictionary with range objects as values\n",
        "range_dict = {\n",
        "    'r1': range(3),\n",
        "    'r2': range(5)\n",
        "}\n",
        "\n",
        "# Printing the dictionary\n",
        "print(range_dict)"
      ],
      "metadata": {
        "colab": {
          "base_uri": "https://localhost:8080/"
        },
        "id": "wWClBu33oijn",
        "outputId": "7a221578-91bb-4e4b-deea-68d5c8b435ed"
      },
      "execution_count": 11,
      "outputs": [
        {
          "output_type": "stream",
          "name": "stdout",
          "text": [
            "\n",
            "Question 37: Create a dictionary with range values: {'r1': range(3), 'r2': range(5)}\n",
            "\n",
            "Question 37: Create a dictionary with range values: {'r1': range(3), 'r2': range(5)}\n",
            "{'r1': range(0, 3), 'r2': range(0, 5)}\n"
          ]
        }
      ]
    },
    {
      "cell_type": "code",
      "source": [
        "# Question 38: Convert each range to list\n",
        "print(\"\\nQuestion 38: Convert each range to list\")\n",
        "\n",
        "# Given dictionary with range objects\n",
        "range_dict = {\n",
        "    'r1': range(3),\n",
        "    'r2': range(5)\n",
        "}\n",
        "\n",
        "# Converting each range to a list\n",
        "list_dict = {key: list(value) for key, value in range_dict.items()}\n",
        "\n",
        "# Printing the new dictionary with lists\n",
        "print(list_dict)"
      ],
      "metadata": {
        "colab": {
          "base_uri": "https://localhost:8080/"
        },
        "id": "my7iYORLoign",
        "outputId": "c4664e45-d93b-426a-9f81-5d5e41bd3080"
      },
      "execution_count": 12,
      "outputs": [
        {
          "output_type": "stream",
          "name": "stdout",
          "text": [
            "\n",
            "Question 38: Convert each range to list\n",
            "{'r1': [0, 1, 2], 'r2': [0, 1, 2, 3, 4]}\n"
          ]
        }
      ]
    },
    {
      "cell_type": "code",
      "source": [
        "# Question 39: Create a dictionary with generator values\n",
        "print(\"\\nQuestion 39: Create a dictionary with generator values\")\n",
        "\n",
        "# Creating generator functions\n",
        "gen1 = (x for x in range(3))\n",
        "gen2 = (x * x for x in range(4))\n",
        "\n",
        "# Creating the dictionary with generator objects\n",
        "generator_dict = {\n",
        "    'gen1': gen1,\n",
        "    'gen2': gen2\n",
        "}\n",
        "\n",
        "# Printing the dictionary (will show generator object references)\n",
        "print(generator_dict)"
      ],
      "metadata": {
        "colab": {
          "base_uri": "https://localhost:8080/"
        },
        "id": "MpLKF54Eoids",
        "outputId": "184ae806-412c-476c-ed90-a7e8ace14d55"
      },
      "execution_count": 13,
      "outputs": [
        {
          "output_type": "stream",
          "name": "stdout",
          "text": [
            "\n",
            "Question 39: Create a dictionary with generator values\n",
            "{'gen1': <generator object <genexpr> at 0x7c0ba6e70d00>, 'gen2': <generator object <genexpr> at 0x7c0b9619a8e0>}\n"
          ]
        }
      ]
    },
    {
      "cell_type": "code",
      "source": [
        "# Question 40: Convert each generator to list\n",
        "print(\"\\nQuestion 40: Convert each generator to list\")\n",
        "\n",
        "# Creating the generators again (because generators are exhausted after use)\n",
        "gen1 = (x for x in range(3))\n",
        "gen2 = (x * x for x in range(4))\n",
        "\n",
        "# Dictionary with generators\n",
        "generator_dict = {\n",
        "    'gen1': gen1,\n",
        "    'gen2': gen2\n",
        "}\n",
        "\n",
        "# Converting each generator to list\n",
        "list_from_generators = {key: list(gen) for key, gen in generator_dict.items()}\n",
        "\n",
        "# Printing the dictionary with lists\n",
        "print(list_from_generators)\n"
      ],
      "metadata": {
        "colab": {
          "base_uri": "https://localhost:8080/"
        },
        "id": "jajXda4toia_",
        "outputId": "250f5cc5-0681-454f-b202-3723730161a8"
      },
      "execution_count": 14,
      "outputs": [
        {
          "output_type": "stream",
          "name": "stdout",
          "text": [
            "\n",
            "Question 40: Convert each generator to list\n",
            "{'gen1': [0, 1, 2], 'gen2': [0, 1, 4, 9]}\n"
          ]
        }
      ]
    },
    {
      "cell_type": "code",
      "source": [
        "# Question 41: Create a dictionary with iterator values\n",
        "print(\"\\nQuestion 41: Create a dictionary with iterator values\")\n",
        "\n",
        "# Creating iterators\n",
        "iter1 = iter([1, 2, 3])\n",
        "iter2 = iter(['a', 'b', 'c'])\n",
        "\n",
        "# Creating dictionary with iterator objects\n",
        "iterator_dict = {\n",
        "    'iter1': iter1,\n",
        "    'iter2': iter2\n",
        "}\n",
        "\n",
        "# Printing the dictionary (will show iterator object references)\n",
        "print(iterator_dict)\n"
      ],
      "metadata": {
        "colab": {
          "base_uri": "https://localhost:8080/"
        },
        "id": "HpDQjiuWoiYM",
        "outputId": "0f110c53-a803-454b-ce65-06e95a857453"
      },
      "execution_count": 15,
      "outputs": [
        {
          "output_type": "stream",
          "name": "stdout",
          "text": [
            "\n",
            "Question 41: Create a dictionary with iterator values\n",
            "{'iter1': <list_iterator object at 0x7c0b9613a1d0>, 'iter2': <list_iterator object at 0x7c0b9613a350>}\n"
          ]
        }
      ]
    },
    {
      "cell_type": "code",
      "source": [
        "# Question 42: Extract all elements from each iterator\n",
        "print(\"\\nQuestion 42: Extract all elements from each iterator\")\n",
        "\n",
        "# Creating iterators again (since iterators are exhausted after use)\n",
        "iter1 = iter([1, 2, 3])\n",
        "iter2 = iter(['a', 'b', 'c'])\n",
        "\n",
        "# Dictionary with iterators\n",
        "iterator_dict = {\n",
        "    'iter1': iter1,\n",
        "    'iter2': iter2\n",
        "}\n",
        "\n",
        "# Extracting all elements from each iterator\n",
        "extracted_elements = {key: list(iterator) for key, iterator in iterator_dict.items()}\n",
        "\n",
        "# Printing the extracted elements\n",
        "print(extracted_elements)\n"
      ],
      "metadata": {
        "colab": {
          "base_uri": "https://localhost:8080/"
        },
        "id": "-47y0_3DoiVa",
        "outputId": "ffe87ef7-ac0a-448a-d438-edbfa1d6a96e"
      },
      "execution_count": 16,
      "outputs": [
        {
          "output_type": "stream",
          "name": "stdout",
          "text": [
            "\n",
            "Question 42: Extract all elements from each iterator\n",
            "{'iter1': [1, 2, 3], 'iter2': ['a', 'b', 'c']}\n"
          ]
        }
      ]
    },
    {
      "cell_type": "code",
      "source": [
        "# Question 43: Create a dictionary with nested lists: {'matrix': [[1, 2], [3, 4]], 'vector': [5, 6, 7]}\n",
        "print(\"\\nQuestion 43: Create a dictionary with nested lists: {'matrix': [[1, 2], [3, 4]], 'vector': [5, 6, 7]}\")\n",
        "\n",
        "# Creating the dictionary with nested lists\n",
        "nested_lists_dict = {\n",
        "    'matrix': [[1, 2], [3, 4]],\n",
        "    'vector': [5, 6, 7]\n",
        "}\n",
        "\n",
        "# Printing the dictionary\n",
        "print(nested_lists_dict)"
      ],
      "metadata": {
        "colab": {
          "base_uri": "https://localhost:8080/"
        },
        "id": "YvRRaW6noiSY",
        "outputId": "b15756da-2063-4c94-be9c-a5f7d52b178b"
      },
      "execution_count": 17,
      "outputs": [
        {
          "output_type": "stream",
          "name": "stdout",
          "text": [
            "\n",
            "Question 43: Create a dictionary with nested lists: {'matrix': [[1, 2], [3, 4]], 'vector': [5, 6, 7]}\n",
            "{'matrix': [[1, 2], [3, 4]], 'vector': [5, 6, 7]}\n"
          ]
        }
      ]
    },
    {
      "cell_type": "code",
      "source": [
        "# Question 44: Find sum of each nested list\n",
        "print(\"\\nQuestion 44: Find sum of each nested list\")\n",
        "\n",
        "# Given dictionary with nested lists\n",
        "nested_lists_dict = {\n",
        "    'matrix': [[1, 2], [3, 4]],\n",
        "    'vector': [5, 6, 7]\n",
        "}\n",
        "\n",
        "# Calculating sum of each nested list\n",
        "sums = {}\n",
        "\n",
        "# For 'matrix', sum each inner list\n",
        "sums['matrix'] = [sum(inner_list) for inner_list in nested_lists_dict['matrix']]\n",
        "\n",
        "# For 'vector', sum the entire list\n",
        "sums['vector'] = sum(nested_lists_dict['vector'])\n",
        "\n",
        "# Printing the sums\n",
        "print(sums)\n"
      ],
      "metadata": {
        "colab": {
          "base_uri": "https://localhost:8080/"
        },
        "id": "_iw6FHWboiPv",
        "outputId": "ad2d6cea-56be-47e8-b9b2-d02cc930605d"
      },
      "execution_count": 18,
      "outputs": [
        {
          "output_type": "stream",
          "name": "stdout",
          "text": [
            "\n",
            "Question 44: Find sum of each nested list\n",
            "{'matrix': [3, 7], 'vector': 18}\n"
          ]
        }
      ]
    },
    {
      "cell_type": "code",
      "source": [
        "# Question 45: Create a dictionary with nested dictionaries: {'config': {'db': {'host': 'localhost', 'port': 5432}}}\n",
        "print(\"\\nQuestion 45: Create a dictionary with nested dictionaries: {'config': {'db': {'host': 'localhost', 'port': 5432}}}\n",
        "\n",
        "# Creating the nested dictionary\n",
        "nested_dict = {\n",
        "    'config': {\n",
        "        'db': {\n",
        "            'host': 'localhost',\n",
        "            'port': 5432\n",
        "        }\n",
        "    }\n",
        "}\n",
        "\n",
        "# Printing the nested dictionary\n",
        "print(nested_dict)\n"
      ],
      "metadata": {
        "colab": {
          "base_uri": "https://localhost:8080/",
          "height": 124
        },
        "id": "9aPiP3U2oiNA",
        "outputId": "aaa1d4c6-66e0-4387-8c0b-bc9e7e085b5c"
      },
      "execution_count": 19,
      "outputs": [
        {
          "output_type": "error",
          "ename": "SyntaxError",
          "evalue": "unterminated string literal (detected at line 2) (ipython-input-2478327374.py, line 2)",
          "traceback": [
            "\u001b[0;36m  File \u001b[0;32m\"/tmp/ipython-input-2478327374.py\"\u001b[0;36m, line \u001b[0;32m2\u001b[0m\n\u001b[0;31m    print(\"\\nQuestion 45: Create a dictionary with nested dictionaries: {'config': {'db': {'host': 'localhost', 'port': 5432}}}\u001b[0m\n\u001b[0m          ^\u001b[0m\n\u001b[0;31mSyntaxError\u001b[0m\u001b[0;31m:\u001b[0m unterminated string literal (detected at line 2)\n"
          ]
        }
      ]
    },
    {
      "cell_type": "code",
      "source": [
        "# Question 46: Access database port from nested configuration\n",
        "print(\"\\nQuestion 46: Access database port from nested configuration\")\n",
        "\n",
        "# Given nested dictionary\n",
        "nested_dict = {\n",
        "    'config': {\n",
        "        'db': {\n",
        "            'host': 'localhost',\n",
        "            'port': 5432\n",
        "        }\n",
        "    }\n",
        "}\n",
        "\n",
        "# Accessing the database port\n",
        "db_port = nested_dict['config']['db']['port']\n",
        "\n",
        "# Printing the database port\n",
        "print(\"Database port:\", db_port)"
      ],
      "metadata": {
        "colab": {
          "base_uri": "https://localhost:8080/"
        },
        "id": "7rpx5eQnqKJv",
        "outputId": "a9cd8775-5dd8-48fc-968e-9239099606d4"
      },
      "execution_count": 20,
      "outputs": [
        {
          "output_type": "stream",
          "name": "stdout",
          "text": [
            "\n",
            "Question 46: Access database port from nested configuration\n",
            "Database port: 5432\n"
          ]
        }
      ]
    },
    {
      "cell_type": "code",
      "source": [
        "# Question 47: Create a dictionary with nested tuples: {'points': ((1, 2), (3, 4)), 'rgb': ((255, 0, 0), (0, 255, 0))}\n",
        "print(\"\\nQuestion 47: Create a dictionary with nested tuples: {'points': ((1, 2), (3, 4)), 'rgb': ((255, 0, 0), (0, 255, 0))}\")\n",
        "\n",
        "# Creating the dictionary with nested tuples\n",
        "nested_tuples_dict = {\n",
        "    'points': ((1, 2), (3, 4)),\n",
        "    'rgb': ((255, 0, 0), (0, 255, 0))\n",
        "}\n",
        "\n",
        "# Printing the dictionary\n",
        "print(nested_tuples_dict)\n"
      ],
      "metadata": {
        "colab": {
          "base_uri": "https://localhost:8080/"
        },
        "id": "iYugT28kqKBw",
        "outputId": "87e23aec-74ae-4f39-80dd-18429bc5d568"
      },
      "execution_count": 21,
      "outputs": [
        {
          "output_type": "stream",
          "name": "stdout",
          "text": [
            "\n",
            "Question 47: Create a dictionary with nested tuples: {'points': ((1, 2), (3, 4)), 'rgb': ((255, 0, 0), (0, 255, 0))}\n",
            "{'points': ((1, 2), (3, 4)), 'rgb': ((255, 0, 0), (0, 255, 0))}\n"
          ]
        }
      ]
    },
    {
      "cell_type": "code",
      "source": [
        "# Question 48: Extract first point coordinates\n",
        "print(\"\\nQuestion 48: Extract first point coordinates\")\n",
        "\n",
        "# Given dictionary with nested tuples\n",
        "nested_tuples_dict = {\n",
        "    'points': ((1, 2), (3, 4)),\n",
        "    'rgb': ((255, 0, 0), (0, 255, 0))\n",
        "}\n",
        "\n",
        "# Extracting the first point coordinates\n",
        "first_point = nested_tuples_dict['points'][0]\n",
        "\n",
        "# Printing the first point coordinates\n",
        "print(\"First point coordinates:\", first_point)"
      ],
      "metadata": {
        "colab": {
          "base_uri": "https://localhost:8080/"
        },
        "id": "uOvC-WZnqJh_",
        "outputId": "dac6f26b-c8c5-4127-bc20-6a92c576870a"
      },
      "execution_count": 22,
      "outputs": [
        {
          "output_type": "stream",
          "name": "stdout",
          "text": [
            "\n",
            "Question 48: Extract first point coordinates\n",
            "First point coordinates: (1, 2)\n"
          ]
        }
      ]
    },
    {
      "cell_type": "code",
      "source": [
        "# Question 49: Create a dictionary with nested sets: {'groups': {{1, 2, 3}, {4, 5, 6}}, 'categories': {{'a', 'b'}, {'c', 'd'}}}\n",
        "print(\"\\nQuestion 49: Create a dictionary with nested sets: {'groups': {{1, 2, 3}, {4, 5, 6}}, 'categories': {{'a', 'b'}, {'c', 'd'}}}\")\n",
        "\n",
        "# Creating the dictionary with sets of frozensets\n",
        "nested_sets_dict = {\n",
        "    'groups': {frozenset({1, 2, 3}), frozenset({4, 5, 6})},\n",
        "    'categories': {frozenset({'a', 'b'}), frozenset({'c', 'd'})}\n",
        "}\n",
        "\n",
        "# Printing the dictionary\n",
        "print(nested_sets_dict)\n"
      ],
      "metadata": {
        "colab": {
          "base_uri": "https://localhost:8080/"
        },
        "id": "XnNN98dGoiKt",
        "outputId": "7a132146-483c-4b14-d07a-29e76791a486"
      },
      "execution_count": 23,
      "outputs": [
        {
          "output_type": "stream",
          "name": "stdout",
          "text": [
            "\n",
            "Question 49: Create a dictionary with nested sets: {'groups': {{1, 2, 3}, {4, 5, 6}}, 'categories': {{'a', 'b'}, {'c', 'd'}}}\n",
            "{'groups': {frozenset({1, 2, 3}), frozenset({4, 5, 6})}, 'categories': {frozenset({'d', 'c'}), frozenset({'b', 'a'})}}\n"
          ]
        }
      ]
    },
    {
      "cell_type": "code",
      "source": [
        "# Question 50: Find union of all nested sets\n",
        "print(\"\\nQuestion 50: Find union of all nested sets\")\n",
        "\n",
        "# Given dictionary with sets of frozensets\n",
        "nested_sets_dict = {\n",
        "    'groups': {frozenset({1, 2, 3}), frozenset({4, 5, 6})},\n",
        "    'categories': {frozenset({'a', 'b'}), frozenset({'c', 'd'})}\n",
        "}\n",
        "\n",
        "# Initialize an empty set for the union\n",
        "union_set = set()\n",
        "\n",
        "# Iterate through each key's set of frozensets and update the union set\n",
        "for key, frozenset_group in nested_sets_dict.items():\n",
        "    for s in frozenset_group:\n",
        "        union_set.update(s)\n",
        "\n",
        "# Print the union of all nested sets\n",
        "print(\"Union of all nested sets:\", union_set)\n"
      ],
      "metadata": {
        "colab": {
          "base_uri": "https://localhost:8080/"
        },
        "id": "klETNsAtrJKH",
        "outputId": "a3741b06-e004-4627-eb7c-61c0222a6ba0"
      },
      "execution_count": 24,
      "outputs": [
        {
          "output_type": "stream",
          "name": "stdout",
          "text": [
            "\n",
            "Question 50: Find union of all nested sets\n",
            "Union of all nested sets: {1, 2, 3, 4, 5, 6, 'a', 'd', 'c', 'b'}\n"
          ]
        }
      ]
    }
  ]
}