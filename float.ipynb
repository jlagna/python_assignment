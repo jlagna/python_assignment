{
  "nbformat": 4,
  "nbformat_minor": 0,
  "metadata": {
    "colab": {
      "provenance": []
    },
    "kernelspec": {
      "name": "python3",
      "display_name": "Python 3"
    },
    "language_info": {
      "name": "python"
    }
  },
  "cells": [
    {
      "cell_type": "code",
      "execution_count": 1,
      "metadata": {
        "colab": {
          "base_uri": "https://localhost:8080/"
        },
        "id": "JBhG637wtnKx",
        "outputId": "20f85f27-7d4e-49b8-91db-8ec842b83528"
      },
      "outputs": [
        {
          "output_type": "stream",
          "name": "stdout",
          "text": [
            "Question 1: Calculate the average of 3.14, 2.718, 1.618, 0.577\n"
          ]
        },
        {
          "output_type": "execute_result",
          "data": {
            "text/plain": [
              "2.01325"
            ]
          },
          "metadata": {},
          "execution_count": 1
        }
      ],
      "source": [
        "# Question 1: Calculate the average of 3.14, 2.718, 1.618, 0.577\n",
        "print(\"Question 1: Calculate the average of 3.14, 2.718, 1.618, 0.577\")\n",
        "num=[3.14,2.718,1.618,0.577]\n",
        "sum(num)/4"
      ]
    },
    {
      "cell_type": "code",
      "source": [
        "# Question 2: Convert 98.6 Fahrenheit to Celsius (F = C * 9/5 + 32)\n",
        "print(\"\\nQuestion 2: Convert 98.6 Fahrenheit to Celsius\")\n",
        "f=98.6\n",
        "c=(f-32)*5/9\n",
        "print(c)"
      ],
      "metadata": {
        "colab": {
          "base_uri": "https://localhost:8080/"
        },
        "id": "NFJ-RysLvazP",
        "outputId": "35befaaf-5ac1-49ba-a499-d88f1393a390"
      },
      "execution_count": 2,
      "outputs": [
        {
          "output_type": "stream",
          "name": "stdout",
          "text": [
            "\n",
            "Question 2: Convert 98.6 Fahrenheit to Celsius\n",
            "37.0\n"
          ]
        }
      ]
    },
    {
      "cell_type": "code",
      "source": [
        "# Question 3: Calculate the compound interest on $1000 at 5.5% for 3 years\n",
        "print(\"\\nQuestion 3: Calculate compound interest on $1000 at 5.5% for 3 years\")\n",
        "p= 1000\n",
        "t= 3\n",
        "r= .055\n",
        "n= 1\n",
        "a= p*(1+r/n)**(n*t)\n",
        "com_int=a-p\n",
        "print(com_int)"
      ],
      "metadata": {
        "colab": {
          "base_uri": "https://localhost:8080/"
        },
        "id": "GF2YEx0Bvaqw",
        "outputId": "791e7573-31bc-4fff-d81d-9fb5bee37830"
      },
      "execution_count": 3,
      "outputs": [
        {
          "output_type": "stream",
          "name": "stdout",
          "text": [
            "\n",
            "Question 3: Calculate compound interest on $1000 at 5.5% for 3 years\n",
            "174.24137499999983\n"
          ]
        }
      ]
    },
    {
      "cell_type": "code",
      "source": [
        "# Question 4: Find the hypotenuse of a right triangle with sides 3.5 and 4.2\n",
        "print(\"\\nQuestion 4: Find the hypotenuse of a right triangle with sides 3.5 and 4.2\")\n",
        "a = 3.5\n",
        "b = 4.2\n",
        "c = ((a**2 + b**2) ** (1/2)) # sqrt (a suare + bsqare)\n",
        "print(c)"
      ],
      "metadata": {
        "colab": {
          "base_uri": "https://localhost:8080/"
        },
        "id": "8HDrS8EZvakx",
        "outputId": "19e5051c-1a84-4247-da53-b5315e1f710f"
      },
      "execution_count": 4,
      "outputs": [
        {
          "output_type": "stream",
          "name": "stdout",
          "text": [
            "\n",
            "Question 4: Find the hypotenuse of a right triangle with sides 3.5 and 4.2\n",
            "5.4671747731346585\n"
          ]
        }
      ]
    },
    {
      "cell_type": "code",
      "source": [
        "# Question 5: Calculate the volume of a sphere with radius 7.8\n",
        "print(\"\\nQuestion 5: Calculate the volume of a sphere with radius 7.8\")\n",
        "import math\n",
        "r = 7.8\n",
        "vol = (4/3)* math.pi * (r ** 3) # 4/3 -pi * r cube\n",
        "print(vol)"
      ],
      "metadata": {
        "colab": {
          "base_uri": "https://localhost:8080/"
        },
        "id": "VZEqPufKvabi",
        "outputId": "636993fd-e70e-4fba-f08c-360da7cad661"
      },
      "execution_count": 11,
      "outputs": [
        {
          "output_type": "stream",
          "name": "stdout",
          "text": [
            "\n",
            "Question 5: Calculate the volume of a sphere with radius 7.8\n",
            "1987.798769261791\n"
          ]
        }
      ]
    },
    {
      "cell_type": "code",
      "source": [
        "# Question 6: Round 3.14159 to 3 decimal places\n",
        "print(\"\\nQuestion 6: Round 3.14159 to 3 decimal places\")\n",
        "r = 3.14159\n",
        "print(round(r,3))"
      ],
      "metadata": {
        "colab": {
          "base_uri": "https://localhost:8080/"
        },
        "id": "12y_hIE9vZkm",
        "outputId": "993e02d9-fb7a-46c9-f35c-c94bfc143ff7"
      },
      "execution_count": 6,
      "outputs": [
        {
          "output_type": "stream",
          "name": "stdout",
          "text": [
            "\n",
            "Question 6: Round 3.14159 to 3 decimal places\n",
            "3.142\n"
          ]
        }
      ]
    },
    {
      "cell_type": "code",
      "source": [
        "\n",
        "# Quation 7 : Calculate the percentage: 45 out of 67\n",
        "print(\"\\nQuestion 7: Calculate the percentage: 45 out of 67\")\n",
        "45/67 *100"
      ],
      "metadata": {
        "colab": {
          "base_uri": "https://localhost:8080/"
        },
        "id": "Mz4bUGPKwOEI",
        "outputId": "0de1d16e-f7fb-42b9-b0af-776a31dfa95e"
      },
      "execution_count": 8,
      "outputs": [
        {
          "output_type": "stream",
          "name": "stdout",
          "text": [
            "\n",
            "Question 7: Calculate the percentage: 45 out of 67\n"
          ]
        },
        {
          "output_type": "execute_result",
          "data": {
            "text/plain": [
              "67.16417910447761"
            ]
          },
          "metadata": {},
          "execution_count": 8
        }
      ]
    },
    {
      "cell_type": "code",
      "source": [
        "# Question 8: Find the square root of 23.456\n",
        "print(\"\\nQuestion 8: Find the square root of 23.456\")\n",
        "import math\n",
        "print(math.sqrt(23.456))"
      ],
      "metadata": {
        "colab": {
          "base_uri": "https://localhost:8080/"
        },
        "id": "iN0bLxP2wOAh",
        "outputId": "dca2d886-1786-4347-ae35-89fc60c9d261"
      },
      "execution_count": 9,
      "outputs": [
        {
          "output_type": "stream",
          "name": "stdout",
          "text": [
            "\n",
            "Question 8: Find the square root of 23.456\n",
            "4.843139477652899\n"
          ]
        }
      ]
    },
    {
      "cell_type": "code",
      "source": [
        "# Question 9: Calculate the simple interest: Principal=2500, Rate=6.5%, Time=2.5 years\n",
        "print(\"\\nQuestion 9: Calculate simple interest: Principal=2500, Rate=6.5%, Time=2.5 years\")\n",
        "# Your code here\n",
        "p = 2500\n",
        "t = 2.5\n",
        "r = 6.5\n",
        "si = (p*t*r/100)\n",
        "print(si)"
      ],
      "metadata": {
        "colab": {
          "base_uri": "https://localhost:8080/"
        },
        "id": "maKUO2iUwN-F",
        "outputId": "3708d939-17e5-4ca0-bfc9-d0f1ce109211"
      },
      "execution_count": 10,
      "outputs": [
        {
          "output_type": "stream",
          "name": "stdout",
          "text": [
            "\n",
            "Question 9: Calculate simple interest: Principal=2500, Rate=6.5%, Time=2.5 years\n",
            "406.25\n"
          ]
        }
      ]
    },
    {
      "cell_type": "code",
      "source": [
        "# Question 10: Convert 45.7 degrees to radians\n",
        "print(\"\\nQuestion 10: Convert 45.7 degrees to radians\")\n",
        "import math\n",
        "\n",
        "# Degrees\n",
        "degrees = 45.7\n",
        "\n",
        "# Convert to radians\n",
        "radians = math.radians(degrees)\n",
        "\n",
        "# Print result\n",
        "print(f\"{degrees} degrees is equal to {radians:.3f} radians\")"
      ],
      "metadata": {
        "colab": {
          "base_uri": "https://localhost:8080/"
        },
        "id": "z3mw0eXbwN5U",
        "outputId": "e8d83f49-b8da-4b9b-fdfa-1e6da11d4a6c"
      },
      "execution_count": 12,
      "outputs": [
        {
          "output_type": "stream",
          "name": "stdout",
          "text": [
            "\n",
            "Question 10: Convert 45.7 degrees to radians\n",
            "45.7 degrees is equal to 0.798 radians\n"
          ]
        }
      ]
    },
    {
      "cell_type": "code",
      "source": [],
      "metadata": {
        "id": "AAs1RBb8wN2-"
      },
      "execution_count": null,
      "outputs": []
    },
    {
      "cell_type": "code",
      "source": [],
      "metadata": {
        "id": "hS5l-8JHwN0a"
      },
      "execution_count": null,
      "outputs": []
    }
  ]
}