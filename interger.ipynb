{
  "nbformat": 4,
  "nbformat_minor": 0,
  "metadata": {
    "colab": {
      "provenance": []
    },
    "kernelspec": {
      "name": "python3",
      "display_name": "Python 3"
    },
    "language_info": {
      "name": "python"
    }
  },
  "cells": [
    {
      "cell_type": "code",
      "execution_count": 1,
      "metadata": {
        "colab": {
          "base_uri": "https://localhost:8080/"
        },
        "id": "zsvswCWyw8vr",
        "outputId": "a6d81382-ac09-442b-ecac-00d959f80e63"
      },
      "outputs": [
        {
          "output_type": "stream",
          "name": "stdout",
          "text": [
            "Question 1: Calculate the product of first 10 natural numbers\n",
            "3628800\n"
          ]
        }
      ],
      "source": [
        "# Question 1: Calculate the product of first 10 natural numbers\n",
        "print(\"Question 1: Calculate the product of first 10 natural numbers\")\n",
        "\n",
        "product = 1\n",
        "for i in range(1, 11):\n",
        "  product *= i\n",
        "\n",
        "print(product)"
      ]
    },
    {
      "cell_type": "code",
      "source": [
        "# Question 2: Find the remainder when 156 is divided by 7\n",
        "print(\"\\nQuestion 2: Find the remainder when 156 is divided by 7\")\n",
        "\n",
        "reminder = 156 % 7\n",
        "reminder"
      ],
      "metadata": {
        "colab": {
          "base_uri": "https://localhost:8080/"
        },
        "id": "C2KoIg1SxNce",
        "outputId": "b83c2578-b82b-42e9-e3fd-a2752331aaca"
      },
      "execution_count": 2,
      "outputs": [
        {
          "output_type": "stream",
          "name": "stdout",
          "text": [
            "\n",
            "Question 2: Find the remainder when 156 is divided by 7\n"
          ]
        },
        {
          "output_type": "execute_result",
          "data": {
            "text/plain": [
              "2"
            ]
          },
          "metadata": {},
          "execution_count": 2
        }
      ]
    },
    {
      "cell_type": "code",
      "source": [
        "# Question 3: Calculate the square of 25\n",
        "print(\"\\nQuestion 3: Calculate the square of 25\")\n",
        "squaure = 25 ** 2\n",
        "squaure"
      ],
      "metadata": {
        "colab": {
          "base_uri": "https://localhost:8080/"
        },
        "id": "HoqK2JjaxVKD",
        "outputId": "4c03b3ec-5bb8-4ce9-eb0c-be42ddec8e30"
      },
      "execution_count": 3,
      "outputs": [
        {
          "output_type": "stream",
          "name": "stdout",
          "text": [
            "\n",
            "Question 3: Calculate the square of 25\n"
          ]
        },
        {
          "output_type": "execute_result",
          "data": {
            "text/plain": [
              "625"
            ]
          },
          "metadata": {},
          "execution_count": 3
        }
      ]
    },
    {
      "cell_type": "code",
      "source": [
        "# Question 4: Find the cube root of 125\n",
        "print(\"\\nQuestion 4: Find the cube root of 125\")\n",
        "125**3"
      ],
      "metadata": {
        "colab": {
          "base_uri": "https://localhost:8080/"
        },
        "id": "jTl9ggaLxlSu",
        "outputId": "5aafd6c7-7380-4fa5-8b8d-71e50a523fca"
      },
      "execution_count": 4,
      "outputs": [
        {
          "output_type": "stream",
          "name": "stdout",
          "text": [
            "\n",
            "Question 4: Find the cube root of 125\n"
          ]
        },
        {
          "output_type": "execute_result",
          "data": {
            "text/plain": [
              "1953125"
            ]
          },
          "metadata": {},
          "execution_count": 4
        }
      ]
    },
    {
      "cell_type": "code",
      "source": [
        "# Question 5: Calculate the sum of digits in number 12345\n",
        "print(\"\\nQuestion 5: Calculate the sum of digits in number 12345\")\n",
        "num =[1,2,3,4,5]\n",
        "sum = 0\n",
        "for i in num:\n",
        "  sum += i\n",
        "print(\"sum of digits =\" ,sum)"
      ],
      "metadata": {
        "colab": {
          "base_uri": "https://localhost:8080/"
        },
        "id": "koahj6Guxktf",
        "outputId": "c0ad1b70-fc93-4303-934d-28ddc8d80a81"
      },
      "execution_count": 5,
      "outputs": [
        {
          "output_type": "stream",
          "name": "stdout",
          "text": [
            "\n",
            "Question 5: Calculate the sum of digits in number 12345\n",
            "sum of digits = 15\n"
          ]
        }
      ]
    },
    {
      "cell_type": "markdown",
      "source": [
        "# Question 4: Find the cube root of 125\n",
        "print(\"\\nQuestion 4: Find the cube root of 125\")\n",
        "125**3"
      ],
      "metadata": {
        "id": "QSaQrpbwxgIB"
      }
    },
    {
      "cell_type": "code",
      "source": [
        "\n",
        "from google.colab import drive\n",
        "drive.mount('/content/drive')"
      ],
      "metadata": {
        "colab": {
          "base_uri": "https://localhost:8080/",
          "height": 339
        },
        "id": "W3OF3Ic0xN59",
        "outputId": "e4286e5b-3f5f-4989-a561-258d90e0c744"
      },
      "execution_count": 6,
      "outputs": [
        {
          "output_type": "error",
          "ename": "ValueError",
          "evalue": "mount failed",
          "traceback": [
            "\u001b[0;31m---------------------------------------------------------------------------\u001b[0m",
            "\u001b[0;31mValueError\u001b[0m                                Traceback (most recent call last)",
            "\u001b[0;32m/tmp/ipython-input-589980250.py\u001b[0m in \u001b[0;36m<cell line: 0>\u001b[0;34m()\u001b[0m\n\u001b[1;32m      1\u001b[0m \u001b[0;32mfrom\u001b[0m \u001b[0mgoogle\u001b[0m\u001b[0;34m.\u001b[0m\u001b[0mcolab\u001b[0m \u001b[0;32mimport\u001b[0m \u001b[0mdrive\u001b[0m\u001b[0;34m\u001b[0m\u001b[0;34m\u001b[0m\u001b[0m\n\u001b[0;32m----> 2\u001b[0;31m \u001b[0mdrive\u001b[0m\u001b[0;34m.\u001b[0m\u001b[0mmount\u001b[0m\u001b[0;34m(\u001b[0m\u001b[0;34m'/content/drive'\u001b[0m\u001b[0;34m)\u001b[0m\u001b[0;34m\u001b[0m\u001b[0;34m\u001b[0m\u001b[0m\n\u001b[0m",
            "\u001b[0;32m/usr/local/lib/python3.12/dist-packages/google/colab/drive.py\u001b[0m in \u001b[0;36mmount\u001b[0;34m(mountpoint, force_remount, timeout_ms, readonly)\u001b[0m\n\u001b[1;32m     95\u001b[0m \u001b[0;32mdef\u001b[0m \u001b[0mmount\u001b[0m\u001b[0;34m(\u001b[0m\u001b[0mmountpoint\u001b[0m\u001b[0;34m,\u001b[0m \u001b[0mforce_remount\u001b[0m\u001b[0;34m=\u001b[0m\u001b[0;32mFalse\u001b[0m\u001b[0;34m,\u001b[0m \u001b[0mtimeout_ms\u001b[0m\u001b[0;34m=\u001b[0m\u001b[0;36m120000\u001b[0m\u001b[0;34m,\u001b[0m \u001b[0mreadonly\u001b[0m\u001b[0;34m=\u001b[0m\u001b[0;32mFalse\u001b[0m\u001b[0;34m)\u001b[0m\u001b[0;34m:\u001b[0m\u001b[0;34m\u001b[0m\u001b[0;34m\u001b[0m\u001b[0m\n\u001b[1;32m     96\u001b[0m   \u001b[0;34m\"\"\"Mount your Google Drive at the specified mountpoint path.\"\"\"\u001b[0m\u001b[0;34m\u001b[0m\u001b[0;34m\u001b[0m\u001b[0m\n\u001b[0;32m---> 97\u001b[0;31m   return _mount(\n\u001b[0m\u001b[1;32m     98\u001b[0m       \u001b[0mmountpoint\u001b[0m\u001b[0;34m,\u001b[0m\u001b[0;34m\u001b[0m\u001b[0;34m\u001b[0m\u001b[0m\n\u001b[1;32m     99\u001b[0m       \u001b[0mforce_remount\u001b[0m\u001b[0;34m=\u001b[0m\u001b[0mforce_remount\u001b[0m\u001b[0;34m,\u001b[0m\u001b[0;34m\u001b[0m\u001b[0;34m\u001b[0m\u001b[0m\n",
            "\u001b[0;32m/usr/local/lib/python3.12/dist-packages/google/colab/drive.py\u001b[0m in \u001b[0;36m_mount\u001b[0;34m(mountpoint, force_remount, timeout_ms, ephemeral, readonly)\u001b[0m\n\u001b[1;32m    270\u001b[0m             \u001b[0;34m'https://research.google.com/colaboratory/faq.html#drive-timeout'\u001b[0m\u001b[0;34m\u001b[0m\u001b[0;34m\u001b[0m\u001b[0m\n\u001b[1;32m    271\u001b[0m         )\n\u001b[0;32m--> 272\u001b[0;31m       \u001b[0;32mraise\u001b[0m \u001b[0mValueError\u001b[0m\u001b[0;34m(\u001b[0m\u001b[0;34m'mount failed'\u001b[0m \u001b[0;34m+\u001b[0m \u001b[0mextra_reason\u001b[0m\u001b[0;34m)\u001b[0m\u001b[0;34m\u001b[0m\u001b[0;34m\u001b[0m\u001b[0m\n\u001b[0m\u001b[1;32m    273\u001b[0m     \u001b[0;32melif\u001b[0m \u001b[0mcase\u001b[0m \u001b[0;34m==\u001b[0m \u001b[0;36m4\u001b[0m\u001b[0;34m:\u001b[0m\u001b[0;34m\u001b[0m\u001b[0;34m\u001b[0m\u001b[0m\n\u001b[1;32m    274\u001b[0m       \u001b[0;31m# Terminate the DriveFS binary before killing bash.\u001b[0m\u001b[0;34m\u001b[0m\u001b[0;34m\u001b[0m\u001b[0m\n",
            "\u001b[0;31mValueError\u001b[0m: mount failed"
          ]
        }
      ]
    },
    {
      "cell_type": "markdown",
      "source": [
        "# Question 6: Check if 97 is a prime number\n",
        "print(\"\\nQuestion 6: Check if 97 is a prime number\")\n",
        "num = 97\n",
        "for i in range (2,num):\n",
        "  if (num%i ==0):\n",
        "    print(f\"{num} is not a prime number\")\n",
        "  else:\n",
        "    print(f\"{num} is a prime number\")# Question 6: Check if 97 is a prime number\n",
        "print(\"\\nQuestion 6: Check if 97 is a prime number\")\n",
        "num = 97\n",
        "for i in range (2,num):\n",
        "  if (num%i ==0):\n",
        "    print(f\"{num} is not a prime number\")\n",
        "  else:\n",
        "    print(f\"{num} is a prime number\")# Question 6: Check if 97 is a prime number\n",
        "print(\"\\nQuestion 6: Check if 97 is a prime number\")\n",
        "num = 97\n",
        "for i in range (2,num):\n",
        "  if (num%i ==0):\n",
        "    print(f\"{num} is not a prime number\")\n",
        "  else:\n",
        "    print(f\"{num} is a prime number\")# Question 6: Check if 97 is a prime number\n",
        "print(\"\\nQuestion 6: Check if 97 is a prime number\")\n",
        "num = 97\n",
        "for i in range (2,num):\n",
        "  if (num%i ==0):\n",
        "    print(f\"{num} is not a prime number\")\n",
        "  else:\n",
        "    print(f\"{num} is a prime number\")# Question 6: Check if 97 is a prime number\n",
        "print(\"\\nQuestion 6: Check if 97 is a prime number\")\n",
        "num = 97\n",
        "for i in range (2,num):\n",
        "  if (num%i ==0):\n",
        "    print(f\"{num} is not a prime number\")\n",
        "  else:\n",
        "    print(f\"{num} is a prime number\")# Question 6: Check if 97 is a prime number\n",
        "print(\"\\nQuestion 6: Check if 97 is a prime number\")\n",
        "num = 97\n",
        "for i in range (2,num):\n",
        "  if (num%i ==0):\n",
        "    print(f\"{num} is not a prime number\")\n",
        "  else:\n",
        "    print(f\"{num} is a prime number\")# Question 6: Check if 97 is a prime number\n",
        "print(\"\\nQuestion 6: Check if 97 is a prime number\")\n",
        "num = 97\n",
        "for i in range (2,num):\n",
        "  if (num%i ==0):\n",
        "    print(f\"{num} is not a prime number\")\n",
        "  else:\n",
        "    print(f\"{num} is a prime number\")# Question 6: Check if 97 is a prime number\n",
        "print(\"\\nQuestion 6: Check if 97 is a prime number\")\n",
        "num = 97\n",
        "for i in range (2,num):\n",
        "  if (num%i ==0):\n",
        "    print(f\"{num} is not a prime number\")\n",
        "  else:\n",
        "    print(f\"{num} is a prime number\")# Question 6: Check if 97 is a prime number\n",
        "print(\"\\nQuestion 6: Check if 97 is a prime number\")\n",
        "num = 97\n",
        "for i in range (2,num):\n",
        "  if (num%i ==0):\n",
        "    print(f\"{num} is not a prime number\")\n",
        "  else:\n",
        "    print(f\"{num} is a prime number\")\n",
        "\n",
        "```\n",
        "# This is formatted as code\n",
        "```\n",
        "\n"
      ],
      "metadata": {
        "id": "uu5tuCwhyfVQ"
      }
    },
    {
      "cell_type": "code",
      "source": [
        "# Question 6: Check if 97 is a prime number\n",
        "print(\"\\nQuestion 6: Check if 97 is a prime number\")\n",
        "num = 97\n",
        "for i in range (2,num):\n",
        "  if (num%i ==0):\n",
        "    print(f\"{num} is not a prime number\")\n",
        "  else:\n",
        "    print(f\"{num} is a prime number\")"
      ],
      "metadata": {
        "colab": {
          "base_uri": "https://localhost:8080/"
        },
        "id": "ITlP_gvExOXs",
        "outputId": "f079ede1-c4b5-40c8-c25f-f71010a985fa"
      },
      "execution_count": 7,
      "outputs": [
        {
          "output_type": "stream",
          "name": "stdout",
          "text": [
            "\n",
            "Question 6: Check if 97 is a prime number\n",
            "97 is a prime number\n",
            "97 is a prime number\n",
            "97 is a prime number\n",
            "97 is a prime number\n",
            "97 is a prime number\n",
            "97 is a prime number\n",
            "97 is a prime number\n",
            "97 is a prime number\n",
            "97 is a prime number\n",
            "97 is a prime number\n",
            "97 is a prime number\n",
            "97 is a prime number\n",
            "97 is a prime number\n",
            "97 is a prime number\n",
            "97 is a prime number\n",
            "97 is a prime number\n",
            "97 is a prime number\n",
            "97 is a prime number\n",
            "97 is a prime number\n",
            "97 is a prime number\n",
            "97 is a prime number\n",
            "97 is a prime number\n",
            "97 is a prime number\n",
            "97 is a prime number\n",
            "97 is a prime number\n",
            "97 is a prime number\n",
            "97 is a prime number\n",
            "97 is a prime number\n",
            "97 is a prime number\n",
            "97 is a prime number\n",
            "97 is a prime number\n",
            "97 is a prime number\n",
            "97 is a prime number\n",
            "97 is a prime number\n",
            "97 is a prime number\n",
            "97 is a prime number\n",
            "97 is a prime number\n",
            "97 is a prime number\n",
            "97 is a prime number\n",
            "97 is a prime number\n",
            "97 is a prime number\n",
            "97 is a prime number\n",
            "97 is a prime number\n",
            "97 is a prime number\n",
            "97 is a prime number\n",
            "97 is a prime number\n",
            "97 is a prime number\n",
            "97 is a prime number\n",
            "97 is a prime number\n",
            "97 is a prime number\n",
            "97 is a prime number\n",
            "97 is a prime number\n",
            "97 is a prime number\n",
            "97 is a prime number\n",
            "97 is a prime number\n",
            "97 is a prime number\n",
            "97 is a prime number\n",
            "97 is a prime number\n",
            "97 is a prime number\n",
            "97 is a prime number\n",
            "97 is a prime number\n",
            "97 is a prime number\n",
            "97 is a prime number\n",
            "97 is a prime number\n",
            "97 is a prime number\n",
            "97 is a prime number\n",
            "97 is a prime number\n",
            "97 is a prime number\n",
            "97 is a prime number\n",
            "97 is a prime number\n",
            "97 is a prime number\n",
            "97 is a prime number\n",
            "97 is a prime number\n",
            "97 is a prime number\n",
            "97 is a prime number\n",
            "97 is a prime number\n",
            "97 is a prime number\n",
            "97 is a prime number\n",
            "97 is a prime number\n",
            "97 is a prime number\n",
            "97 is a prime number\n",
            "97 is a prime number\n",
            "97 is a prime number\n",
            "97 is a prime number\n",
            "97 is a prime number\n",
            "97 is a prime number\n",
            "97 is a prime number\n",
            "97 is a prime number\n",
            "97 is a prime number\n",
            "97 is a prime number\n",
            "97 is a prime number\n",
            "97 is a prime number\n",
            "97 is a prime number\n",
            "97 is a prime number\n",
            "97 is a prime number\n"
          ]
        }
      ]
    },
    {
      "cell_type": "code",
      "source": [
        "# Question 7: Find the factorial of 8\n",
        "print(\"\\nQuestion 7: Find the factorial of 8\")\n",
        "# Your code here\n",
        "fact=1\n",
        "for i in range(1,9):\n",
        "  fact*=i\n",
        "print(\"factorial of 8 is\",fact)"
      ],
      "metadata": {
        "colab": {
          "base_uri": "https://localhost:8080/"
        },
        "id": "NyR8gJLNyyj8",
        "outputId": "193b887c-6e0a-40df-ad2e-293903b66021"
      },
      "execution_count": 8,
      "outputs": [
        {
          "output_type": "stream",
          "name": "stdout",
          "text": [
            "\n",
            "Question 7: Find the factorial of 8\n",
            "factorial of 8 is 40320\n"
          ]
        }
      ]
    },
    {
      "cell_type": "code",
      "source": [
        "# Question 8: Calculate the average of numbers: 15, 23, 31, 42, 56\n",
        "print(\"\\nQuestion 8: Calculate the average of numbers: 15, 23, 31, 42, 56\")\n",
        "num=[15,23,31,42,56]\n",
        "sum = 0\n",
        "avgage = 0\n",
        "for i in num:\n",
        "  sum += i\n",
        "avrage=(sum/len(num))\n",
        "print (avrage)"
      ],
      "metadata": {
        "colab": {
          "base_uri": "https://localhost:8080/"
        },
        "id": "4eYphwvyyyUV",
        "outputId": "040925a9-3a92-4a41-e048-bcaa6848e31b"
      },
      "execution_count": 9,
      "outputs": [
        {
          "output_type": "stream",
          "name": "stdout",
          "text": [
            "\n",
            "Question 8: Calculate the average of numbers: 15, 23, 31, 42, 56\n",
            "33.4\n"
          ]
        }
      ]
    },
    {
      "cell_type": "code",
      "source": [
        "# Question 9: Find the greatest common divisor (GCD) of 48 and 36\n",
        "def gcd_visual(a, b):\n",
        "    print(f\"Finding GCD of {a} and {b}\")\n",
        "    while b != 0:\n",
        "        print(f\"{a} = {b} * ({a // b}) + {a % b}\")\n",
        "        a, b = b, a % b\n",
        "    print(f\"GCD is {a}\")\n",
        "    return a\n",
        "\n",
        "gcd_visual(48, 36)"
      ],
      "metadata": {
        "colab": {
          "base_uri": "https://localhost:8080/"
        },
        "id": "JuveEeeeyyI6",
        "outputId": "7efbb29d-ee32-40af-a56d-791273ccb24d"
      },
      "execution_count": 10,
      "outputs": [
        {
          "output_type": "stream",
          "name": "stdout",
          "text": [
            "Finding GCD of 48 and 36\n",
            "48 = 36 * (1) + 12\n",
            "36 = 12 * (3) + 0\n",
            "GCD is 12\n"
          ]
        },
        {
          "output_type": "execute_result",
          "data": {
            "text/plain": [
              "12"
            ]
          },
          "metadata": {},
          "execution_count": 10
        }
      ]
    },
    {
      "cell_type": "code",
      "source": [
        "# Question 10: Calculate the sum of first 20 odd numbers\n",
        "#print(\"\\nQuestion 10: Calculate the sum of first 20 odd numbers\")\n",
        "print(\"\\nQuestion 10: Calculate the sum of first 20 odd numbers\")\n",
        "\n",
        "# Method 1: Using a loop\n",
        "sum_odd = 0\n",
        "count = 0\n",
        "num = 1\n",
        "\n",
        "while count < 20:\n",
        "    sum_odd += num\n",
        "    num += 2\n",
        "    count += 1\n",
        "\n",
        "print(f\"Sum of first 20 odd numbers is: {sum_odd}\")"
      ],
      "metadata": {
        "colab": {
          "base_uri": "https://localhost:8080/"
        },
        "id": "WUJy80xqzFJ6",
        "outputId": "dec4ad88-dffb-4ae5-c3ed-b947166f94a1"
      },
      "execution_count": 11,
      "outputs": [
        {
          "output_type": "stream",
          "name": "stdout",
          "text": [
            "\n",
            "Question 10: Calculate the sum of first 20 odd numbers\n",
            "Sum of first 20 odd numbers is: 400\n"
          ]
        }
      ]
    }
  ]
}